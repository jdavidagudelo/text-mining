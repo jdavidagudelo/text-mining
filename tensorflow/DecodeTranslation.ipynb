{
 "cells": [
  {
   "cell_type": "code",
   "execution_count": 1,
   "metadata": {},
   "outputs": [],
   "source": [
    "def merge_parallel_data(f1, f2, merged):\n",
    "    with open(f1, 'rb') as f:\n",
    "        with open(f2, 'rb') as g:\n",
    "            with open(merged, 'wb') as merged:\n",
    "                for (en, es) in zip(f, g):\n",
    "                    en = en.strip()\n",
    "                    es = es.strip()\n",
    "                    data = b'%s\\t%s\\n'%(en, es)\n",
    "                    merged.write(data)"
   ]
  },
  {
   "cell_type": "code",
   "execution_count": 2,
   "metadata": {},
   "outputs": [],
   "source": [
    "merge_parallel_data('datasets/es-en/europarl-v7.es-en.en', 'datasets/es-en/europarl-v7.es-en.es', 'datasets/es-en/merged.txt')"
   ]
  },
  {
   "cell_type": "code",
   "execution_count": 3,
   "metadata": {},
   "outputs": [],
   "source": [
    "max_length_input = 20\n",
    "max_length_target = 17"
   ]
  },
  {
   "cell_type": "code",
   "execution_count": 16,
   "metadata": {},
   "outputs": [],
   "source": [
    "def append_line_to_list(line, data):\n",
    "    line = line.strip()\n",
    "    split = line.split(b'\\t')\n",
    "    if len(split) > 1:\n",
    "        input_text = split[0]\n",
    "        target_text = split[1]\n",
    "        if len(input_text) <= max_length_input and len(target_text) <= max_length_target:\n",
    "            data.append(line)\n"
   ]
  },
  {
   "cell_type": "code",
   "execution_count": 22,
   "metadata": {},
   "outputs": [],
   "source": [
    "data = []\n",
    "with open('datasets/es-en/merged.txt', 'rb') as f:\n",
    "    for line in f:\n",
    "        data.append(line)"
   ]
  },
  {
   "cell_type": "code",
   "execution_count": 31,
   "metadata": {},
   "outputs": [],
   "source": [
    "text = data[100001]"
   ]
  },
  {
   "cell_type": "code",
   "execution_count": 33,
   "metadata": {},
   "outputs": [],
   "source": [
    "text = text.decode()"
   ]
  },
  {
   "cell_type": "code",
   "execution_count": 34,
   "metadata": {},
   "outputs": [
    {
     "data": {
      "text/plain": [
       "'Then the five other legislative proposals are on the line, following the unlocking of the European company texts: the three twin statutes for cooperatives, mutual societies and associations and the draft directives on trans-national mergers and transfers of the registered offices of companies from one Member State to another.\\tDespués vienen las otras cinco propuestas legislativas, tras el desbloqueo de los textos sobre la sociedad europea: los tres estatutos vinculados correspondientes a las cooperativas, las mutuas y las asociaciones y los proyectos de directivas relativas a las operaciones de concentración entre empresas transnacionales y a los traslados de los domicilios sociales de empresas de un Estado miembro a otro.\\n'"
      ]
     },
     "execution_count": 34,
     "metadata": {},
     "output_type": "execute_result"
    }
   ],
   "source": [
    "text"
   ]
  },
  {
   "cell_type": "code",
   "execution_count": 35,
   "metadata": {},
   "outputs": [],
   "source": [
    "text = text.strip()"
   ]
  },
  {
   "cell_type": "code",
   "execution_count": 38,
   "metadata": {},
   "outputs": [],
   "source": [
    "x = text.split('\\t')[0]"
   ]
  },
  {
   "cell_type": "code",
   "execution_count": 40,
   "metadata": {},
   "outputs": [],
   "source": [
    "import nltk"
   ]
  },
  {
   "cell_type": "code",
   "execution_count": 44,
   "metadata": {},
   "outputs": [],
   "source": [
    "target_data = []\n",
    "input_data = []"
   ]
  },
  {
   "cell_type": "code",
   "execution_count": 64,
   "metadata": {},
   "outputs": [],
   "source": [
    "input_data = [d.decode().split('\\t')[1].strip() for d in data]"
   ]
  },
  {
   "cell_type": "code",
   "execution_count": 65,
   "metadata": {},
   "outputs": [
    {
     "data": {
      "text/plain": [
       "'Reanudación del período de sesiones'"
      ]
     },
     "execution_count": 65,
     "metadata": {},
     "output_type": "execute_result"
    }
   ],
   "source": [
    "input_data[0]"
   ]
  },
  {
   "cell_type": "code",
   "execution_count": 66,
   "metadata": {},
   "outputs": [],
   "source": [
    "target_data = [d.decode().split('\\t')[0].strip() for d in data]"
   ]
  },
  {
   "cell_type": "code",
   "execution_count": 72,
   "metadata": {},
   "outputs": [],
   "source": [
    "from nltk import word_tokenize, wordpunct_tokenize"
   ]
  },
  {
   "cell_type": "code",
   "execution_count": 75,
   "metadata": {},
   "outputs": [],
   "source": [
    "input_dict = set()\n",
    "for d in input_data:\n",
    "    for w in wordpunct_tokenize(d):\n",
    "        input_dict.add(w)"
   ]
  },
  {
   "cell_type": "code",
   "execution_count": 77,
   "metadata": {},
   "outputs": [
    {
     "data": {
      "text/plain": [
       "167458"
      ]
     },
     "execution_count": 77,
     "metadata": {},
     "output_type": "execute_result"
    }
   ],
   "source": [
    "len(input_dict)"
   ]
  },
  {
   "cell_type": "code",
   "execution_count": null,
   "metadata": {},
   "outputs": [],
   "source": []
  }
 ],
 "metadata": {
  "kernelspec": {
   "display_name": "Python 3",
   "language": "python",
   "name": "python3"
  },
  "language_info": {
   "codemirror_mode": {
    "name": "ipython",
    "version": 3
   },
   "file_extension": ".py",
   "mimetype": "text/x-python",
   "name": "python",
   "nbconvert_exporter": "python",
   "pygments_lexer": "ipython3",
   "version": "3.6.8rc1"
  }
 },
 "nbformat": 4,
 "nbformat_minor": 2
}
