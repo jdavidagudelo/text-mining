{
 "cells": [
  {
   "cell_type": "markdown",
   "metadata": {},
   "source": [
    "1. Create a variable phrase containing a list of words. Review the operations described in the previous chapter, including addition, multiplication, indexing, slicing, and sorting"
   ]
  },
  {
   "cell_type": "code",
   "execution_count": 2,
   "metadata": {},
   "outputs": [
    {
     "data": {
      "text/plain": [
       "['This', 'is', 'a', 'test', 'phrase', 'some', 'additional', 'staff']"
      ]
     },
     "execution_count": 2,
     "metadata": {},
     "output_type": "execute_result"
    }
   ],
   "source": [
    "phrase = ['This', 'is', 'a', 'test', 'phrase']\n",
    "phrase + ['some', 'additional', 'staff']"
   ]
  },
  {
   "cell_type": "code",
   "execution_count": 6,
   "metadata": {},
   "outputs": [
    {
     "data": {
      "text/plain": [
       "['This', 'is', 'a', 'test', 'phrase', 'This', 'is', 'a', 'test', 'phrase']"
      ]
     },
     "execution_count": 6,
     "metadata": {},
     "output_type": "execute_result"
    }
   ],
   "source": [
    "phrase * 2"
   ]
  },
  {
   "cell_type": "code",
   "execution_count": 7,
   "metadata": {},
   "outputs": [
    {
     "data": {
      "text/plain": [
       "['a', 'test', 'phrase']"
      ]
     },
     "execution_count": 7,
     "metadata": {},
     "output_type": "execute_result"
    }
   ],
   "source": [
    "phrase[2:5]"
   ]
  },
  {
   "cell_type": "code",
   "execution_count": 9,
   "metadata": {},
   "outputs": [
    {
     "data": {
      "text/plain": [
       "['This', 'a', 'is', 'phrase', 'test']"
      ]
     },
     "execution_count": 9,
     "metadata": {},
     "output_type": "execute_result"
    }
   ],
   "source": [
    "sorted(phrase)"
   ]
  },
  {
   "cell_type": "markdown",
   "metadata": {},
   "source": [
    "2. Use the corpus module to explore austen-persuasion.txt. How many word tokens does this book have? How many word types?"
   ]
  },
  {
   "cell_type": "code",
   "execution_count": 15,
   "metadata": {},
   "outputs": [
    {
     "data": {
      "text/plain": [
       "98171"
      ]
     },
     "execution_count": 15,
     "metadata": {},
     "output_type": "execute_result"
    }
   ],
   "source": [
    "from nltk.corpus import gutenberg\n",
    "persuasion_words = gutenberg.words('austen-persuasion.txt')\n",
    "len(persuasion_words)"
   ]
  },
  {
   "cell_type": "code",
   "execution_count": 19,
   "metadata": {},
   "outputs": [
    {
     "data": {
      "text/plain": [
       "3747"
      ]
     },
     "execution_count": 19,
     "metadata": {},
     "output_type": "execute_result"
    }
   ],
   "source": [
    "len(gutenberg.sents('austen-persuasion.txt'))"
   ]
  },
  {
   "cell_type": "markdown",
   "metadata": {},
   "source": [
    "3. Use the Brown corpus reader nltk.corpus.brown.words() or the Web text corpus reader nltk.corpus.webtext.words() to access some sample text in two different genres."
   ]
  },
  {
   "cell_type": "code",
   "execution_count": 20,
   "metadata": {},
   "outputs": [],
   "source": [
    "from nltk.corpus import brown"
   ]
  },
  {
   "cell_type": "code",
   "execution_count": 23,
   "metadata": {},
   "outputs": [
    {
     "data": {
      "text/plain": [
       "[('The', 'AT'), ('Fulton', 'NP-TL'), ...]"
      ]
     },
     "execution_count": 23,
     "metadata": {},
     "output_type": "execute_result"
    }
   ],
   "source": [
    "brown.tagged_words()"
   ]
  },
  {
   "cell_type": "markdown",
   "metadata": {},
   "source": [
    "4. Read in the texts of the State of the Union addresses, using the state_union corpus reader. Count occurrences of men, women, and people in each document. What has happened to the usage of these words over time?"
   ]
  },
  {
   "cell_type": "code",
   "execution_count": 49,
   "metadata": {},
   "outputs": [],
   "source": [
    "import nltk\n",
    "from nltk.corpus import inaugural\n",
    "cfd = nltk.ConditionalFreqDist(\n",
    "    (target, fileid[:4])\n",
    "    for fileid in inaugural.fileids()\n",
    "    for w in inaugural.words(fileid)\n",
    "    for target in ['men', 'women']\n",
    "    if w.lower().startswith(target))"
   ]
  },
  {
   "cell_type": "code",
   "execution_count": 58,
   "metadata": {},
   "outputs": [],
   "source": [
    "men = [(int(f), cfd['men'][f]) for f in cfd['men']]\n",
    "women = [(int(f), cfd['women'][f]) for f in cfd['women']]"
   ]
  },
  {
   "cell_type": "code",
   "execution_count": 65,
   "metadata": {},
   "outputs": [],
   "source": [
    "import matplotlib.pyplot as plt\n",
    "x_men = [x[0] for x in men]\n",
    "y_men = [x[1] for x in men]\n",
    "x_women = [x[0] for x in women]\n",
    "y_women = [x[1] for x in women]"
   ]
  },
  {
   "cell_type": "code",
   "execution_count": 68,
   "metadata": {},
   "outputs": [
    {
     "data": {
      "text/plain": [
       "[<matplotlib.lines.Line2D at 0x1e131a52358>]"
      ]
     },
     "execution_count": 68,
     "metadata": {},
     "output_type": "execute_result"
    },
    {
     "data": {
      "image/png": "[encoded data removed]",
      "text/plain": [
       "<Figure size 432x288 with 1 Axes>"
      ]
     },
     "metadata": {
      "needs_background": "light"
     },
     "output_type": "display_data"
    }
   ],
   "source": [
    "plt.plot(x_men, y_men)\n",
    "plt.plot(x_women, y_women)"
   ]
  },
  {
   "cell_type": "markdown",
   "metadata": {},
   "source": [
    "8. Define a conditional frequency distribution over the Names corpus that allows you to see which initial letters are more frequent for males vs females"
   ]
  },
  {
   "cell_type": "code",
   "execution_count": 83,
   "metadata": {},
   "outputs": [],
   "source": [
    "from nltk.corpus import names\n",
    "import nltk\n",
    "import string\n",
    "\n",
    "cfd = nltk.ConditionalFreqDist(\n",
    "    (target, fileid)\n",
    "    for fileid in names.fileids()\n",
    "    for w in names.words(fileid)\n",
    "    for target in string.ascii_letters\n",
    "    if w.lower().startswith(target))"
   ]
  },
  {
   "cell_type": "code",
   "execution_count": 84,
   "metadata": {},
   "outputs": [
    {
     "data": {
      "text/plain": [
       "<bound method ConditionalFreqDist.conditions of <ConditionalFreqDist with 26 conditions>>"
      ]
     },
     "execution_count": 84,
     "metadata": {},
     "output_type": "execute_result"
    }
   ],
   "source": [
    "cfd.conditions"
   ]
  },
  {
   "cell_type": "code",
   "execution_count": 101,
   "metadata": {},
   "outputs": [
    {
     "data": {
      "text/plain": [
       "FreqDist({'female.txt': 443, 'male.txt': 213})"
      ]
     },
     "execution_count": 101,
     "metadata": {},
     "output_type": "execute_result"
    }
   ],
   "source": [
    "cfd['a']"
   ]
  },
  {
   "cell_type": "markdown",
   "metadata": {},
   "source": [
    "Write a program to find all words that occur at least three times in the Brown Corpus."
   ]
  },
  {
   "cell_type": "code",
   "execution_count": 102,
   "metadata": {},
   "outputs": [],
   "source": [
    "from nltk.corpus import brown"
   ]
  },
  {
   "cell_type": "code",
   "execution_count": 106,
   "metadata": {},
   "outputs": [],
   "source": [
    "words = brown.words()"
   ]
  },
  {
   "cell_type": "code",
   "execution_count": 107,
   "metadata": {},
   "outputs": [],
   "source": [
    "from nltk import FreqDist"
   ]
  },
  {
   "cell_type": "code",
   "execution_count": 109,
   "metadata": {},
   "outputs": [],
   "source": [
    "dist = FreqDist(words)"
   ]
  },
  {
   "cell_type": "code",
   "execution_count": 110,
   "metadata": {},
   "outputs": [
    {
     "data": {
      "text/plain": [
       "FreqDist({'the': 62713, ',': 58334, '.': 49346, 'of': 36080, 'and': 27915, 'to': 25732, 'a': 21881, 'in': 19536, 'that': 10237, 'is': 10011, ...})"
      ]
     },
     "execution_count": 110,
     "metadata": {},
     "output_type": "execute_result"
    }
   ],
   "source": [
    "dist"
   ]
  },
  {
   "cell_type": "code",
   "execution_count": 114,
   "metadata": {},
   "outputs": [],
   "source": [
    "words = set(words)\n",
    "frequent_words = [w for w in words if dist[w] >= 3]"
   ]
  },
  {
   "cell_type": "code",
   "execution_count": 115,
   "metadata": {},
   "outputs": [
    {
     "data": {
      "text/plain": [
       "['disruptive',\n",
       " 'cheer',\n",
       " 'Naples',\n",
       " 'executives',\n",
       " 'affect',\n",
       " 'unmistakably',\n",
       " 'subjugation',\n",
       " 'bloat',\n",
       " 'reckoned',\n",
       " 'grinders',\n",
       " 'envied',\n",
       " 'lax',\n",
       " 'Lyon',\n",
       " 'snapping',\n",
       " 'enroll',\n",
       " 'F.',\n",
       " \"Batista's\",\n",
       " 'generalization',\n",
       " 'playwright',\n",
       " 'Hamm',\n",
       " 'canceled',\n",
       " 'Hudson',\n",
       " 'debated',\n",
       " 'operative',\n",
       " 'borders',\n",
       " 'petty',\n",
       " 'spouses',\n",
       " 'Fletcher',\n",
       " 'Cubans',\n",
       " 'homesteaders',\n",
       " '8th',\n",
       " 'shortsighted',\n",
       " 'enthusiastically',\n",
       " 'blasphemy',\n",
       " 'tenacity',\n",
       " 'warrior',\n",
       " 'Heydrich',\n",
       " 'broadly',\n",
       " 'raged',\n",
       " 'backward',\n",
       " 'insisting',\n",
       " 'crude',\n",
       " 'dynamite',\n",
       " 'Parsons',\n",
       " 'tarnished',\n",
       " 'Hotel',\n",
       " 'crackers',\n",
       " 'clarifying',\n",
       " 'park',\n",
       " 'Due',\n",
       " 'Springs',\n",
       " 'depending',\n",
       " 'Felix',\n",
       " 'thyroid-stimulating',\n",
       " 'invented',\n",
       " 'tracts',\n",
       " 'explosion',\n",
       " 'Born',\n",
       " 'log',\n",
       " 'suffice',\n",
       " 'bandages',\n",
       " 'tone',\n",
       " 'benevolence',\n",
       " 'diagonalizable',\n",
       " 'Deacon',\n",
       " 'accidents',\n",
       " 'staunchest',\n",
       " 'Indians',\n",
       " 'grasped',\n",
       " 'outrigger',\n",
       " 'tapes',\n",
       " 'Mrad',\n",
       " 'ensued',\n",
       " 'irrigation',\n",
       " 'Moscow',\n",
       " 'one-',\n",
       " 'Porto',\n",
       " 'Countries',\n",
       " \"lieutenant's\",\n",
       " '1897',\n",
       " 'Chemische',\n",
       " 'Six',\n",
       " 'exactly',\n",
       " 'eliminates',\n",
       " 'Beaverton',\n",
       " 'deeper',\n",
       " 'toilet',\n",
       " 'carrier',\n",
       " 'gradients',\n",
       " 'vary',\n",
       " 'applauded',\n",
       " 'Communism',\n",
       " 'travels',\n",
       " 'infrared',\n",
       " 'mining',\n",
       " 'easing',\n",
       " 'readings',\n",
       " 'thousands',\n",
       " 'echo',\n",
       " 'Ramsey',\n",
       " 'Ave.',\n",
       " 'patch',\n",
       " 'handicap',\n",
       " 'title',\n",
       " 'Milk',\n",
       " 'conflicts',\n",
       " 'co-optation',\n",
       " 'dived',\n",
       " 'inscrutable',\n",
       " 'disturbance',\n",
       " 'organic',\n",
       " 'embodied',\n",
       " 'Corinthians',\n",
       " 'Shot',\n",
       " 'Northfield',\n",
       " 'shiny',\n",
       " 'trailing',\n",
       " 'luxuries',\n",
       " 'oxidation',\n",
       " 'Creighton',\n",
       " 'affectionate',\n",
       " 'exquisitely',\n",
       " 'Picasso',\n",
       " 'bizarre',\n",
       " 'interstate',\n",
       " 'powerful',\n",
       " 'aborigines',\n",
       " 'sensibly',\n",
       " 'enactment',\n",
       " 'hips',\n",
       " 'impoverished',\n",
       " 'Essentially',\n",
       " 'Maude',\n",
       " 'conveyor',\n",
       " 'hastily',\n",
       " 'neutrophils',\n",
       " \"Izaak's\",\n",
       " 'regarded',\n",
       " 'amused',\n",
       " 'Dept.',\n",
       " 'consoles',\n",
       " 'Campbell',\n",
       " 'deep-set',\n",
       " 'Rifle',\n",
       " 'Book',\n",
       " 'Iowa',\n",
       " 'pot',\n",
       " 'exhibits',\n",
       " 'Lippmann',\n",
       " 'measurements',\n",
       " 'inspired',\n",
       " 'chemicals',\n",
       " 'pilot',\n",
       " 'tool',\n",
       " 'provisional',\n",
       " 'silences',\n",
       " 'tumors',\n",
       " 'speculate',\n",
       " 'Human',\n",
       " 'porous',\n",
       " 'smoothly',\n",
       " 'attackers',\n",
       " 'lavatory',\n",
       " 'salient',\n",
       " 'method',\n",
       " 'campaigning',\n",
       " 'wording',\n",
       " 'prescribed',\n",
       " 'hottest',\n",
       " 'nominee',\n",
       " 'frauds',\n",
       " 'supplement',\n",
       " \"female's\",\n",
       " 'instance',\n",
       " 'consult',\n",
       " \"Berlin's\",\n",
       " 'Writers',\n",
       " 'origins',\n",
       " 'week',\n",
       " 'classified',\n",
       " 'Dunn',\n",
       " 'paired',\n",
       " 'turtle',\n",
       " 'resultant',\n",
       " 'paneling',\n",
       " \"Kennan's\",\n",
       " 'overlooks',\n",
       " 'manometer',\n",
       " 'bureaucratic',\n",
       " 'rung',\n",
       " 'willy-nilly',\n",
       " 'Ariadne',\n",
       " 'arts',\n",
       " 'certified',\n",
       " 'ruled',\n",
       " 'Parts',\n",
       " 'fit',\n",
       " \"I've\",\n",
       " 'enhance',\n",
       " 'curriculum',\n",
       " 'burst',\n",
       " 'Doaty',\n",
       " \"horses'\",\n",
       " 'admired',\n",
       " 'man',\n",
       " 'blossom',\n",
       " 'alabaster',\n",
       " 'disease',\n",
       " \"years'\",\n",
       " 'longer',\n",
       " 'England',\n",
       " 'unsigned',\n",
       " 'surname',\n",
       " 'Jaycees',\n",
       " 'Count',\n",
       " 'radios',\n",
       " 'Netherlands',\n",
       " 'Aegean',\n",
       " \"Lilly's\",\n",
       " 'containing',\n",
       " 'hopefully',\n",
       " 'boast',\n",
       " 'copy',\n",
       " 'demonstrated',\n",
       " 'Buddha',\n",
       " 'horrible',\n",
       " 'Continuing',\n",
       " 'oneself',\n",
       " 'Melvin',\n",
       " 'believes',\n",
       " 'akin',\n",
       " 'erotic',\n",
       " 'raids',\n",
       " 'ineligible',\n",
       " 'scrutinizing',\n",
       " 'shook',\n",
       " 'Reform',\n",
       " 'nights',\n",
       " 'shops',\n",
       " '1937',\n",
       " 'assurances',\n",
       " 'shutters',\n",
       " 'meticulously',\n",
       " 'throng',\n",
       " 'restrained',\n",
       " 'Smithfield',\n",
       " 'threesome',\n",
       " '$2,000',\n",
       " 'hiding',\n",
       " 'Consequently',\n",
       " 'socialist',\n",
       " 'junk',\n",
       " 'shield',\n",
       " 'spell',\n",
       " 'Hal',\n",
       " 'consciously',\n",
       " 'soil',\n",
       " 'unsympathetic',\n",
       " 'silently',\n",
       " 'beast',\n",
       " 'deplores',\n",
       " 'talked',\n",
       " 'waiting',\n",
       " 'exploring',\n",
       " 'write',\n",
       " 'quill',\n",
       " 'Close',\n",
       " 'rotor',\n",
       " 'gleamed',\n",
       " 'railroad',\n",
       " 'Garry',\n",
       " 'Oklahoma',\n",
       " 'eminence',\n",
       " 'Earth',\n",
       " 'Leona',\n",
       " 'self-pity',\n",
       " 'literalness',\n",
       " 'usage',\n",
       " 'Kiz',\n",
       " 'Eastern',\n",
       " 'Bobbie',\n",
       " \"Rayburn's\",\n",
       " 'May',\n",
       " 'Constantinople',\n",
       " 'truck',\n",
       " 'gymnastics',\n",
       " \"Schubert's\",\n",
       " 'ascribed',\n",
       " 'Jews',\n",
       " 'abyss',\n",
       " 'engagement',\n",
       " 'practitioners',\n",
       " 'delights',\n",
       " 'tedious',\n",
       " 'Man',\n",
       " 'incite',\n",
       " '2.4',\n",
       " 'defeat',\n",
       " \"who'd\",\n",
       " 'taxation',\n",
       " 'Somewhat',\n",
       " 'Auditorium',\n",
       " 'nervously',\n",
       " 'ignore',\n",
       " 'phosphate',\n",
       " 'compost',\n",
       " 'torsos',\n",
       " 'in.',\n",
       " 'cults',\n",
       " 'quietness',\n",
       " 'osmotic',\n",
       " 'laughter',\n",
       " 'Stickney',\n",
       " 'Goldwater',\n",
       " 'thanked',\n",
       " 'amplitude',\n",
       " 'agricultural',\n",
       " 'ourselves',\n",
       " 'Feed',\n",
       " 'booby',\n",
       " 'paralysis',\n",
       " 'self-reliant',\n",
       " 'ellipsoids',\n",
       " 'silhouette',\n",
       " 'roundhead',\n",
       " 'disgusted',\n",
       " 'Corp.',\n",
       " 'positivism',\n",
       " 'rifle',\n",
       " 'Iliad',\n",
       " 'Hugh',\n",
       " 'spite',\n",
       " 'populations',\n",
       " 'nearly',\n",
       " 'yellow-green',\n",
       " 'Sprinkel',\n",
       " 'fly',\n",
       " 'confusions',\n",
       " 'Roger',\n",
       " 'Pony',\n",
       " 'Dynasts',\n",
       " 'favorites',\n",
       " 'Adelia',\n",
       " 'snacks',\n",
       " 'torquers',\n",
       " 'et',\n",
       " 'reduced',\n",
       " 'lurid',\n",
       " 'Membership',\n",
       " 'open-mouthed',\n",
       " 'hostages',\n",
       " 'separate',\n",
       " 'upstream',\n",
       " 'Nancy',\n",
       " 'Winthrop',\n",
       " 'slavery',\n",
       " 'equity',\n",
       " 'robberies',\n",
       " 'Grant',\n",
       " '1926',\n",
       " 'Breeding',\n",
       " 'Secondly',\n",
       " 'Alec',\n",
       " 'techniques',\n",
       " 'hurt',\n",
       " 'researcher',\n",
       " 'Della',\n",
       " 'fought',\n",
       " 'radio',\n",
       " 'buffer',\n",
       " 'bought',\n",
       " 'exceptional',\n",
       " 'immunity',\n",
       " 'spires',\n",
       " 'oust',\n",
       " 'eclectic',\n",
       " 'Palace',\n",
       " 'bowing',\n",
       " 'drama',\n",
       " 'Stein',\n",
       " 'busily',\n",
       " 'foresight',\n",
       " 'televised',\n",
       " 'survivors',\n",
       " 'thickened',\n",
       " 'Constable',\n",
       " 'Giants',\n",
       " 'ionized',\n",
       " 'Santa',\n",
       " \"Keys's\",\n",
       " 'premarital',\n",
       " 'parasympathetic',\n",
       " 'integrated',\n",
       " 'Fogg',\n",
       " 'banks',\n",
       " 'Whitney',\n",
       " 'spy',\n",
       " 'avail',\n",
       " 'downward',\n",
       " 'subtracted',\n",
       " 'men',\n",
       " 'Beethoven',\n",
       " 'expressive',\n",
       " 'spitting',\n",
       " 'sparkle',\n",
       " '3.15',\n",
       " 'bequests',\n",
       " 'reassurance',\n",
       " 'pleaded',\n",
       " 'tick',\n",
       " 'Missouri',\n",
       " 'Apollo',\n",
       " 'Puerto',\n",
       " 'Lafayette',\n",
       " 'questions',\n",
       " 'no.',\n",
       " 'verve',\n",
       " 'aerosols',\n",
       " 'information',\n",
       " 'Flemish',\n",
       " 'foreboding',\n",
       " 'activities',\n",
       " 'Thirty',\n",
       " 'documentation',\n",
       " 'slender',\n",
       " 'SMU',\n",
       " 'abolish',\n",
       " 'lightweight',\n",
       " 'mourning',\n",
       " 'appearing',\n",
       " 'proves',\n",
       " 'narrowing',\n",
       " 'up-to-date',\n",
       " 'August',\n",
       " 'sales',\n",
       " 'singly',\n",
       " 'begotten',\n",
       " 'Frederick',\n",
       " 'cigarettes',\n",
       " 'Fiorello',\n",
       " 'aside',\n",
       " 'everything',\n",
       " 'fulfilled',\n",
       " 'privacy',\n",
       " 'instead',\n",
       " 'shooting',\n",
       " 'orthography',\n",
       " 'lever',\n",
       " 'Iron',\n",
       " 'belched',\n",
       " 'catching',\n",
       " 'Museum',\n",
       " 'Solar',\n",
       " 'overthrown',\n",
       " 'stomach',\n",
       " 'carriage',\n",
       " 'louse',\n",
       " 'rehearsals',\n",
       " 'divisible',\n",
       " 'redcoats',\n",
       " 'Publication',\n",
       " 'St.',\n",
       " 'attempts',\n",
       " 'cloud',\n",
       " 'kissed',\n",
       " 'Muslim',\n",
       " 'exchanged',\n",
       " 'grade',\n",
       " 'kidney',\n",
       " 'check',\n",
       " 'proprietorship',\n",
       " \"Stanley's\",\n",
       " 'departed',\n",
       " 'buffered',\n",
       " 'glowered',\n",
       " 'novelists',\n",
       " 'spoiled',\n",
       " 'swarming',\n",
       " 'Newest',\n",
       " 'pastel',\n",
       " 'capitals',\n",
       " 'blunt',\n",
       " 'fascination',\n",
       " 'three-year',\n",
       " 'Olga',\n",
       " 'rendered',\n",
       " 'Whoever',\n",
       " 'naturalistic',\n",
       " 'tangled',\n",
       " 'ultracentrifuge',\n",
       " 'fille',\n",
       " 'dialyzed',\n",
       " 'Lewisohn',\n",
       " 'stunned',\n",
       " 'knowledge',\n",
       " 'conversely',\n",
       " 'unambiguous',\n",
       " 'details',\n",
       " 'McCullough',\n",
       " 'inch',\n",
       " 'one-fourth',\n",
       " 'scrutinized',\n",
       " 'Elements',\n",
       " 'quotes',\n",
       " 'merging',\n",
       " 'develops',\n",
       " 'Connally',\n",
       " 'enhanced',\n",
       " 'constitute',\n",
       " 'apart',\n",
       " 'forgiveness',\n",
       " 'explains',\n",
       " 'disbelief',\n",
       " 'very',\n",
       " 'intimate',\n",
       " 'railroads',\n",
       " 'Holy',\n",
       " 'Microscopic',\n",
       " 'multiplied',\n",
       " 'alarmed',\n",
       " 'youngster',\n",
       " 'outside',\n",
       " 'shifted',\n",
       " 'celebrating',\n",
       " 'kneel',\n",
       " 'analytic',\n",
       " 'palms',\n",
       " 'Snow',\n",
       " 'repetition',\n",
       " 'grievance',\n",
       " 'rampant',\n",
       " 'Il',\n",
       " 'cars',\n",
       " 'worthless',\n",
       " 'cakes',\n",
       " 'Jenny',\n",
       " 'applaud',\n",
       " 'loyalties',\n",
       " 'Scene',\n",
       " \"Rose's\",\n",
       " 'Papa',\n",
       " 'laughs',\n",
       " 'Crusade',\n",
       " 'kitten',\n",
       " \"L'Turu\",\n",
       " 'Sullam',\n",
       " 'consist',\n",
       " 'treason',\n",
       " 'pieces',\n",
       " 'batteries',\n",
       " 'saturated',\n",
       " 'strains',\n",
       " 'Taras',\n",
       " 'crib',\n",
       " 'finances',\n",
       " 'lend',\n",
       " 'stint',\n",
       " 'Curzon',\n",
       " 'departure',\n",
       " 'technician',\n",
       " 'fission',\n",
       " 'owner',\n",
       " 'victim',\n",
       " 'breakthrough',\n",
       " 'auditorium',\n",
       " 'Sophia',\n",
       " 'install',\n",
       " 'Judith',\n",
       " 'Greater',\n",
       " 'Stadium',\n",
       " 'holidays',\n",
       " 'convict',\n",
       " 'biological',\n",
       " 'pertaining',\n",
       " 'examine',\n",
       " 'Bellini',\n",
       " 'inflexible',\n",
       " 'Story',\n",
       " 'repository',\n",
       " 'devilish',\n",
       " 'expansion',\n",
       " 'high-energy',\n",
       " 'rot',\n",
       " 'spores',\n",
       " 'tag',\n",
       " 'tray',\n",
       " 'Rock',\n",
       " 'participated',\n",
       " 'Martin',\n",
       " 'minarets',\n",
       " 'receivers',\n",
       " 'Chattanooga',\n",
       " 'mundane',\n",
       " 'teaspoons',\n",
       " 'Amendment',\n",
       " 'Donnay',\n",
       " 'assembled',\n",
       " 'twelve',\n",
       " 'beaches',\n",
       " 'goal',\n",
       " 'muscle',\n",
       " 'Shaefer',\n",
       " 'lion',\n",
       " 'intrusion',\n",
       " 'scope',\n",
       " 'contamination',\n",
       " 'evident',\n",
       " 'Donald',\n",
       " 'giggles',\n",
       " 'Nevertheless',\n",
       " 'underwater',\n",
       " 'Regulation',\n",
       " 'ago',\n",
       " 'dividend',\n",
       " 'silence',\n",
       " 'ceased',\n",
       " 'Beat',\n",
       " 'notably',\n",
       " 'registrant',\n",
       " 'protective',\n",
       " 'scream',\n",
       " 'slope',\n",
       " '3.5',\n",
       " 'cut',\n",
       " 'foreigner',\n",
       " 'digging',\n",
       " 'successes',\n",
       " 'overall',\n",
       " 'tapping',\n",
       " 'SW',\n",
       " 'educated',\n",
       " 'sharing',\n",
       " 'Alvin',\n",
       " 'commerce',\n",
       " 'Nischwitz',\n",
       " 'Foundation',\n",
       " 'Ralph',\n",
       " 'satisfaction',\n",
       " 'effect',\n",
       " 'blanks',\n",
       " 'midway',\n",
       " 'convey',\n",
       " 'descending',\n",
       " 'uninterrupted',\n",
       " 'holster',\n",
       " 'four-hour',\n",
       " 'abuse',\n",
       " 'axiomatic',\n",
       " 'handful',\n",
       " 'matrimony',\n",
       " 'federation',\n",
       " 'revealed',\n",
       " 'intercollegiate',\n",
       " 'schooling',\n",
       " 'Somers',\n",
       " 'Federation',\n",
       " 'vine',\n",
       " 'Center',\n",
       " 'cultivated',\n",
       " 'Eddie',\n",
       " 'Jones',\n",
       " 'underground',\n",
       " 'Trust',\n",
       " 'Perfect',\n",
       " 'kidding',\n",
       " 'esoteric',\n",
       " '1928',\n",
       " 'fears',\n",
       " 'stepped-up',\n",
       " 'lighted',\n",
       " 'Mo.',\n",
       " 'initiation',\n",
       " 'Poe',\n",
       " 'handles',\n",
       " 'chop',\n",
       " 'gaped',\n",
       " 'goin',\n",
       " 'earthquake',\n",
       " 'moderate',\n",
       " \"Mann's\",\n",
       " 'Scientific',\n",
       " 'downtown',\n",
       " 'Scotty',\n",
       " 'off-duty',\n",
       " 'hitting',\n",
       " 'counterparts',\n",
       " 'hard-surface',\n",
       " 'Laura',\n",
       " 'Ten',\n",
       " 'obstruct',\n",
       " 'wild',\n",
       " 'exit',\n",
       " 'expense',\n",
       " 'fig.',\n",
       " 'Manhattan',\n",
       " 'afford',\n",
       " 'inhumane',\n",
       " 'anti-trust',\n",
       " \"that's\",\n",
       " 'boyish',\n",
       " 'statutory',\n",
       " 'Brenner',\n",
       " 'bunt',\n",
       " 'CTA',\n",
       " 'orthodontics',\n",
       " 'authors',\n",
       " 'Carey',\n",
       " 'obscurity',\n",
       " 'situations',\n",
       " 'differentiable',\n",
       " 'simulate',\n",
       " 'Fitzgerald',\n",
       " 'heaped',\n",
       " 'vehicle',\n",
       " 'Grosse',\n",
       " 'questionnaires',\n",
       " 'feed',\n",
       " 'interchangeable',\n",
       " 'foamy',\n",
       " 'reluctance',\n",
       " 'Tory',\n",
       " 'witches',\n",
       " '1948',\n",
       " 'Commentary',\n",
       " 'bloodstream',\n",
       " '1949',\n",
       " 'compensated',\n",
       " 'fluent',\n",
       " 'Dipylon',\n",
       " 'Margaret',\n",
       " 'concessions',\n",
       " 'marrow',\n",
       " 'Schuylkill',\n",
       " 'bang',\n",
       " 'recover',\n",
       " 'touring',\n",
       " 'Pentagon',\n",
       " \"Charles'\",\n",
       " 'flare',\n",
       " 'Northeast',\n",
       " 'hide',\n",
       " 'wrapped',\n",
       " 'turn',\n",
       " 'penniless',\n",
       " 'accompanying',\n",
       " 'core',\n",
       " 'vitro',\n",
       " 'waited',\n",
       " 'craftsmen',\n",
       " 'wants',\n",
       " 'dominance',\n",
       " 'athletes',\n",
       " 'incandescent',\n",
       " 'Hill',\n",
       " 'elapsed',\n",
       " 'submarine',\n",
       " 'headwaters',\n",
       " 'Supreme',\n",
       " 'Industries',\n",
       " 'offend',\n",
       " 'Musial',\n",
       " 'amaze',\n",
       " 'Reese',\n",
       " 'Commons',\n",
       " 'publishers',\n",
       " 'fascinated',\n",
       " 'Index',\n",
       " 'rocks',\n",
       " 'Gonzales',\n",
       " 'edible',\n",
       " 'belonged',\n",
       " 'Estate',\n",
       " 'oppose',\n",
       " 'Guests',\n",
       " 'equally',\n",
       " 'loathsome',\n",
       " 'gallop',\n",
       " 'opening',\n",
       " 'automation',\n",
       " 'mythology',\n",
       " 'improve',\n",
       " 'obeyed',\n",
       " 'triumphs',\n",
       " 'majorities',\n",
       " 'automotive',\n",
       " 'Questions',\n",
       " 'diagonally',\n",
       " 'twister',\n",
       " 'outmoded',\n",
       " 'bereavement',\n",
       " 'governmental',\n",
       " 'unpleasant',\n",
       " 'Scripture',\n",
       " 'remembered',\n",
       " 'breathing',\n",
       " 'Waco',\n",
       " 'existential',\n",
       " 'firmer',\n",
       " 'cylinders',\n",
       " 'Swiss',\n",
       " 'movable',\n",
       " 'Activities',\n",
       " 'Mijbil',\n",
       " 'neglect',\n",
       " 'levy',\n",
       " 'fan',\n",
       " 'walnut',\n",
       " 'gravitation',\n",
       " 'inaction',\n",
       " 'irresistible',\n",
       " 'fortune',\n",
       " 'Linda',\n",
       " \"Island's\",\n",
       " 'sundown',\n",
       " 'cosmic',\n",
       " 'I',\n",
       " 'striking',\n",
       " 'L',\n",
       " 'pessimistic',\n",
       " 'excused',\n",
       " 'cured',\n",
       " 'discover',\n",
       " 'transcribed',\n",
       " 'intuitive',\n",
       " 'smooth',\n",
       " 'poem',\n",
       " 'Marxist',\n",
       " 'sailing',\n",
       " 'inescapable',\n",
       " 'well-meaning',\n",
       " 'Sharon',\n",
       " 'maximization',\n",
       " 'Charlie',\n",
       " 'booths',\n",
       " 'none',\n",
       " 'Regional',\n",
       " 'collectively',\n",
       " 'ointment',\n",
       " 'crammed',\n",
       " 'Phillips',\n",
       " 'writings',\n",
       " 'Hurry',\n",
       " 'turned',\n",
       " 'Always',\n",
       " 'parasol',\n",
       " 'Giles',\n",
       " 'predictive',\n",
       " 'brakes',\n",
       " 'Cossacks',\n",
       " 'Arithmetic',\n",
       " 'outlined',\n",
       " 'outfielder',\n",
       " 'post-World',\n",
       " 'planning',\n",
       " 'marbles',\n",
       " 'starvation',\n",
       " 'sail',\n",
       " 'custodian',\n",
       " 'momentarily',\n",
       " 'Ahmet',\n",
       " 'American-Negro',\n",
       " 'finally',\n",
       " 'unheard',\n",
       " 'installations',\n",
       " 'Ethan',\n",
       " 'airs',\n",
       " 'brood',\n",
       " 'combine',\n",
       " 'wives',\n",
       " 'discuss',\n",
       " 'Symphony',\n",
       " 'mg',\n",
       " 'become',\n",
       " 'Lolly',\n",
       " 'maneuvered',\n",
       " 'flying',\n",
       " 'brokers',\n",
       " 'single-valued',\n",
       " 'satiric',\n",
       " 'slack',\n",
       " 'Garth',\n",
       " 'Trig',\n",
       " 'justifications',\n",
       " 'hamburgers',\n",
       " \"Shakespeare's\",\n",
       " 'suite',\n",
       " '1834',\n",
       " 'discomfort',\n",
       " 'Inc.',\n",
       " 'residential',\n",
       " '1611',\n",
       " 'keelson',\n",
       " 'vastly',\n",
       " 'windowless',\n",
       " 'bedroom',\n",
       " 'septa',\n",
       " 'chamber',\n",
       " 'tiniest',\n",
       " 'drain',\n",
       " 'Youth',\n",
       " 'Mars',\n",
       " 'chairman',\n",
       " 'delays',\n",
       " 'Frost',\n",
       " 'strikingly',\n",
       " 'brothers',\n",
       " 'Arabic',\n",
       " 'unions',\n",
       " 'stubby',\n",
       " 'Tech',\n",
       " 'stable',\n",
       " 'ranked',\n",
       " 'eighteenth',\n",
       " 'skipping',\n",
       " 'ingenious',\n",
       " 'benefits',\n",
       " 'subtle',\n",
       " 'assembling',\n",
       " 'Maria',\n",
       " 'hurled',\n",
       " 'Congolese',\n",
       " 'frost',\n",
       " 'tilt',\n",
       " 'estranged',\n",
       " 'twinkle',\n",
       " 'Gardner',\n",
       " 'far',\n",
       " 'eternity',\n",
       " 'Met',\n",
       " 'Hungarian',\n",
       " 'immensely',\n",
       " \"Authority's\",\n",
       " 'ignores',\n",
       " 'engulfed',\n",
       " 'intimately',\n",
       " 'examined',\n",
       " 'GNP',\n",
       " 'recreation',\n",
       " 'correctness',\n",
       " 'restaurants',\n",
       " 'consideration',\n",
       " 'Texans',\n",
       " 'shorts',\n",
       " 'Lowell',\n",
       " 'pry',\n",
       " 'newest',\n",
       " \"Freddy's\",\n",
       " 'Bartlett',\n",
       " 'monarch',\n",
       " 'snowing',\n",
       " \"what's-his-name\",\n",
       " 'Athenians',\n",
       " 'gadgets',\n",
       " 'luxurious',\n",
       " 'transpiration',\n",
       " 'PBS',\n",
       " 'Neiman-Marcus',\n",
       " 'tendencies',\n",
       " 'child',\n",
       " 'phase',\n",
       " 'reaction',\n",
       " 'watered',\n",
       " 'catharsis',\n",
       " 'divisions',\n",
       " 'Compared',\n",
       " 'common',\n",
       " 'Universal',\n",
       " 'invisible',\n",
       " 'flip',\n",
       " 'philosopher',\n",
       " 'Glen',\n",
       " ';',\n",
       " 'Someone',\n",
       " 'wayward',\n",
       " 'outboard',\n",
       " 'Spelman',\n",
       " 'conversation',\n",
       " 'Slater',\n",
       " 'ratified',\n",
       " 'developmental',\n",
       " 'implications',\n",
       " 'united',\n",
       " 'Sheep',\n",
       " 'Soak',\n",
       " 'drugstore',\n",
       " 'calculation',\n",
       " 'blizzard',\n",
       " 'Medicine',\n",
       " 'Someday',\n",
       " 'Some',\n",
       " 'grains',\n",
       " 'speculating',\n",
       " 'weaken',\n",
       " 'lb',\n",
       " 'standing',\n",
       " 'cheers',\n",
       " 'Prince',\n",
       " 'nonspecifically',\n",
       " 'Sun',\n",
       " 'panes',\n",
       " ...]"
      ]
     },
     "execution_count": 115,
     "metadata": {},
     "output_type": "execute_result"
    }
   ],
   "source": [
    "frequent_words"
   ]
  },
  {
   "cell_type": "markdown",
   "metadata": {},
   "source": [
    "Write a program to generate a table of lexical diversity scores (i.e. token/type ratios), as we saw in 1.1. Include the full set of Brown Corpus genres (nltk.corpus.brown.categories()). Which genre has the lowest diversity (greatest number of tokens per type)? Is this what you would have expected?"
   ]
  },
  {
   "cell_type": "code",
   "execution_count": 116,
   "metadata": {},
   "outputs": [],
   "source": [
    "import nltk\n",
    "def get_diversity_score(words):\n",
    "    return len(set(words)) / len(words)"
   ]
  },
  {
   "cell_type": "code",
   "execution_count": 123,
   "metadata": {},
   "outputs": [],
   "source": [
    "from nltk.corpus import brown\n",
    "diversities = {}\n",
    "for category in brown.categories():\n",
    "    diversities[category] = get_diversity_score(brown.words(categories=[category]))"
   ]
  },
  {
   "cell_type": "code",
   "execution_count": 124,
   "metadata": {},
   "outputs": [
    {
     "data": {
      "text/plain": [
       "{'adventure': 0.1279743878169075,\n",
       " 'belles_lettres': 0.10642071451679992,\n",
       " 'editorial': 0.16054152327770924,\n",
       " 'fiction': 0.1358194136199042,\n",
       " 'government': 0.11667641228232811,\n",
       " 'hobbies': 0.14493897625842492,\n",
       " 'humor': 0.23125144042406084,\n",
       " 'learned': 0.09268890745953554,\n",
       " 'lore': 0.13148804612915801,\n",
       " 'mystery': 0.12212912592488936,\n",
       " 'news': 0.14314696580941583,\n",
       " 'religion': 0.1617553745018909,\n",
       " 'reviews': 0.21192020440251572,\n",
       " 'romance': 0.12070492131044529,\n",
       " 'science_fiction': 0.22342778161713892}"
      ]
     },
     "execution_count": 124,
     "metadata": {},
     "output_type": "execute_result"
    }
   ],
   "source": [
    "diversities"
   ]
  },
  {
   "cell_type": "markdown",
   "metadata": {},
   "source": [
    " Write a function that finds the 50 most frequently occurring words of a text that are not stopwords."
   ]
  },
  {
   "cell_type": "code",
   "execution_count": 144,
   "metadata": {},
   "outputs": [],
   "source": [
    "from nltk.corpus import stopwords\n",
    "def get_most_common_non_stop(words, n):\n",
    "    stop_words = set(stopwords.words())\n",
    "    dist = FreqDist([w for w in words if w not in stop_words])\n",
    "    return dist.most_common(n)"
   ]
  },
  {
   "cell_type": "code",
   "execution_count": 149,
   "metadata": {},
   "outputs": [
    {
     "data": {
      "text/plain": [
       "[('.', 4057),\n",
       " (',', 3488),\n",
       " ('``', 998),\n",
       " (\"''\", 995),\n",
       " ('I', 652),\n",
       " ('He', 522),\n",
       " ('?', 518),\n",
       " ('The', 410),\n",
       " ('!', 314),\n",
       " ('said', 287),\n",
       " (';', 216),\n",
       " ('--', 213),\n",
       " ('would', 191),\n",
       " ('back', 165),\n",
       " ('one', 162),\n",
       " ('could', 151),\n",
       " ('It', 145),\n",
       " ('She', 137),\n",
       " ('like', 136),\n",
       " ('time', 127),\n",
       " ('But', 119),\n",
       " ('They', 99),\n",
       " ('get', 92),\n",
       " ('eyes', 90),\n",
       " ('You', 84),\n",
       " ('And', 84),\n",
       " ('two', 80),\n",
       " ('got', 80),\n",
       " ('came', 79),\n",
       " ('see', 79),\n",
       " ('right', 79),\n",
       " ('A', 78),\n",
       " ('made', 77),\n",
       " ('go', 73),\n",
       " ('long', 72),\n",
       " ('around', 71),\n",
       " ('head', 71),\n",
       " (':', 71),\n",
       " ('away', 71),\n",
       " ('His', 70),\n",
       " ('little', 67),\n",
       " ('saw', 67),\n",
       " ('even', 66),\n",
       " ('took', 65),\n",
       " ('hand', 65),\n",
       " ('way', 65),\n",
       " ('thought', 62),\n",
       " ('still', 62),\n",
       " ('looked', 62),\n",
       " ('never', 62)]"
      ]
     },
     "execution_count": 149,
     "metadata": {},
     "output_type": "execute_result"
    }
   ],
   "source": [
    "get_most_common_non_stop(brown.words(categories=['adventure']), 50)"
   ]
  },
  {
   "cell_type": "markdown",
   "metadata": {},
   "source": [
    "Write a program to print the 50 most frequent bigrams (pairs of adjacent words) of a text, omitting bigrams that contain stopwords."
   ]
  },
  {
   "cell_type": "code",
   "execution_count": 156,
   "metadata": {},
   "outputs": [],
   "source": [
    "from nltk.corpus import stopwords\n",
    "\n",
    "def get_most_common_bigrams(words, n):\n",
    "    stop_words = set(stopwords.words())\n",
    "    words = [w for w in words if w.lower() not in stop_words]\n",
    "    bigrams = nltk.bigrams(words)\n",
    "    dist = FreqDist(bigrams)\n",
    "    return dist.most_common(n)"
   ]
  },
  {
   "cell_type": "code",
   "execution_count": 157,
   "metadata": {},
   "outputs": [
    {
     "data": {
      "text/plain": [
       "[(('.', '``'), 728),\n",
       " ((\"''\", '.'), 396),\n",
       " ((\"''\", ','), 269),\n",
       " (('?', '?'), 260),\n",
       " ((\"''\", '?'), 173),\n",
       " (('!', '!'), 157),\n",
       " ((';', ';'), 108),\n",
       " ((',', '``'), 102),\n",
       " (('said', '.'), 101),\n",
       " ((',', 'said'), 98)]"
      ]
     },
     "execution_count": 157,
     "metadata": {},
     "output_type": "execute_result"
    }
   ],
   "source": [
    "get_most_common_bigrams(brown.words(categories=['adventure']), 10)"
   ]
  },
  {
   "cell_type": "markdown",
   "metadata": {},
   "source": [
    "Write a program to create a table of word frequencies by genre, like the one given in 1 for modals. Choose your own words and try to find words whose presence (or absence) is typical of a genre. Discuss your findings"
   ]
  },
  {
   "cell_type": "code",
   "execution_count": 159,
   "metadata": {},
   "outputs": [],
   "source": [
    "cfd = nltk.ConditionalFreqDist(\n",
    "    (genre, word)\n",
    "    for genre in brown.categories()\n",
    "    for word in brown.words(categories=genre))"
   ]
  },
  {
   "cell_type": "code",
   "execution_count": 162,
   "metadata": {},
   "outputs": [
    {
     "name": "stdout",
     "output_type": "stream",
     "text": [
      "                breaking      god    women     love      die      sex      war \n",
      "           news        4        0       16        3        1        2       20 \n",
      "       religion        1        5        6       13        4        0       14 \n",
      "        hobbies        1        0        2        6        1        0       12 \n",
      "science_fiction        0        0        3        3        6        2        2 \n",
      "        romance        4        5       22       32        7        4       11 \n",
      "          humor        1        1        4        4        1        1        1 \n"
     ]
    }
   ],
   "source": [
    "genres = ['news', 'religion', 'hobbies', 'science_fiction', 'romance', 'humor']\n",
    "modals = ['breaking', 'god', 'women', 'love', 'die', 'sex', 'war']\n",
    "cfd.tabulate(conditions=genres, samples=modals)\n"
   ]
  },
  {
   "cell_type": "markdown",
   "metadata": {},
   "source": [
    "Write a function word_freq() that takes a word and the name of a section of the Brown Corpus as arguments, and computes the frequency of the word in that section of the corpus."
   ]
  },
  {
   "cell_type": "code",
   "execution_count": 163,
   "metadata": {},
   "outputs": [],
   "source": [
    "def word_frequency(word, category):\n",
    "    words = brown.words(categories=category)\n",
    "    dist = FreqDist(words)\n",
    "    return dist[word]"
   ]
  },
  {
   "cell_type": "code",
   "execution_count": 164,
   "metadata": {},
   "outputs": [
    {
     "data": {
      "text/plain": [
       "16"
      ]
     },
     "execution_count": 164,
     "metadata": {},
     "output_type": "execute_result"
    }
   ],
   "source": [
    "word_frequency('women', 'news')"
   ]
  },
  {
   "cell_type": "markdown",
   "metadata": {},
   "source": [
    "Write a program to guess the number of syllables contained in a text, making use of the CMU Pronouncing Dictionary."
   ]
  },
  {
   "cell_type": "code",
   "execution_count": 202,
   "metadata": {},
   "outputs": [],
   "source": [
    "from nltk.corpus import cmudict\n",
    "\n",
    "def get_syllables_word(word, syllables_dict):\n",
    "    value = syllables_dict.get(word)\n",
    "    if value is not None:\n",
    "        return len(value[0])\n",
    "    return 1\n",
    "\n",
    "def guess_number_of_syllables(words):\n",
    "    count = 0\n",
    "    syllables_dict = cmudict.dict()\n",
    "    for word in words:\n",
    "        count += get_syllables_word(word, syllables_dict)\n",
    "    return count"
   ]
  },
  {
   "cell_type": "code",
   "execution_count": 203,
   "metadata": {
    "scrolled": true
   },
   "outputs": [
    {
     "data": {
      "text/plain": [
       "194320"
      ]
     },
     "execution_count": 203,
     "metadata": {},
     "output_type": "execute_result"
    }
   ],
   "source": [
    "guess_number_of_syllables(brown.words(categories='adventure'))"
   ]
  },
  {
   "cell_type": "code",
   "execution_count": 204,
   "metadata": {},
   "outputs": [
    {
     "data": {
      "text/plain": [
       "69342"
      ]
     },
     "execution_count": 204,
     "metadata": {},
     "output_type": "execute_result"
    }
   ],
   "source": [
    "len(brown.words(categories='adventure'))"
   ]
  },
  {
   "cell_type": "markdown",
   "metadata": {},
   "source": [
    "Define a function hedge(text) which processes a text and produces a new version with the word 'like' between every third word."
   ]
  },
  {
   "cell_type": "code",
   "execution_count": 205,
   "metadata": {},
   "outputs": [],
   "source": [
    "def hedge(words):\n",
    "    result = []\n",
    "    for i in range(len(words)):\n",
    "        if i > 0 and i % 3 == 0:\n",
    "            result.append('like')\n",
    "        result.append(words[i])\n",
    "    return result"
   ]
  },
  {
   "cell_type": "code",
   "execution_count": 207,
   "metadata": {},
   "outputs": [
    {
     "data": {
      "text/plain": [
       "['a', 'b', 'c', 'like', 'd', 'e', 'f']"
      ]
     },
     "execution_count": 207,
     "metadata": {},
     "output_type": "execute_result"
    }
   ],
   "source": [
    "hedge(['a', 'b', 'c', 'd', 'e', 'f'])"
   ]
  },
  {
   "cell_type": "markdown",
   "metadata": {},
   "source": [
    "**Zipf's Law**: Let f(w) be the frequency of a word w in free text. Suppose that all the words of a text are ranked according to their frequency, with the most frequent word first. Zipf's law states that the frequency of a word type is inversely proportional to its rank (i.e. f × r = k, for some constant k). For example, the 50th most common word type should occur three times as frequently as the 150th most common word type.\n",
    "\n",
    "a. Write a function to process a large text and plot word frequency against word rank using pylab.plot. Do you confirm Zipf's law? (Hint: it helps to use a logarithmic scale). What is going on at the extreme ends of the plotted line?\n",
    "\n",
    "b.Generate random text, e.g., using random.choice(\"abcdefg \"), taking care to include the space character. You will need to import random first. Use the string concatenation operator to accumulate characters into a (very) long string. Then tokenize this string, and generate the Zipf plot as before, and compare the two plots. What do you make of Zipf's Law in the light of this?"
   ]
  },
  {
   "cell_type": "code",
   "execution_count": 220,
   "metadata": {},
   "outputs": [],
   "source": [
    "def get_frequency_word_rank(words):\n",
    "    dist = FreqDist(words)\n",
    "    words_frequency = dist.most_common()\n",
    "    word_indices = [x for x in range(len(words_frequency))]\n",
    "    words_frequency = [x[1] for x in words_frequency]\n",
    "    return words_frequency, word_indices\n",
    "    "
   ]
  },
  {
   "cell_type": "code",
   "execution_count": 230,
   "metadata": {},
   "outputs": [
    {
     "data": {
      "text/plain": [
       "[<matplotlib.lines.Line2D at 0x1e144a707f0>]"
      ]
     },
     "execution_count": 230,
     "metadata": {},
     "output_type": "execute_result"
    },
    {
     "data": {
      "image/png": "[encoded data removed]",
      "text/plain": [
       "<Figure size 432x288 with 1 Axes>"
      ]
     },
     "metadata": {
      "needs_background": "light"
     },
     "output_type": "display_data"
    }
   ],
   "source": [
    "x, y = get_frequency_word_rank(brown.words())\n",
    "import matplotlib.pyplot as plt\n",
    "import numpy\n",
    "plt.plot(numpy.log(x), y)"
   ]
  },
  {
   "cell_type": "code",
   "execution_count": 231,
   "metadata": {},
   "outputs": [],
   "source": [
    "import random"
   ]
  },
  {
   "cell_type": "code",
   "execution_count": 259,
   "metadata": {},
   "outputs": [],
   "source": [
    "def generate_random_text(characters):\n",
    "    result = ''\n",
    "    for i in range(characters):\n",
    "        result = result + random.choice('{0}'.format('abcdef '))\n",
    "    return result"
   ]
  },
  {
   "cell_type": "code",
   "execution_count": 261,
   "metadata": {},
   "outputs": [
    {
     "data": {
      "text/plain": [
       "[<matplotlib.lines.Line2D at 0x1e14ec80588>]"
      ]
     },
     "execution_count": 261,
     "metadata": {},
     "output_type": "execute_result"
    },
    {
     "data": {
      "image/png": "[encoded data removed]",
      "text/plain": [
       "<Figure size 432x288 with 1 Axes>"
      ]
     },
     "metadata": {
      "needs_background": "light"
     },
     "output_type": "display_data"
    }
   ],
   "source": [
    "text = generate_random_text(10 ** 7)\n",
    "words = text.split(' ')\n",
    "x, y = get_frequency_word_rank(words)\n",
    "import matplotlib.pyplot as plt\n",
    "import numpy\n",
    "plt.plot(numpy.log(x), y)"
   ]
  },
  {
   "cell_type": "markdown",
   "metadata": {},
   "source": [
    "Modify the text generation program in 2.2 further, to do the following tasks:\n",
    "Store the n most likely words in a list words then randomly choose a word from the list using random.choice(). (You will need to import random first.)\n",
    "Select a particular genre, such as a section of the Brown Corpus, or a genesis translation, one of the Gutenberg texts, or one of the Web texts. Train the model on this corpus and get it to generate random text. You may have to experiment with different start words. How intelligible is the text? Discuss the strengths and weaknesses of this method of generating random text.\n",
    "Now train your system using two distinct genres and experiment with generating text in the hybrid genre. Discuss your observations"
   ]
  },
  {
   "cell_type": "code",
   "execution_count": 267,
   "metadata": {},
   "outputs": [],
   "source": [
    "import random\n",
    "\n",
    "def generate_model_random(words, n, result_length):\n",
    "    common_words = [p[0] for p in get_most_common_non_stop(words, n)]\n",
    "    result = []\n",
    "    for _ in range(result_length):\n",
    "        result.append(random.choice(common_words))\n",
    "    return result"
   ]
  },
  {
   "cell_type": "code",
   "execution_count": 268,
   "metadata": {},
   "outputs": [],
   "source": [
    "words = brown.words()\n",
    "result = generate_model_random(words, 50, 50)"
   ]
  },
  {
   "cell_type": "code",
   "execution_count": 270,
   "metadata": {},
   "outputs": [
    {
     "data": {
      "text/plain": [
       "\"may must She years It made ) A made even There It `` . ? would There little made A ( , There '' But could In many would much Af would Mr. made ; even And There must new -- would ( like new A ! Mr. said ?\""
      ]
     },
     "execution_count": 270,
     "metadata": {},
     "output_type": "execute_result"
    }
   ],
   "source": [
    "' '.join(result)"
   ]
  },
  {
   "cell_type": "code",
   "execution_count": 271,
   "metadata": {},
   "outputs": [
    {
     "data": {
      "text/plain": [
       "'time work week ) week members ) : years first could `` state John home Kennedy program Mrs. President ; week may House school New time Mrs. In In A back ( : program -- : A home House state said first first Kennedy two Mrs. He year , could'"
      ]
     },
     "execution_count": 271,
     "metadata": {},
     "output_type": "execute_result"
    }
   ],
   "source": [
    "words = brown.words(categories='news')\n",
    "result = generate_model_random(words, 50, 50)\n",
    "' '.join(result)"
   ]
  },
  {
   "cell_type": "code",
   "execution_count": 272,
   "metadata": {},
   "outputs": [
    {
     "data": {
      "text/plain": [
       "\"! They told children much day one like made years things : children room . Arlene Arlene We asked us way ' She children He said asked two say . ' In day said They . much room much would ( like , They ? '' even Letch made years\""
      ]
     },
     "execution_count": 272,
     "metadata": {},
     "output_type": "execute_result"
    }
   ],
   "source": [
    "words = brown.words(categories='humor')\n",
    "result = generate_model_random(words, 50, 50)\n",
    "' '.join(result)"
   ]
  },
  {
   "cell_type": "code",
   "execution_count": 274,
   "metadata": {},
   "outputs": [
    {
     "data": {
      "text/plain": [
       "'much , new much ! He In A A way said Mrs. much day Mr. one Mrs. back years made And went , ! ; new But years But There little way back like He And home She ! In much The got last -- The The went There Mr.'"
      ]
     },
     "execution_count": 274,
     "metadata": {},
     "output_type": "execute_result"
    }
   ],
   "source": [
    "words = brown.words(categories=['humor', 'romance', 'news'])\n",
    "result = generate_model_random(words, 50, 50)\n",
    "' '.join(result)"
   ]
  },
  {
   "cell_type": "markdown",
   "metadata": {},
   "source": [
    "Define a function find_language() that takes a string as its argument, and returns a list of languages that have that string as a word. Use the udhr corpus and limit your searches to files in the Latin-1 encoding."
   ]
  },
  {
   "cell_type": "code",
   "execution_count": 275,
   "metadata": {},
   "outputs": [],
   "source": [
    "from nltk.corpus import udhr"
   ]
  },
  {
   "cell_type": "code",
   "execution_count": 280,
   "metadata": {},
   "outputs": [],
   "source": [
    "def find_language(word):\n",
    "    result = []\n",
    "    files = [f for f in udhr.fileids() if f.endswith('Latin1')]\n",
    "    for file_id in files:\n",
    "        words = udhr.words(file_id)\n",
    "        if word in words:\n",
    "            result.append(file_id)\n",
    "    return result"
   ]
  },
  {
   "cell_type": "code",
   "execution_count": 287,
   "metadata": {},
   "outputs": [
    {
     "data": {
      "text/plain": [
       "['Chamorro-Latin1',\n",
       " 'Guarani-Latin1',\n",
       " 'Mixteco-Latin1',\n",
       " 'Spanish-Latin1',\n",
       " 'Spanish_Espanol-Latin1',\n",
       " 'Tzotzil-Latin1']"
      ]
     },
     "execution_count": 287,
     "metadata": {},
     "output_type": "execute_result"
    }
   ],
   "source": [
    "find_language('libertad')"
   ]
  },
  {
   "cell_type": "markdown",
   "metadata": {},
   "source": [
    "The polysemy of a word is the number of senses it has. Using WordNet, we can determine that the noun dog has 7 senses with: len(wn.synsets('dog', 'n')). Compute the average polysemy of nouns, verbs, adjectives and adverbs according to WordNet."
   ]
  },
  {
   "cell_type": "code",
   "execution_count": 288,
   "metadata": {},
   "outputs": [],
   "source": [
    "from nltk.corpus import wordnet"
   ]
  },
  {
   "cell_type": "code",
   "execution_count": 289,
   "metadata": {},
   "outputs": [
    {
     "data": {
      "text/plain": [
       "[Synset('dog.n.01'),\n",
       " Synset('frump.n.01'),\n",
       " Synset('dog.n.03'),\n",
       " Synset('cad.n.01'),\n",
       " Synset('frank.n.02'),\n",
       " Synset('pawl.n.01'),\n",
       " Synset('andiron.n.01')]"
      ]
     },
     "execution_count": 289,
     "metadata": {},
     "output_type": "execute_result"
    }
   ],
   "source": [
    "wordnet.synsets('dog', 'n')"
   ]
  },
  {
   "cell_type": "code",
   "execution_count": 299,
   "metadata": {},
   "outputs": [
    {
     "data": {
      "text/plain": [
       "[Lemma('dog.n.01.dog'),\n",
       " Lemma('frump.n.01.dog'),\n",
       " Lemma('dog.n.03.dog'),\n",
       " Lemma('cad.n.01.dog'),\n",
       " Lemma('frank.n.02.dog'),\n",
       " Lemma('pawl.n.01.dog'),\n",
       " Lemma('andiron.n.01.dog'),\n",
       " Lemma('chase.v.01.dog')]"
      ]
     },
     "execution_count": 299,
     "metadata": {},
     "output_type": "execute_result"
    }
   ],
   "source": [
    "wordnet.lemmas('dog')"
   ]
  },
  {
   "cell_type": "code",
   "execution_count": null,
   "metadata": {},
   "outputs": [],
   "source": []
  }
 ],
 "metadata": {
  "kernelspec": {
   "display_name": "Python 3",
   "language": "python",
   "name": "python3"
  },
  "language_info": {
   "codemirror_mode": {
    "name": "ipython",
    "version": 3
   },
   "file_extension": ".py",
   "mimetype": "text/x-python",
   "name": "python",
   "nbconvert_exporter": "python",
   "pygments_lexer": "ipython3",
   "version": "3.6.8rc1"
  }
 },
 "nbformat": 4,
 "nbformat_minor": 2
}
