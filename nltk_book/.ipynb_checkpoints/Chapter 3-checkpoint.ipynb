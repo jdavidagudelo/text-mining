{
 "cells": [
  {
   "cell_type": "code",
   "execution_count": 5,
   "metadata": {},
   "outputs": [],
   "source": [
    "from urllib import request\n",
    "url = \"http://www.gutenberg.org/files/2554/2554-0.txt\"\n",
    "response = request.urlopen(url)\n",
    "raw = response.read().decode('utf8')"
   ]
  },
  {
   "cell_type": "code",
   "execution_count": 10,
   "metadata": {},
   "outputs": [],
   "source": [
    "from nltk import word_tokenize\n",
    "import nltk"
   ]
  },
  {
   "cell_type": "code",
   "execution_count": 11,
   "metadata": {},
   "outputs": [],
   "source": [
    "tokens = word_tokenize(raw)\n",
    "text = nltk.Text(tokens)"
   ]
  },
  {
   "cell_type": "code",
   "execution_count": 17,
   "metadata": {},
   "outputs": [
    {
     "data": {
      "text/plain": [
       "['Katerina Ivanovna',\n",
       " 'Pyotr Petrovitch',\n",
       " 'Pulcheria Alexandrovna',\n",
       " 'Avdotya Romanovna',\n",
       " 'Rodion Romanovitch',\n",
       " 'Marfa Petrovna',\n",
       " 'Sofya Semyonovna',\n",
       " 'old woman',\n",
       " 'Project Gutenberg-tm',\n",
       " 'Porfiry Petrovitch',\n",
       " 'Amalia Ivanovna',\n",
       " 'great deal',\n",
       " 'young man',\n",
       " 'Nikodim Fomitch',\n",
       " 'Ilya Petrovitch',\n",
       " 'Project Gutenberg',\n",
       " 'Andrey Semyonovitch',\n",
       " 'Hay Market',\n",
       " 'Dmitri Prokofitch',\n",
       " 'Good heavens']"
      ]
     },
     "execution_count": 17,
     "metadata": {},
     "output_type": "execute_result"
    }
   ],
   "source": [
    "text.collocation_list()"
   ]
  },
  {
   "cell_type": "code",
   "execution_count": 19,
   "metadata": {},
   "outputs": [
    {
     "name": "stdout",
     "output_type": "stream",
     "text": [
      "<!doctype html publi\n"
     ]
    }
   ],
   "source": [
    "url = \"http://news.bbc.co.uk/2/hi/health/2284783.stm\"\n",
    "html = request.urlopen(url).read().decode('utf8')\n",
    "print(html[:20])"
   ]
  },
  {
   "cell_type": "code",
   "execution_count": 26,
   "metadata": {},
   "outputs": [
    {
     "data": {
      "text/plain": [
       "['BBC', 'NEWS', '|', 'Health', '|', 'Blondes', \"'to\", 'die', 'out', 'in']"
      ]
     },
     "execution_count": 26,
     "metadata": {},
     "output_type": "execute_result"
    }
   ],
   "source": [
    "from bs4 import BeautifulSoup\n",
    "raw = BeautifulSoup(html, 'html.parser').get_text()\n",
    "tokens = word_tokenize(raw)\n",
    "tokens[:10]"
   ]
  },
  {
   "cell_type": "code",
   "execution_count": 28,
   "metadata": {},
   "outputs": [
    {
     "name": "stdout",
     "output_type": "stream",
     "text": [
      "Displaying 4 of 4 matches:\n",
      "blonde hair is caused by a recessive gene . In order for a child to have blond\n",
      " have blonde hair , it must have the gene on both sides of the family in the g\n",
      "ere is a disadvantage of having that gene or by chance . They do n't disappear\n",
      "des would disappear is if having the gene was a disadvantage and I do not thin\n"
     ]
    }
   ],
   "source": [
    "tokens = tokens[110:390]\n",
    "text = nltk.Text(tokens)\n",
    "text.concordance('gene')"
   ]
  },
  {
   "cell_type": "code",
   "execution_count": 29,
   "metadata": {},
   "outputs": [
    {
     "data": {
      "text/plain": [
       "'Language Log'"
      ]
     },
     "execution_count": 29,
     "metadata": {},
     "output_type": "execute_result"
    }
   ],
   "source": [
    "import feedparser\n",
    "llog = feedparser.parse(\"http://languagelog.ldc.upenn.edu/nll/?feed=atom\")\n",
    "llog['feed']['title']"
   ]
  },
  {
   "cell_type": "code",
   "execution_count": 30,
   "metadata": {},
   "outputs": [
    {
     "data": {
      "text/plain": [
       "13"
      ]
     },
     "execution_count": 30,
     "metadata": {},
     "output_type": "execute_result"
    }
   ],
   "source": [
    "len(llog.entries)"
   ]
  },
  {
   "cell_type": "code",
   "execution_count": 32,
   "metadata": {},
   "outputs": [
    {
     "data": {
      "text/plain": [
       "'Double-barrelled surnames:  ask Language Log'"
      ]
     },
     "execution_count": 32,
     "metadata": {},
     "output_type": "execute_result"
    }
   ],
   "source": [
    "post = llog.entries[2]\n",
    "post.title"
   ]
  },
  {
   "cell_type": "code",
   "execution_count": 33,
   "metadata": {},
   "outputs": [
    {
     "data": {
      "text/plain": [
       "'<p>Eoin Cullen writes:</p>\\n<p style=\"padding-left: 40px;\">For a while '"
      ]
     },
     "execution_count": 33,
     "metadata": {},
     "output_type": "execute_result"
    }
   ],
   "source": [
    "content = post.content[0].value\n",
    "content[:70]"
   ]
  },
  {
   "cell_type": "code",
   "execution_count": 36,
   "metadata": {},
   "outputs": [
    {
     "data": {
      "text/plain": [
       "\"Eoin Cullen writes : For a while I 've been familiar with the fact that there is an established set of two-character surnames in Chinese including Sīmǎ 司馬 and Ōuyáng 歐陽 , but I was interested to see the novel two-character surname of the head of the SAR government in HK , Lam4zeng6 Jyut6ngo4 林鄭月娥 . It looks like her surname at birth was Zeng6 鄭 and when she got married she chose neither to keep her own name nor to adopt her husband 's name , but to join the two in the double-barrelled surname Lam4Zeng6 林鄭 . I know some people in Western countries who have a double-barrelled surname for this reason , but was not aware the practice existed in Chinese . Also interestingly , she does not use a double surname for her English name , she 's simply Carrie Lam . Is this practice well established in the Chinese speaking world or is it inspired by the Western practice of joining surnames ? From Abraham Chan : To the best of my knowledge , this practice became popular in Hong Kong from the 1960s onwards . My mother , born in 1941 , has kept using it unofficially ( i.e. , not on her official documents ) as long as I can remember . My impression has been that this practice originated in Hong Kong . From Tang Pui Ling : Double surnames are not common in Hong Kong nowadays . But in the past , particularly during the 60s and 70s , it was quite common for a female civil servant to have her husband 's surname put ahead of her own . Here 's an article in Chinese on this subject . From Tong Wang : This practice is an old tradition dating back to the Han Dynasty ( 202 BC-220 AD ) that the surname of a married woman was put behind her husband 's surname and shi 氏 [ `` née ; maiden name '' ) was added behind the surnames instead of the given name of the woman . Women on the mainland do not follow the old tradition of adding their maiden surname behind her husband 's surname after marriage . Not at all . A woman uses the name given at birth for all her life . I am not sure how popular the revised practice ( using the maiden given name instead of shi 氏） is in Hong Kong nowadays or in which specific circles women adopt this tradition . Quite a number of female political celebrities follow it , e.g. , Anson Maria Elizabeth Chan Fang On-sang / Can4fong1 On1 Saang1 陈方安生，Carrie Lam / Lam4Zeng6 Jyut6ngo4 林郑月娥 , but it is rare in the show business . I have met a number of people on the mainland who have adopted double-barrelled surnames for various personal reasons . One of the most notable was Zhengzhang Shangfang 郑张尚芳 ( 1933-2018 ) , a linguist known for his reconstruction of Old Sinitic . His father 's surname was Zheng , but when he was in high school , his parents changed his family name to Zhèngzhāng 郑张 by combining their two surnames . [ Thanks to Bob Bauer ]\""
      ]
     },
     "execution_count": 36,
     "metadata": {},
     "output_type": "execute_result"
    }
   ],
   "source": [
    "raw = BeautifulSoup(content, 'html.parser').get_text()\n",
    "' '.join(word_tokenize(raw))"
   ]
  },
  {
   "cell_type": "code",
   "execution_count": 38,
   "metadata": {},
   "outputs": [],
   "source": [
    "path = nltk.data.find('corpora/unicode_samples/polish-lat2.txt')\n",
    "f = open(path, encoding='latin2')\n",
    "data = f.read()\n",
    "f.close()"
   ]
  },
  {
   "cell_type": "code",
   "execution_count": 39,
   "metadata": {},
   "outputs": [
    {
     "data": {
      "text/plain": [
       "'Pruska Biblioteka Państwowa. Jej dawne zbiory znane pod nazwą\\n\"Berlinka\" to skarb kultury i sztuki niemieckiej. Przewiezione przez\\nNiemców pod koniec II wojny światowej na Dolny Śląsk, zostały\\nodnalezione po 1945 r. na terytorium Polski. Trafiły do Biblioteki\\nJagiellońskiej w Krakowie, obejmują ponad 500 tys. zabytkowych\\narchiwaliów, m.in. manuskrypty Goethego, Mozarta, Beethovena, Bacha.\\n'"
      ]
     },
     "execution_count": 39,
     "metadata": {},
     "output_type": "execute_result"
    }
   ],
   "source": [
    "data"
   ]
  },
  {
   "cell_type": "code",
   "execution_count": 40,
   "metadata": {},
   "outputs": [
    {
     "data": {
      "text/plain": [
       "324"
      ]
     },
     "execution_count": 40,
     "metadata": {},
     "output_type": "execute_result"
    }
   ],
   "source": [
    "ord('ń')"
   ]
  },
  {
   "cell_type": "code",
   "execution_count": 42,
   "metadata": {},
   "outputs": [
    {
     "data": {
      "text/plain": [
       "'ń'"
      ]
     },
     "execution_count": 42,
     "metadata": {},
     "output_type": "execute_result"
    }
   ],
   "source": [
    "nacute = '\\u0144'\n",
    "nacute"
   ]
  },
  {
   "cell_type": "code",
   "execution_count": 43,
   "metadata": {},
   "outputs": [
    {
     "data": {
      "text/plain": [
       "b'\\xc5\\x84'"
      ]
     },
     "execution_count": 43,
     "metadata": {},
     "output_type": "execute_result"
    }
   ],
   "source": [
    "nacute.encode('utf8')"
   ]
  },
  {
   "cell_type": "code",
   "execution_count": 44,
   "metadata": {},
   "outputs": [
    {
     "name": "stdout",
     "output_type": "stream",
     "text": [
      "b'Niemc\\\\xf3w pod koniec II wojny \\\\u015bwiatowej na Dolny \\\\u015al\\\\u0105sk, zosta\\\\u0142y\\\\n'\n"
     ]
    }
   ],
   "source": [
    "import unicodedata\n",
    "lines = open(path, encoding='latin2').readlines()\n",
    "line = lines[2]\n",
    "print(line.encode('unicode_escape'))"
   ]
  },
  {
   "cell_type": "code",
   "execution_count": 45,
   "metadata": {},
   "outputs": [
    {
     "name": "stdout",
     "output_type": "stream",
     "text": [
      "b'\\xc3\\xb3' U+00f3 LATIN SMALL LETTER O WITH ACUTE\n",
      "b'\\xc5\\x9b' U+015b LATIN SMALL LETTER S WITH ACUTE\n",
      "b'\\xc5\\x9a' U+015a LATIN CAPITAL LETTER S WITH ACUTE\n",
      "b'\\xc4\\x85' U+0105 LATIN SMALL LETTER A WITH OGONEK\n",
      "b'\\xc5\\x82' U+0142 LATIN SMALL LETTER L WITH STROKE\n"
     ]
    }
   ],
   "source": [
    "for c in line: \n",
    "    if ord(c) > 127:\n",
    "        print('{} U+{:04x} {}'.format(c.encode('utf8'), ord(c), unicodedata.name(c)))"
   ]
  },
  {
   "cell_type": "code",
   "execution_count": 46,
   "metadata": {},
   "outputs": [
    {
     "data": {
      "text/plain": [
       "54"
      ]
     },
     "execution_count": 46,
     "metadata": {},
     "output_type": "execute_result"
    }
   ],
   "source": [
    "line.find('zosta\\u0142y')"
   ]
  },
  {
   "cell_type": "code",
   "execution_count": 49,
   "metadata": {},
   "outputs": [
    {
     "data": {
      "text/plain": [
       "'Niemców pod koniec II wojny światowej na Dolny Śląsk, zostały\\n'"
      ]
     },
     "execution_count": 49,
     "metadata": {},
     "output_type": "execute_result"
    }
   ],
   "source": [
    "line = lines[2]\n",
    "line"
   ]
  },
  {
   "cell_type": "code",
   "execution_count": 47,
   "metadata": {},
   "outputs": [
    {
     "data": {
      "text/plain": [
       "'niemców pod koniec ii wojny światowej na dolny śląsk, zostały\\n'"
      ]
     },
     "execution_count": 47,
     "metadata": {},
     "output_type": "execute_result"
    }
   ],
   "source": [
    "line = line.lower()\n",
    "line"
   ]
  },
  {
   "cell_type": "code",
   "execution_count": 50,
   "metadata": {},
   "outputs": [
    {
     "data": {
      "text/plain": [
       "'światowej'"
      ]
     },
     "execution_count": 50,
     "metadata": {},
     "output_type": "execute_result"
    }
   ],
   "source": [
    "import re\n",
    "m = re.search('\\u015b\\w*', line)\n",
    "m.group()"
   ]
  },
  {
   "cell_type": "code",
   "execution_count": 51,
   "metadata": {},
   "outputs": [
    {
     "data": {
      "text/plain": [
       "['Niemców',\n",
       " 'pod',\n",
       " 'koniec',\n",
       " 'II',\n",
       " 'wojny',\n",
       " 'światowej',\n",
       " 'na',\n",
       " 'Dolny',\n",
       " 'Śląsk',\n",
       " ',',\n",
       " 'zostały']"
      ]
     },
     "execution_count": 51,
     "metadata": {},
     "output_type": "execute_result"
    }
   ],
   "source": [
    "word_tokenize(line)"
   ]
  },
  {
   "cell_type": "code",
   "execution_count": 54,
   "metadata": {},
   "outputs": [
    {
     "data": {
      "text/plain": [
       "210687"
      ]
     },
     "execution_count": 54,
     "metadata": {},
     "output_type": "execute_result"
    }
   ],
   "source": [
    "wordlist = [w for w in nltk.corpus.words.words('en') if w.islower()]\n",
    "len(wordlist)"
   ]
  },
  {
   "cell_type": "code",
   "execution_count": 55,
   "metadata": {},
   "outputs": [],
   "source": [
    "ending_with_ed = [w for w in wordlist if re.search('ed$', w)]"
   ]
  },
  {
   "cell_type": "code",
   "execution_count": 56,
   "metadata": {},
   "outputs": [
    {
     "data": {
      "text/plain": [
       "9148"
      ]
     },
     "execution_count": 56,
     "metadata": {},
     "output_type": "execute_result"
    }
   ],
   "source": [
    "len(ending_with_ed)"
   ]
  },
  {
   "cell_type": "code",
   "execution_count": 58,
   "metadata": {},
   "outputs": [
    {
     "data": {
      "text/plain": [
       "'abjectly, adjuster, dejected, dejectly, injector, majestic, objectee, objector, rejecter, rejector, unjilted, unjolted, unjustly'"
      ]
     },
     "execution_count": 58,
     "metadata": {},
     "output_type": "execute_result"
    }
   ],
   "source": [
    "', '.join([w for w in wordlist if re.search('^..j..t..$', w)])"
   ]
  },
  {
   "cell_type": "code",
   "execution_count": 62,
   "metadata": {},
   "outputs": [
    {
     "data": {
      "text/plain": [
       "'abjectedness,abjection,abjective,abjectly,abjectness,adjection,adjectional,adjectival,adjectivally,adjective,adjectively,adjectivism,adjectivitis,adjustable,adjustably,adjustage,adjustation,adjuster,adjustive,adjustment,antejentacular,antiprojectivity,bijouterie,coadjustment,cojusticiar,conjective,conjecturable,conjecturably,conjectural,conjecturalist,conjecturality,conjecturally,conjecture,conjecturer,coprojector,counterobjection,dejected,dejectedly,dejectedness,dejectile,dejection,dejectly,dejectory,dejecture,disjection,guanajuatite,inadjustability,inadjustable,injectable,injection,injector,injustice,insubjection,interjection,interjectional,interjectionalize,interjectionally,interjectionary,interjectionize,interjectiveness,interjector,interjectorily,interjectory,interjectural,interobjective,intersubjective,introjection,introjective,majestic,majestical,majestically,majesticalness,majesticness,majestious,majestyship,maladjusted,maladjustive,maladjustment,microinjection,microprojector,misconjecture,munjistin,nonadjectival,nonadjustable,nonadjustive,nonadjustment,nonconjectural,nonejection,nonobjection,nonobjective,nonprojection,nonprojective,nonprojectively,nonrejection,nonsubjective,objectable,objectation,objectative,objectee,objecthood,objectification,objectify,objection,objectionability,objectionable,objectionableness,objectionably,objectional,objectioner,objectionist,objectival,objectivate,objectivation,objective,objectively,objectiveness,objectivism,objectivist,objectivistic,objectivity,objectivize,objectization,objectize,objectless,objectlessly,objectlessness,objector,outjetting,overjutting,overobjectify,preadjectival,preadjective,preadjustable,preadjustment,preconjecture,prejustification,prejustify,preobjection,preobjective,prerejection,presubjection,projectable,projectedly,projectile,projecting,projectingly,projection,projectional,projectionist,projective,projectively,projectivity,projector,projectress,projectrix,projecture,readjustable,readjuster,readjustment,rejectable,rejectableness,rejectage,rejectamenta,rejecter,rejectingly,rejection,rejective,rejectment,rejector,rejustification,rejustify,reobjectivization,reobjectivize,resubjection,retrojection,semiadjectively,subjectability,subjectable,subjectdom,subjected,subjectedly,subjectedness,subjecthood,subjectibility,subjectible,subjectification,subjectify,subjectile,subjection,subjectional,subjectist,subjective,subjectively,subjectiveness,subjectivism,subjectivist,subjectivistic,subjectivistically,subjectivity,subjectivize,subjectivoidealistic,subjectless,subjectlike,subjectness,subjectship,superdejection,superinjustice,superjustification,superobjection,superobjectionable,teleobjective,trajectile,trajection,trajectitious,trajectory,transsubjective,unadjectived,unadjustably,unadjusted,unadjustment,unconjecturable,unconjectured,undejected,underadjustment,unejected,uninjectable,uninjected,uninterjected,unjesting,unjilted,unjolted,unjostled,unjustice,unjusticiable,unjustifiable,unjustifiableness,unjustifiably,unjustified,unjustifiedly,unjustifiedness,unjustify,unjustled,unjustly,unjustness,unmajestic,unobjected,unobjectionable,unobjectionableness,unobjectionably,unobjectional,unobjective,unprojected,unprojecting,unrejectable,unsubjectable,unsubjected,unsubjectedness,unsubjection,unsubjective,unsubjectlike'"
      ]
     },
     "execution_count": 62,
     "metadata": {},
     "output_type": "execute_result"
    }
   ],
   "source": [
    "','.join([w for w in wordlist if re.search('..j..t..', w)])"
   ]
  },
  {
   "cell_type": "code",
   "execution_count": 60,
   "metadata": {},
   "outputs": [
    {
     "data": {
      "text/plain": [
       "['gold', 'golf', 'hold', 'hole']"
      ]
     },
     "execution_count": 60,
     "metadata": {},
     "output_type": "execute_result"
    }
   ],
   "source": [
    "[w for w in wordlist if re.search('^[ghi][mno][jlk][def]$', w)]"
   ]
  },
  {
   "cell_type": "code",
   "execution_count": 63,
   "metadata": {},
   "outputs": [
    {
     "data": {
      "text/plain": [
       "['miiiiiiiiiiiiinnnnnnnnnnneeeeeeeeee',\n",
       " 'miiiiiinnnnnnnnnneeeeeeee',\n",
       " 'mine',\n",
       " 'mmmmmmmmiiiiiiiiinnnnnnnnneeeeeeee']"
      ]
     },
     "execution_count": 63,
     "metadata": {},
     "output_type": "execute_result"
    }
   ],
   "source": [
    "chat_words = sorted(set(w for w in nltk.corpus.nps_chat.words()))\n",
    "[w for w in chat_words if re.search('^m+i+n+e+$', w)]"
   ]
  },
  {
   "cell_type": "code",
   "execution_count": 65,
   "metadata": {},
   "outputs": [
    {
     "data": {
      "text/plain": [
       "'a, aaaaaaaaaaaaaaaaa, aaahhhh, ah, ahah, ahahah, ahh, ahhahahaha, ahhh, ahhhh, ahhhhhh, ahhhhhhhhhhhhhh, h, ha, haaa, hah, haha, hahaaa, hahah, hahaha, hahahaa, hahahah, hahahaha, hahahahaaa, hahahahahaha, hahahahahahaha, hahahahahahahahahahahahahahahaha, hahahhahah, hahhahahaha'"
      ]
     },
     "execution_count": 65,
     "metadata": {},
     "output_type": "execute_result"
    }
   ],
   "source": [
    "', '.join([w for w in chat_words if re.search('^[ha]+$', w)])"
   ]
  },
  {
   "cell_type": "code",
   "execution_count": 67,
   "metadata": {},
   "outputs": [
    {
     "data": {
      "text/plain": [
       "'0.0085, 0.05, 0.1, 0.16, 0.2, 0.25, 0.28, 0.3, 0.4, 0.5, 0.50, 0.54, 0.56, 0.60, 0.7, 0.82, 0.84, 0.9, 0.95, 0.99, 1.01, 1.1, 1.125, 1.14, 1.1650, 1.17, 1.18, 1.19, 1.2, 1.20, 1.24, 1.25, 1.26, 1.28, 1.35, 1.39, 1.4, 1.457, 1.46, 1.49, 1.5, 1.50, 1.55, 1.56, 1.5755, 1.5805, 1.6, 1.61, 1.637, 1.64, 1.65, 1.7, 1.75, 1.76, 1.8, 1.82, 1.8415, 1.85, 1.8500, 1.9, 1.916, 1.92, 10.19, 10.2, 10.5, 107.03, 107.9, 109.73, 11.10, 11.5, 11.57, 11.6, 11.72, 11.95, 112.9, 113.2, 116.3, 116.4, 116.7, 116.9, 118.6, 12.09, 12.5, 12.52, 12.68, 12.7, 12.82, 12.97, 120.7, 1206.26, 121.6, 126.1, 126.15, 127.03, 129.91, 13.1, 13.15, 13.5, 13.50, 13.625, 13.65, 13.73, 13.8, 13.90, 130.6, 130.7, 131.01, 132.9, 133.7, 133.8, 14.00, 14.13, 14.26, 14.28, 14.43, 14.5, 14.53, 14.54, 14.6, 14.75, 14.99, 141.9, 142.84, 142.85, 143.08, 143.80, 143.93, 148.9, 149.9, 15.5, 150.00, 153.3, 154.2, 16.05, 16.09, 16.125, 16.2, 16.5, 16.68, 16.7, 16.9, 169.9, 17.3, 17.4, 17.5, 17.95, 1738.1, 176.1, 18.3, 18.6, 18.95, 185.9, 188.84, 19.3, 19.50, 19.6, 19.94, 19.95, 191.9, 2.07, 2.1, 2.15, 2.19, 2.2, 2.25, 2.29, 2.3, 2.30, 2.35, 2.375, 2.4, 2.42, 2.44, 2.46, 2.47, 2.5, 2.50, 2.6, 2.62, 2.65, 2.7, 2.75, 2.8, 2.80, 2.87, 2.875, 2.9, 2.95, 20.07, 20.5, 21.1, 21.9, 2141.7, 2160.1, 2163.2, 22.75, 220.45, 221.4, 225.6, 23.25, 23.4, 23.5, 23.72, 234.4, 236.74, 236.79, 24.95, 25.50, 25.6, 251.2, 26.2, 26.5, 26.8, 263.07, 2645.90, 2691.19, 27.1, 27.4, 273.5, 278.7, 28.25, 28.36, 28.4, 28.5, 28.53, 28.6, 29.3, 29.4, 29.9, 292.32, 3.01, 3.04, 3.1, 3.16, 3.18, 3.19, 3.2, 3.20, 3.23, 3.253, 3.28, 3.3, 3.35, 3.375, 3.4, 3.42, 3.43, 3.5, 3.55, 3.6, 3.61, 3.625, 3.7, 3.75, 3.8, 3.80, 3.9, 30.6, 30.9, 319.75, 32.8, 334.5, 34.625, 341.20, 3436.58, 35.2, 35.7, 352.7, 352.9, 35500.64, 35564.43, 36.9, 361.8, 3648.82, 37.3, 37.5, 372.14, 372.9, 374.19, 374.20, 377.60, 38.3, 38.375, 38.5, 38.875, 387.8, 4.1, 4.10, 4.2, 4.25, 4.3, 4.4, 4.5, 4.55, 4.6, 4.7, 4.75, 4.8, 4.875, 4.898, 4.9, 40.21, 41.60, 415.6, 415.8, 42.1, 42.5, 422.5, 43.875, 434.4, 436.01, 446.62, 449.04, 45.2, 45.3, 45.75, 456.64, 46.1, 47.1, 47.125, 47.5, 47.6, 49.9, 494.50, 497.34, 5.1, 5.2180, 5.276, 5.29, 5.3, 5.39, 5.4, 5.435, 5.5, 5.57, 5.6, 5.63, 5.7, 5.70, 5.8, 5.82, 5.9, 5.92, 50.1, 50.38, 50.45, 51.25, 51.6, 55.1, 566.54, 57.50, 57.6, 57.7, 58.64, 59.6, 59.9, 6.03, 6.1, 6.20, 6.21, 6.25, 6.4, 6.40, 6.44, 6.5, 6.50, 6.53, 6.6, 6.7, 6.70, 6.79, 6.84, 6.9, 60.36, 618.1, 62.1, 62.5, 62.625, 63.79, 630.9, 64.5, 66.5, 7.15, 7.2, 7.20, 7.272, 7.3, 7.4, 7.40, 7.422, 7.45, 7.458, 7.5, 7.50, 7.52, 7.55, 7.60, 7.62, 7.63, 7.65, 7.74, 7.78, 7.79, 7.8, 7.80, 7.84, 7.88, 7.90, 7.95, 70.2, 70.7, 705.6, 72.7, 734.9, 737.5, 77.56, 77.6, 77.70, 8.04, 8.06, 8.07, 8.1, 8.12, 8.14, 8.15, 8.19, 8.2, 8.22, 8.25, 8.30, 8.35, 8.45, 8.467, 8.47, 8.48, 8.5, 8.50, 8.53, 8.55, 8.56, 8.575, 8.60, 8.64, 8.65, 8.70, 8.75, 8.9, 80.50, 80.8, 81.8, 811.9, 83.4, 84.29, 84.9, 85.1, 85.7, 86.12, 87.5, 88.32, 89.7, 89.9, 9.3, 9.32, 9.37, 9.45, 9.5, 9.625, 9.75, 9.8, 9.82, 9.9, 92.9, 93.3, 93.9, 94.2, 94.8, 95.09, 96.4, 98.3, 99.1, 99.3'"
      ]
     },
     "execution_count": 67,
     "metadata": {},
     "output_type": "execute_result"
    }
   ],
   "source": [
    "wsj = sorted(set(nltk.corpus.treebank.words()))\n",
    "', '.join([w for w in wsj if re.search('^[0-9]+\\.[0-9]+$', w)])"
   ]
  },
  {
   "cell_type": "code",
   "execution_count": 68,
   "metadata": {},
   "outputs": [
    {
     "data": {
      "text/plain": [
       "['C$', 'US$']"
      ]
     },
     "execution_count": 68,
     "metadata": {},
     "output_type": "execute_result"
    }
   ],
   "source": [
    "[w for w in wsj if re.search('^[A-Z]+\\$$', w)]"
   ]
  },
  {
   "cell_type": "code",
   "execution_count": 70,
   "metadata": {},
   "outputs": [
    {
     "data": {
      "text/plain": [
       "'1614, 1637, 1787, 1901, 1903, 1917, 1925, 1929, 1933, 1934, 1948, 1953, 1955, 1956, 1961, 1965, 1966, 1967, 1968, 1969, 1970, 1971, 1972, 1973, 1975, 1976, 1977, 1979, 1980, 1981, 1982, 1983, 1984, 1985, 1986, 1987, 1988, 1989, 1990, 1991, 1992, 1993, 1994, 1995, 1996, 1997, 1998, 1999, 2000, 2005, 2009, 2017, 2019, 2029, 3057, 8300'"
      ]
     },
     "execution_count": 70,
     "metadata": {},
     "output_type": "execute_result"
    }
   ],
   "source": [
    "', '.join([w for w in wsj if re.search('^[0-9]{4}$', w)])"
   ]
  },
  {
   "cell_type": "code",
   "execution_count": 72,
   "metadata": {},
   "outputs": [
    {
     "data": {
      "text/plain": [
       "'10-day, 10-lap, 10-year, 100-share, 12-point, 12-year, 14-hour, 15-day, 150-point, 190-point, 20-point, 20-stock, 21-month, 237-seat, 240-page, 27-year, 30-day, 30-point, 30-share, 30-year, 300-day, 36-day, 36-store, 42-year, 50-state, 500-stock, 52-week, 69-point, 84-month, 87-store, 90-day'"
      ]
     },
     "execution_count": 72,
     "metadata": {},
     "output_type": "execute_result"
    }
   ],
   "source": [
    "', '.join([w for w in wsj if re.search('^[0-9]+-[a-z]{3,5}$', w)])"
   ]
  },
  {
   "cell_type": "code",
   "execution_count": 73,
   "metadata": {},
   "outputs": [
    {
     "data": {
      "text/plain": [
       "['black-and-white',\n",
       " 'bread-and-butter',\n",
       " 'father-in-law',\n",
       " 'machine-gun-toting',\n",
       " 'savings-and-loan']"
      ]
     },
     "execution_count": 73,
     "metadata": {},
     "output_type": "execute_result"
    }
   ],
   "source": [
    "[w for w in wsj if re.search('^[a-z]{5,}-[a-z]{2,3}-[a-z]{,6}$', w)]"
   ]
  },
  {
   "cell_type": "code",
   "execution_count": 76,
   "metadata": {},
   "outputs": [
    {
     "data": {
      "text/plain": [
       "'62%-owned, Absorbed, According, Adopting, Advanced, Advancing, Alfred, Allied, Annualized, Anything, Arbitrage-related, Arbitraging, Asked, Assuming, Atlanta-based, Baking, Banking, Beginning, Beijing, Being, Bermuda-based, Betting, Boeing, Broadcasting, Bucking, Buying, Calif.-based, Change-ringing, Citing, Concerned, Confronted, Conn.based, Consolidated, Continued, Continuing, Declining, Defending, Depending, Designated, Determining, Developed, Died, During, Encouraged, Encouraging, English-speaking, Estimated, Everything, Excluding, Exxon-owned, Faulding, Fed, Feeding, Filling, Filmed, Financing, Following, Founded, Fracturing, Francisco-based, Fred, Funded, Funding, Generalized, Germany-based, Getting, Guaranteed, Having, Heating, Heightened, Holding, Housing, Illuminating, Indeed, Indexing, Irving, Jersey-based, Judging, Knowing, Learning, Legislating, Leming, Limited, London-based, Manfred, Manufacturing, Melamed, Miami-based, Mich.-based, Mining, Minneapolis-based, Mo.-based, Mortgage-Backed, Moving, Muzzling, N.J.-based, NBC-owned, NIH-appointed, Named, No-Smoking, Observing, Offering, Ohio-based, Orleans-based, Packaging, Performing, Philadelphia-based, Posted, Provided, Publishing, Purchasing, Rated, Reached, Red, Red-blooded, Reducing, Reed, Regarded, Rekindled, Related, Ringing, Rolling, Sacramento-based, Scoring, Seattle-based, Seed, Skilled, Smelting, Something, Spending, Standardized, Standing, Starting, Sterling, Taking, Texas-based, Toronto-based, Traded, Trading, Troubled, U.N.-supervised, U.S.-backed, United, Used, Varying, Washington-based, Whiting, Wilfred, Winning, Xiaoping, York-based, Zayed, abandoned, abating, abolishing, abortion-related, abounding, abridging, absorbed, acceded, accelerated, accepted, accepting, according, accounted, accounting, accrued, accumulated, accused, accusing, achieved, achieving, acknowledging, acquired, acquiring, acquisition-minded, acted, acting, adapted, adapting, added, adding, addressing, adjusted, adjusting, admitted, admitting, adopted, advanced, advancing, advertised, advertising, advised, advocated, advocating, affecting, afflicted, aggravated, agreed, agreeing, ailing, aimed, aiming, aired, airline-related, alarmed, alienated, alleged, alleging, allocated, allowed, altered, altering, amended, amending, amounted, amusing, angered, announced, annoyed, annualized, answered, anti-dumping, anticipated, anticipating, anything, apologizing, appealing, appeared, appearing, applied, appointed, approached, appropriated, approved, arched, argued, arguing, arising, armed, arranged, arrested, arrived, asbestos-related, asked, asking, assassinated, assembled, asserted, asserting, assessed, assigned, assisted, associated, assumed, assuming, assured, attached, attacking, attempted, attempting, attended, attending, attracted, attracting, attributed, auctioned, authorized, authorizing, automated, automotive-lighting, averaged, averted, avoiding, awarded, awarding, backed, backing, balanced, bald-faced, balkanized, balked, balloting, bank-backed, banking, banned, banning, barking, barred, based, battered, battery-operated, batting, bearing, becoming, bedding, befuddled, beginning, behaving, beheading, being, beleaguered, believed, bell-ringing, belonging, benefited, best-selling, betting, bickering, bidding, billed, billing, blamed, bled, blessing, blighted, blocked, blurred, boarding, bolstered, bombarding, booked, booming, boosted, boosting, borrowed, borrowing, botched, bothered, bounced, bowed, breaking, breathed, breathtaking, breed, bribed, bribing, briefing, brightened, bring, bringing, broad-based, broadcasting, broadened, brokering, brushed, budding, building, bundling, buoyed, burned, buying, calculated, called, calling, campaigning, cancer-causing, capitalized, capped, captivating, cared, carried, carrying, cascading, casting, caused, causing, cautioned, ceiling, centralized, certified, chaired, challenging, championing, change-ringing, changed, changing, characterized, characterizing, charged, charging, chastised, cheating, checking, cheerleading, chilled, choosing, chopped, circulated, cited, citing, citizen-sparked, city-owned, claimed, claiming, clamped, clarified, clashed, classed, classified, cleaned, cleaner-burning, cleared, clearing, clicked, climbed, climbing, clipped, clobbered, closed, closing, clothing, clouding, cluttered, co-founded, coaching, coal-fired, coated, codified, collaborated, collapsed, collected, collecting, collective-bargaining, colored, combined, coming, commanded, commenting, committed, committing, compared, compelling, competed, competing, compiled, complained, complaining, completed, completing, complicated, composed, composting, compressed, computer-aided, computer-assisted, computer-generated, computerized, computing, conceding, concentrated, concentrating, concerned, concluded, condemned, condemning, conducted, conducting, confined, confirmed, confused, connected, consented, considered, considering, consisting, construed, consulting, contacted, contained, containing, contesting, continued, continuing, contracted, contributed, contributing, controlled, controlling, converted, converting, convicted, convinced, cooled, cooperating, copied, copying, corn-buying, corrected, correcting, cost-cutting, cost-sharing, counseling, counting, coupled, court-ordered, covered, covering, cranked, crashing, created, creating, credit-rating, crippled, criticized, crossed, crossing, crowded, cruising, crushed, crying, cultivated, curbed, curbing, curled, current-carrying, curtailed, cushioned, customized, cutting, damaged, damaging, dancing, darned, dashed, dating, dead-eyed, dealing, decided, declared, declaring, declined, declining, decorated, decried, deducting, deemed, defeated, defended, defined, defying, delayed, deliberating, delisted, delivered, delivering, demanding, demonstrating, denied, denouncing, denying, depended, depending, depleted, depressed, deprived, derived, descending, described, deserving, designated, designed, designing, desired, despised, detailed, deteriorated, deteriorating, determined, deterring, devastating, developed, developing, devised, devoted, devouring, diagnosed, died, diluted, diming, diminished, directed, directing, disaffected, disagreed, disappointed, disappointing, disapproved, discarded, disciplined, disclosed, disclosing, discontinued, discontinuing, discouraging, discovered, discussed, discussing, disembodied, dismayed, dismissed, disposed, disputed, disseminating, distinguished, distorted, distributed, disturbing, diversified, diversifying, divided, dividing, documented, doing, doling, dollar-denominated, dominated, dominating, doubled, doubted, downgraded, downgrading, drafted, drawing, dreamed, dressed, drifted, drinking, driving, drooled, dropped, dubbed, duckling, dumbfounded, dumped, during, dwindling, earned, earning, eased, easing, eating, echoed, edged, editing, educated, elected, eliminated, eliminating, embarrassing, embroiled, emerged, emerging, emphasized, employed, empowered, enabled, enabling, enacted, encircling, enclosed, encouraging, encroaching, ended, ending, endorsed, engaged, engaging, engineered, engineering, enhanced, enjoyed, enjoying, enlarged, enraged, ensnarled, entangled, entered, entering, entertaining, enticed, entitled, entrenched, entrusted, equaling, equipped, escalated, escaped, established, establishing, estimated, evaluated, evaluating, evaporated, evening, everything, evoking, evolved, exacerbated, examined, exceed, exceeded, exceeding, exchanging, excited, exciting, executed, executing, exercised, exerting, exhausted, exhibited, existed, existing, expanded, expanding, expected, expecting, expedited, expelled, experienced, experiencing, expired, explained, explaining, exploded, export-oriented, exposed, expressed, expressing, expunged, extended, extending, exuded, eyeing, fabled, faced, facing, factoring, faded, failed, failing, fainting, falling, faltered, famed, family-planning, fared, fashioned, fast-growing, fastest-growing, fattened, favored, fawning, feared, featured, featuring, fed, feed, feeling, fetching, fielded, fighting, filed, filing, filled, filling, finalized, financed, financing, finding, fined, finished, fired, firmed, fixed, fizzled, fled, fledgling, fleeting, flirted, floated, flooded, focused, focusing, folded, followed, following, forced, forcing, forecasting, foreign-led, formed, forthcoming, founded, foundering, fretted, frightened, frustrating, fueled, fueling, full-fledged, fuming, functioning, funded, funding, fundraising, futures-related, gained, gaining, galling, galvanized, gambling, gauging, generated, getting, giving, going, good-hearted, good-natured, gored, government-certified, government-funded, government-owned, graduated, granted, granting, greed, gripping, growing, guaranteed, guarding, guided, gut-wrenching, hailed, hailing, halted, hampered, handed, handled, handling, happened, happening, hard-charging, hard-drinking, hard-hitting, harmed, harped, harvested, hauled, hauling, having, headed, heading, headlined, healing, hearing, heated, heating, hedging, heightened, helped, helping, high-flying, high-minded, high-polluting, high-priced, high-rolling, high-speed, higher-salaried, highest-pitched, hired, hitting, holding, hoped, hosted, housing, hugging, hundred, hunted, hurting, identified, ignored, ignoring, impaired, impeding, impending, implemented, implied, imported, imposed, imposing, impressed, improved, improving, incentive-backed, inched, inching, included, including, incorporated, increased, increasing, incurred, indeed, index-related, indicated, indicating, indulging, industrialized, industry-supported, inflated, influenced, influencing, infringed, inherited, initialing, initiated, initiating, injecting, injuring, inkling, inquiring, inserted, insider-trading, insinuating, insisted, inspired, installed, installing, instituted, instructed, insured, integrated, intended, intentioned, interest-bearing, interested, interesting, interrogated, interviewed, intriguing, introduced, introducing, invented, inverted, invested, investigating, investing, inviting, involved, involving, issued, issuing, jeopardizing, joined, joining, judged, jumped, jumping, justified, justifying, keeping, kicked, kidnapping, killed, killing, knitted, knocked, labeled, labeling, labor-backed, lacked, lagging, land-idling, landing, lasted, lasting, lauded, laughing, launched, lawmaking, laying, leading, learned, learning, leasing, leaving, led, lending, lengthened, lessening, letter-writing, letting, leveling, leveraged, leveraging, licensed, licensing, lifted, lifting, limited, limiting, limping, linked, liquidated, listed, listing, living, loaded, loading, located, locked, long-tenured, longstanding, looked, looking, looming, losing, loved, low-priced, lower-priced, lowered, lowering, lying, machine-gun-toting, magnified, mailed, mailing, maintained, maintaining, making, male-dominated, managed, managing, manufactured, manufacturing, marching, market-based, market-oriented, marketed, marketing, matched, matching, materialized, mating, maturing, meaning, measured, meatpacking, medium-sized, meeting, melt-textured, mentioned, merchandising, merged, merger-related, midsized, milked, mind-boggling, mining, minority-owned, minted, mired, missed, mixed, mobilizing, moderated, mollified, money-losing, monied, morale-damaging, more-advanced, morning, mortgage-backed, mortgage-based, mortgaged, mounted, moved, moving, mudslinging, muffled, mulling, multiplying, murdered, muscling, muted, muzzling, named, naming, narrowed, need, needed, needing, negotiated, negotiating, neighboring, networking, newspaper-printing, nominated, non-encapsulating, nonrecurring, notched, noted, nothing, noticed, noticing, notified, noting, notwithstanding, nullified, numbered, nurtured, obligated, observed, obsessed, obtained, obtaining, occupying, occurred, odd-sounding, offending, offered, offering, offsetting, old-fashioned, omitted, ongoing, opened, opening, operated, operating, opposed, orchestrated, ordered, ordering, organized, oriented, outdistanced, outlawed, outlawing, outnumbered, outpaced, outraged, outstanding, overcrowding, overleveraged, overpaying, overpriced, overriding, overstated, overused, overvalued, owed, owned, owning, packaging, packed, painted, painting, parched, parking, participated, parts-engineering, passed, passing, patented, paying, peaked, pealing, peddling, pegged, pending, perceived, performed, performing, permitted, permitting, phasing, photocopying, picked, picking, pinning, pitting, placed, placing, plagued, planned, planning, planted, planting, played, playing, pleaded, pleased, pledged, plugged, plummeted, plunged, plunging, pointed, pointing, polarized, policy-making, polled, populated, portrayed, posing, positioned, possessed, post-hearing, posted, posting, postponed, poured, practiced, practicing, praised, pre-approved, pre-cooked, pre-existing, preapproved, predicated, predicted, predicting, preferred, prepared, presented, preserving, pressed, pressing, pressured, prevailing, preventing, price-depressing, priced, pricing, printed, privileged, processing, produced, producing, profit-taking, profited, program-trading, programming, prohibited, prohibiting, prolonged, promised, promising, promoting, prompted, propelling, proposed, proposing, prosecuted, prosecuting, protected, protecting, protracted, proved, provided, providing, proving, provoked, prying, publicized, published, publishing, pulled, pulling, pumping, punishing, purchased, purchasing, purhasing, pursued, pushed, pushing, putting, puzzled, qualified, quashing, questioned, queuing, quipped, quitting, quoted, quoting, raced, racing, railing, raised, raising, rallying, ranged, ranging, ranked, rarefied, raring, ratcheting, rated, ratified, rating, rationed, reached, reaching, reacted, reading, reaffirmed, realized, reallocated, reaped, reaping, reasoning, reassuring, rebounding, rebuffed, rebuilding, rebuked, recalling, received, receiving, recession-inspired, reciting, reclaimed, recognizing, recommended, recommending, record-keeping, recorded, recouped, recovered, recovering, recruited, recruiting, rectified, recycled, red, redeemed, redeeming, redistributing, reduced, reducing, reeling, referred, referring, refitting, reflected, reflecting, refocusing, refreshing, refunded, refunding, refused, regarded, regarding, regimented, registered, regulated, regulating, reimbursed, reinstating, rejected, related, relating, relaunched, released, relegated, relied, relieved, remained, remaining, remarked, reminded, remodeling, removed, removing, rendering, renewed, renewing, renovated, reopened, reorganized, repaired, replaced, replacing, replicated, replicating, reported, reporting, represented, representing, repriced, requested, requesting, required, requiring, rescheduled, researching, reserved, reshaping, resigned, resigning, resisting, resolved, respected, responded, responding, restored, restricting, restructured, restructuring, resulted, resulting, retailing, retained, retaining, retaliating, retired, retiring, retraced, returned, returning, reversed, reviewed, reviewing, revised, revising, revived, rewarding, riding, rigged, ring, ringing, rising, robbed, rolled, rolling, romanticized, rooted, ruled, ruling, rumored, running, rushed, rusted, sacked, sacrificing, safeguarding, sagged, sagging, satisfying, saved, saving, saying, scared, scaring, scattered, scheduled, school-sponsored, scrambled, scrambling, scrapped, screened, screwed, scrutinizing, searched, searching, seasoned, secured, securities-based, seeing, seeking, seemed, segmenting, seized, selected, self-aggrandizing, self-perpetuating, self-serving, selling, sending, sentencing, served, serviced, servicing, serving, setting, settled, shaded, shaping, shared, shed, shedding, shipbuilding, shipped, shipping, shirt-sleeved, shopped, shopping, shoring, short-lived, showed, showing, shrinking, signaling, signed, signifying, signing, single-handed, singled, sitting, sketching, skidded, skilled, skipped, skyrocketed, slashing, slated, slaying, sleeping, sliding, slipped, slowed, slowing, smattering, smoking, smothering, snaking, snapped, sneaked, so-called, soared, soaring, softening, soliciting, solved, something, sometimes-exhausting, sophisticated, sorting, sounded, sounding, soured, sparing, sparked, sparking, speaking, specialized, specializing, specified, speculated, speculating, speed, spending, spilling, spooked, sports-oriented, spotted, sprawling, spring, spurned, spurred, spurring, sputtered, squeezed, stabbed, stacked, stacking, staggering, standardized, standing, started, starting, startling, state-appointed, state-owned, state-supervised, stated, stayed, staying, stemmed, stemming, stepped, stepping, stereotyped, sterling, sticking, stimulated, stimulating, stirred, stock-picking, stoked, stopped, stored, strapped, strengthened, stressed, stressing, stretched, stretching, striking, string, stripped, striving, strong-willed, structured, struggled, struggling, studied, studying, stunned, subdued, subjecting, subordinated, subpoenaed, substance-abusing, succeed, succeeded, succeeding, sued, suffered, suffering, suggested, suing, summoned, superimposed, supported, surfaced, surged, surprised, surprising, surrendered, surrounding, surveyed, surviving, suspended, sustained, swapped, swapping, sweeping, sweetened, swelling, swing, switched, synchronized, tailored, tailoring, taking, talked, talking, tanked, tapping, targeted, targeting, teaching, teetering, telling, tempted, tendered, tendering, termed, terminated, test-coaching, tested, testing, thin-lipped, thing, thinking, thirtysomething, threatened, thumbing, tie-breaking, tied, tightened, tightening, timing, tired, top-selling, top-yielding, topped, totaled, totaling, touched, touted, traced, tracked, tracking, traded, trading, trafficking, trailed, trained, training, transacting, transferring, transformed, transforming, transporting, travel-related, traveled, traveling, treated, treating, tried, triggered, trimmed, trimming, triple-A-rated, tripled, troubled, truth-in-lending, trying, tumbled, turned, turning, twinned, twisting, two-tiered, unabated, unaffiliated, unanticipated, unauthorized, unchanged, uncharted, uncompensated, uncomplaining, unconsolidated, undelivered, undercutting, undergoing, underlying, underperforming, underprivileged, understanding, undertaking, undisclosed, unenticing, unexpected, unfettered, unfilled, unfocused, unfounded, unfunded, unimpeded, unjustified, unlabeled, unleashed, unloaded, unmarked, unneeded, unpublished, unraveling, unrealized, unresolved, unrestricted, unsecured, unsettled, unsettling, unsolicited, unspecified, unstinting, untrained, unveiled, unwanted, unwashed, unwilling, upsetting, urged, urging, used, ushered, ushering, using, uttering, valued, varied, varying, ventilated, vested, video-viewing, viewed, viewing, violated, violating, visited, visiting, voted, voting, vowed, waited, waiting, waived, waiving, walking, wallowing, wanted, wanting, war-damaged, war-rationed, warehousing, warming, warned, warning, wasted, watched, watching, weakening, wedded, weighed, weighing, welcomed, well-connected, when-issued, whipping, whirling, willing, winding, wine-buying, wine-making, winning, wooing, word-processing, worked, working, worried, worrying, worsening, wrecking, wrenching, wrestling, writing, wrongdoing, yen-denominated, yet-to-be-formed, yielded, yielding, yttrium-containing, zoomed'"
      ]
     },
     "execution_count": 76,
     "metadata": {},
     "output_type": "execute_result"
    }
   ],
   "source": [
    "', '.join([w for w in wsj if re.search('(ed|ing)$', w)])"
   ]
  },
  {
   "cell_type": "code",
   "execution_count": 78,
   "metadata": {},
   "outputs": [
    {
     "data": {
      "text/plain": [
       "'u, e, a, i, a, i, i, i, e, i, a, i, o, i, o, u'"
      ]
     },
     "execution_count": 78,
     "metadata": {},
     "output_type": "execute_result"
    }
   ],
   "source": [
    "word = 'supercalifragilisticexpialidocious'\n",
    "', '.join(re.findall(r'[aeiou]', word))\n"
   ]
  },
  {
   "cell_type": "code",
   "execution_count": 79,
   "metadata": {},
   "outputs": [
    {
     "data": {
      "text/plain": [
       "[('io', 549),\n",
       " ('ea', 476),\n",
       " ('ie', 331),\n",
       " ('ou', 329),\n",
       " ('ai', 261),\n",
       " ('ia', 253),\n",
       " ('ee', 217),\n",
       " ('oo', 174),\n",
       " ('ua', 109),\n",
       " ('au', 106),\n",
       " ('ue', 105),\n",
       " ('ui', 95)]"
      ]
     },
     "execution_count": 79,
     "metadata": {},
     "output_type": "execute_result"
    }
   ],
   "source": [
    "wsj = sorted(set(nltk.corpus.treebank.words()))\n",
    "fd = nltk.FreqDist(vs for word in wsj\n",
    "                   for vs in re.findall(r'[aeiou]{2,}', word))\n",
    "fd.most_common(12)"
   ]
  },
  {
   "cell_type": "code",
   "execution_count": 83,
   "metadata": {},
   "outputs": [
    {
     "data": {
      "text/plain": [
       "[2009, 12, 31]"
      ]
     },
     "execution_count": 83,
     "metadata": {},
     "output_type": "execute_result"
    }
   ],
   "source": [
    "[int(n) for n in re.findall(r'[0-9]+', '2009-12-31')]"
   ]
  },
  {
   "cell_type": "code",
   "execution_count": 84,
   "metadata": {},
   "outputs": [],
   "source": [
    "regexp = r'^[AEIOUaeiou]+|[AEIOUaeiou]+$|[^AEIOUaeiou]'\n",
    "def compress(word):\n",
    "    pieces = re.findall(regexp, word)\n",
    "    return ''.join(pieces)\n",
    "english_udhr = nltk.corpus.udhr.words('English-Latin1')"
   ]
  },
  {
   "cell_type": "code",
   "execution_count": 85,
   "metadata": {},
   "outputs": [
    {
     "name": "stdout",
     "output_type": "stream",
     "text": [
      "Unvrsl Dclrtn of Hmn Rghts Prmble Whrs rcgntn of the inhrnt dgnty and\n",
      "of the eql and inlnble rghts of all mmbrs of the hmn fmly is the fndtn\n",
      "of frdm , jstce and pce in the wrld , Whrs dsrgrd and cntmpt fr hmn\n",
      "rghts hve rsltd in brbrs acts whch hve outrgd the cnscnce of mnknd ,\n",
      "and the advnt of a wrld in whch hmn bngs shll enjy frdm of spch and\n"
     ]
    }
   ],
   "source": [
    "print(nltk.tokenwrap(compress(w) for w in english_udhr[:75]))"
   ]
  },
  {
   "cell_type": "code",
   "execution_count": 86,
   "metadata": {},
   "outputs": [
    {
     "name": "stdout",
     "output_type": "stream",
     "text": [
      "    a   e   i   o   u \n",
      "k 418 148  94 420 173 \n",
      "p  83  31 105  34  51 \n",
      "r 187  63  84  89  79 \n",
      "s   0   0 100   2   1 \n",
      "t  47   8   0 148  37 \n",
      "v  93  27 105  48  49 \n"
     ]
    }
   ],
   "source": [
    "rotokas_words = nltk.corpus.toolbox.words('rotokas.dic')\n",
    "cvs = [cv for w in rotokas_words for cv in re.findall(r'[ptksvr][aeiou]', w)]\n",
    "cfd = nltk.ConditionalFreqDist(cvs)\n",
    "cfd.tabulate()    "
   ]
  },
  {
   "cell_type": "code",
   "execution_count": 88,
   "metadata": {},
   "outputs": [
    {
     "data": {
      "text/plain": [
       "['kasuari']"
      ]
     },
     "execution_count": 88,
     "metadata": {},
     "output_type": "execute_result"
    }
   ],
   "source": [
    "cv_word_pairs = [(cv, w) for w in rotokas_words\n",
    "                 for cv in re.findall(r'[ptksvr][aeiou]', w)]\n",
    "cv_index = nltk.Index(cv_word_pairs)\n",
    "cv_index['su']"
   ]
  },
  {
   "cell_type": "code",
   "execution_count": 90,
   "metadata": {},
   "outputs": [
    {
     "data": {
      "text/plain": [
       "'kaapo, kaapopato, kaipori, kaiporipie, kaiporivira, kapo, kapoa, kapokao, kapokapo, kapokapo, kapokapoa, kapokapoa, kapokapora, kapokapora, kapokaporo, kapokaporo, kapokari, kapokarito, kapokoa, kapoo, kapooto, kapoovira, kapopaa, kaporo, kaporo, kaporopa, kaporoto, kapoto, karokaropo, karopo, kepo, kepoi, keposi, kepoto'"
      ]
     },
     "execution_count": 90,
     "metadata": {},
     "output_type": "execute_result"
    }
   ],
   "source": [
    "', '.join(cv_index['po'])"
   ]
  },
  {
   "cell_type": "code",
   "execution_count": 93,
   "metadata": {},
   "outputs": [],
   "source": [
    "def stem(word):\n",
    "    for suffix in ['ing', 'ly', 'ed', 'ious', 'ies', 'ive', 'es', 's', 'ment']:\n",
    "        if word.endswith(suffix):\n",
    "            return word[:-len(suffix)]\n",
    "        return word"
   ]
  },
  {
   "cell_type": "code",
   "execution_count": 94,
   "metadata": {},
   "outputs": [
    {
     "data": {
      "text/plain": [
       "['ing']"
      ]
     },
     "execution_count": 94,
     "metadata": {},
     "output_type": "execute_result"
    }
   ],
   "source": [
    "re.findall(r'^.*(ing|ly|ed|ious|ies|ive|es|s|ment)$', 'processing')"
   ]
  },
  {
   "cell_type": "code",
   "execution_count": 95,
   "metadata": {},
   "outputs": [
    {
     "data": {
      "text/plain": [
       "['processing']"
      ]
     },
     "execution_count": 95,
     "metadata": {},
     "output_type": "execute_result"
    }
   ],
   "source": [
    "re.findall(r'^.*(?:ing|ly|ed|ious|ies|ive|es|s|ment)$', 'processing')"
   ]
  },
  {
   "cell_type": "code",
   "execution_count": 96,
   "metadata": {},
   "outputs": [
    {
     "data": {
      "text/plain": [
       "[('process', 'ing')]"
      ]
     },
     "execution_count": 96,
     "metadata": {},
     "output_type": "execute_result"
    }
   ],
   "source": [
    "re.findall(r'^(.*)(ing|ly|ed|ious|ies|ive|es|s|ment)$', 'processing')"
   ]
  },
  {
   "cell_type": "code",
   "execution_count": 97,
   "metadata": {},
   "outputs": [
    {
     "data": {
      "text/plain": [
       "[('processe', 's')]"
      ]
     },
     "execution_count": 97,
     "metadata": {},
     "output_type": "execute_result"
    }
   ],
   "source": [
    "re.findall(r'^(.*)(ing|ly|ed|ious|ies|ive|es|s|ment)$', 'processes')"
   ]
  },
  {
   "cell_type": "code",
   "execution_count": 98,
   "metadata": {},
   "outputs": [
    {
     "data": {
      "text/plain": [
       "[('process', 'es')]"
      ]
     },
     "execution_count": 98,
     "metadata": {},
     "output_type": "execute_result"
    }
   ],
   "source": [
    "re.findall(r'^(.*?)(ing|ly|ed|ious|ies|ive|es|s|ment)$', 'processes')"
   ]
  },
  {
   "cell_type": "code",
   "execution_count": 99,
   "metadata": {},
   "outputs": [
    {
     "data": {
      "text/plain": [
       "[('language', '')]"
      ]
     },
     "execution_count": 99,
     "metadata": {},
     "output_type": "execute_result"
    }
   ],
   "source": [
    "re.findall(r'^(.*?)(ing|ly|ed|ious|ies|ive|es|s|ment)?$', 'language')"
   ]
  },
  {
   "cell_type": "code",
   "execution_count": 100,
   "metadata": {},
   "outputs": [],
   "source": [
    "def stem(word):\n",
    "    regexp = r'^(.*?)(ing|ly|ed|ious|ies|ive|es|s|ment)?$'\n",
    "    stem, suffix = re.findall(regexp, word)[0]\n",
    "    return stem"
   ]
  },
  {
   "cell_type": "code",
   "execution_count": 103,
   "metadata": {},
   "outputs": [],
   "source": [
    "raw = \"\"\"DENNIS: Listen, strange women lying in ponds distributing swords is no \n",
    "basis for a system of government.  Supreme executive power \n",
    "derives from a mandate from the masses, not from some farcical aquatic ceremony.\"\"\""
   ]
  },
  {
   "cell_type": "code",
   "execution_count": 104,
   "metadata": {},
   "outputs": [],
   "source": [
    " tokens = word_tokenize(raw)"
   ]
  },
  {
   "cell_type": "code",
   "execution_count": 106,
   "metadata": {},
   "outputs": [
    {
     "data": {
      "text/plain": [
       "'DENNIS : Listen , strange women ly in pond distribut sword i no basi for a system of govern . Supreme execut power deriv from a mandate from the mass , not from some farcical aquatic ceremony .'"
      ]
     },
     "execution_count": 106,
     "metadata": {},
     "output_type": "execute_result"
    }
   ],
   "source": [
    "' '.join([stem(t) for t in tokens])"
   ]
  },
  {
   "cell_type": "code",
   "execution_count": 107,
   "metadata": {},
   "outputs": [
    {
     "name": "stdout",
     "output_type": "stream",
     "text": [
      "monied; nervous; dangerous; white; white; white; pious; queer; good;\n",
      "mature; white; Cape; great; wise; wise; butterless; white; fiendish;\n",
      "pale; furious; better; certain; complete; dismasted; younger; brave;\n",
      "brave; brave; brave\n"
     ]
    }
   ],
   "source": [
    "from nltk.corpus import gutenberg, nps_chat\n",
    "moby = nltk.Text(gutenberg.words('melville-moby_dick.txt'))\n",
    "moby.findall(r\"<a> (<.*>) <man>\")"
   ]
  },
  {
   "cell_type": "code",
   "execution_count": 108,
   "metadata": {},
   "outputs": [
    {
     "name": "stdout",
     "output_type": "stream",
     "text": [
      "you rule bro; telling you bro; u twizted bro\n"
     ]
    }
   ],
   "source": [
    "chat = nltk.Text(nps_chat.words())\n",
    "chat.findall(r\"<.*> <.*> <bro>\")"
   ]
  },
  {
   "cell_type": "code",
   "execution_count": 109,
   "metadata": {},
   "outputs": [
    {
     "name": "stdout",
     "output_type": "stream",
     "text": [
      "lol lol lol; lmao lol lol; lol lol lol; la la la la la; la la la; la\n",
      "la la; lovely lol lol love; lol lol lol.; la la la; la la la\n"
     ]
    }
   ],
   "source": [
    "chat.findall(r\"<l.*>{3,}\")"
   ]
  },
  {
   "cell_type": "code",
   "execution_count": 120,
   "metadata": {},
   "outputs": [
    {
     "name": "stdout",
     "output_type": "stream",
     "text": [
      "{19} a {28} fdsjdjdjjd {2772}.{12}\n"
     ]
    }
   ],
   "source": [
    "nltk.re_show('[0-9]+', '19 a 28 fdsjdjdjjd 2772.12')"
   ]
  },
  {
   "cell_type": "code",
   "execution_count": 121,
   "metadata": {},
   "outputs": [
    {
     "name": "stdout",
     "output_type": "stream",
     "text": [
      "speed and other activities; water and other liquids; tomb and other\n",
      "landmarks; Statues and other monuments; pearls and other jewels;\n",
      "charts and other items; roads and other features; figures and other\n",
      "objects; military and other areas; demands and other factors;\n",
      "abstracts and other compilations; iron and other metals\n"
     ]
    }
   ],
   "source": [
    "from nltk.corpus import brown\n",
    "hobbies_learned = nltk.Text(brown.words(categories=['hobbies', 'learned']))\n",
    "hobbies_learned.findall(r\"<\\w*> <and> <other> <\\w*s>\")"
   ]
  },
  {
   "cell_type": "code",
   "execution_count": 123,
   "metadata": {},
   "outputs": [
    {
     "data": {
      "text/plain": [
       "'denni, :, listen, ,, strang, women, lie, in, pond, distribut, sword, is, no, basi, for, a, system, of, govern, ., suprem, execut, power, deriv, from, a, mandat, from, the, mass, ,, not, from, some, farcic, aquat, ceremoni, .'"
      ]
     },
     "execution_count": 123,
     "metadata": {},
     "output_type": "execute_result"
    }
   ],
   "source": [
    "porter = nltk.PorterStemmer()\n",
    "lancaster = nltk.LancasterStemmer()\n",
    "', '.join([porter.stem(t) for t in tokens])"
   ]
  },
  {
   "cell_type": "code",
   "execution_count": 125,
   "metadata": {},
   "outputs": [
    {
     "data": {
      "text/plain": [
       "'den, :, list, ,, strange, wom, lying, in, pond, distribut, sword, is, no, bas, for, a, system, of, govern, ., suprem, execut, pow, der, from, a, mand, from, the, mass, ,, not, from, som, farc, aqu, ceremony, .'"
      ]
     },
     "execution_count": 125,
     "metadata": {},
     "output_type": "execute_result"
    }
   ],
   "source": [
    "', '.join([lancaster.stem(t) for t in tokens])"
   ]
  },
  {
   "cell_type": "code",
   "execution_count": 126,
   "metadata": {},
   "outputs": [],
   "source": [
    "class IndexedText(object):\n",
    "\n",
    "    def __init__(self, stemmer, text):\n",
    "        self._text = text\n",
    "        self._stemmer = stemmer\n",
    "        self._index = nltk.Index((self._stem(word), i)\n",
    "                                 for (i, word) in enumerate(text))\n",
    "\n",
    "    def concordance(self, word, width=40):\n",
    "        key = self._stem(word)\n",
    "        wc = int(width/4)                # words of context\n",
    "        for i in self._index[key]:\n",
    "            lcontext = ' '.join(self._text[i-wc:i])\n",
    "            rcontext = ' '.join(self._text[i:i+wc])\n",
    "            ldisplay = '{:>{width}}'.format(lcontext[-width:], width=width)\n",
    "            rdisplay = '{:{width}}'.format(rcontext[:width], width=width)\n",
    "            print(ldisplay, rdisplay)\n",
    "\n",
    "    def _stem(self, word):\n",
    "        return self._stemmer.stem(word).lower()"
   ]
  },
  {
   "cell_type": "code",
   "execution_count": 127,
   "metadata": {},
   "outputs": [
    {
     "name": "stdout",
     "output_type": "stream",
     "text": [
      "r king ! DENNIS : Listen , strange women lying in ponds distributing swords is no\n",
      " beat a very brave retreat . ROBIN : All lies ! MINSTREL : [ singing ] Bravest of\n",
      "       Nay . Nay . Come . Come . You may lie here . Oh , but you are wounded !   \n",
      "doctors immediately ! No , no , please ! Lie down . [ clap clap ] PIGLET : Well  \n",
      "ere is much danger , for beyond the cave lies the Gorge of Eternal Peril , which \n",
      "   you . Oh ... TIM : To the north there lies a cave -- the cave of Caerbannog --\n",
      "h it and lived ! Bones of full fifty men lie strewn about its lair . So , brave k\n",
      "not stop our fight ' til each one of you lies dead , and the Holy Grail returns t\n"
     ]
    }
   ],
   "source": [
    "porter = nltk.PorterStemmer()\n",
    "grail = nltk.corpus.webtext.words('grail.txt')\n",
    "text = IndexedText(porter, grail)\n",
    "text.concordance('lie')"
   ]
  },
  {
   "cell_type": "code",
   "execution_count": 129,
   "metadata": {},
   "outputs": [
    {
     "data": {
      "text/plain": [
       "'DENNIS, :, Listen, ,, strange, woman, lying, in, pond, distributing, sword, is, no, basis, for, a, system, of, government, ., Supreme, executive, power, derives, from, a, mandate, from, the, mass, ,, not, from, some, farcical, aquatic, ceremony, .'"
      ]
     },
     "execution_count": 129,
     "metadata": {},
     "output_type": "execute_result"
    }
   ],
   "source": [
    "wnl = nltk.WordNetLemmatizer()\n",
    "', '.join([wnl.lemmatize(t) for t in tokens])"
   ]
  },
  {
   "cell_type": "code",
   "execution_count": 132,
   "metadata": {},
   "outputs": [
    {
     "data": {
      "text/plain": [
       "\"'When, I'M, a, Duchess,', she, said, to, herself,, (not, in, a, very, hopeful, tone\\nthough),, 'I, won't, have, any, pepper, in, my, kitchen, AT, ALL., Soup, does, very\\nwell, without--Maybe, it's, always, pepper, that, makes, people, hot-tempered,'...\""
      ]
     },
     "execution_count": 132,
     "metadata": {},
     "output_type": "execute_result"
    }
   ],
   "source": [
    "raw = \"\"\"'When I'M a Duchess,' she said to herself, (not in a very hopeful tone\n",
    "... though), 'I won't have any pepper in my kitchen AT ALL. Soup does very\n",
    "... well without--Maybe it's always pepper that makes people hot-tempered,'...\"\"\"\n",
    "', '.join(re.split(r' ', raw))"
   ]
  },
  {
   "cell_type": "code",
   "execution_count": 133,
   "metadata": {},
   "outputs": [
    {
     "data": {
      "text/plain": [
       "\"'When, I'M, a, Duchess,', she, said, to, herself,, (not, in, a, very, hopeful, tone, though),, 'I, won't, have, any, pepper, in, my, kitchen, AT, ALL., Soup, does, very, well, without--Maybe, it's, always, pepper, that, makes, people, hot-tempered,'...\""
      ]
     },
     "execution_count": 133,
     "metadata": {},
     "output_type": "execute_result"
    }
   ],
   "source": [
    "', '.join(re.split(r'[ \\t\\n]+', raw))"
   ]
  },
  {
   "cell_type": "code",
   "execution_count": 135,
   "metadata": {},
   "outputs": [
    {
     "data": {
      "text/plain": [
       "', When, I, M, a, Duchess, she, said, to, herself, not, in, a, very, hopeful, tone, though, I, won, t, have, any, pepper, in, my, kitchen, AT, ALL, Soup, does, very, well, without, Maybe, it, s, always, pepper, that, makes, people, hot, tempered, '"
      ]
     },
     "execution_count": 135,
     "metadata": {},
     "output_type": "execute_result"
    }
   ],
   "source": [
    "', '.join(re.split(r'\\W+', raw))"
   ]
  },
  {
   "cell_type": "code",
   "execution_count": 137,
   "metadata": {},
   "outputs": [
    {
     "data": {
      "text/plain": [
       "\"'When | I | 'M | a | Duchess | , | ' | she | said | to | herself | , | (not | in | a | very | hopeful | tone | though | ) | , | 'I | won | 't | have | any | pepper | in | my | kitchen | AT | ALL | . | Soup | does | very | well | without | - | -Maybe | it | 's | always | pepper | that | makes | people | hot | -tempered | , | ' | . | . | .\""
      ]
     },
     "execution_count": 137,
     "metadata": {},
     "output_type": "execute_result"
    }
   ],
   "source": [
    "' | '.join(re.findall(r'\\w+|\\S\\w*', raw))"
   ]
  },
  {
   "cell_type": "code",
   "execution_count": 139,
   "metadata": {},
   "outputs": [
    {
     "data": {
      "text/plain": [
       "\"' | When | I'M | a | Duchess | , | ' | she | said | to | herself | , | ( | not | in | a | very | hopeful | tone | though | ) | , | ' | I | won't | have | any | pepper | in | my | kitchen | AT | ALL | . | Soup | does | very | well | without | -- | Maybe | it's | always | pepper | that | makes | people | hot-tempered | , | ' | ...\""
      ]
     },
     "execution_count": 139,
     "metadata": {},
     "output_type": "execute_result"
    }
   ],
   "source": [
    "' | '.join(re.findall(r\"\\w+(?:[-']\\w+)*|'|[-.(]+|\\S\\w*\", raw))"
   ]
  },
  {
   "cell_type": "code",
   "execution_count": 142,
   "metadata": {},
   "outputs": [],
   "source": [
    "text = 'That U.S.A. poster-print costs $12.40...'\n",
    "pattern = r'''(?x)([A-Z]\\.)+| \\w+(-\\w+)* | \\$?\\d+(\\.\\d+)?%? | \\.\\.\\. | [][.,;\"'?():-_`]'''"
   ]
  },
  {
   "cell_type": "code",
   "execution_count": 143,
   "metadata": {},
   "outputs": [
    {
     "data": {
      "text/plain": [
       "[('', '', ''),\n",
       " ('A.', '', ''),\n",
       " ('', '-print', ''),\n",
       " ('', '', ''),\n",
       " ('', '', '.40'),\n",
       " ('', '', '')]"
      ]
     },
     "execution_count": 143,
     "metadata": {},
     "output_type": "execute_result"
    }
   ],
   "source": [
    "nltk.regexp_tokenize(text, pattern)"
   ]
  },
  {
   "cell_type": "code",
   "execution_count": 150,
   "metadata": {},
   "outputs": [
    {
     "data": {
      "text/plain": [
       "[('', '', ''),\n",
       " ('A.', '', ''),\n",
       " ('', '-print', ''),\n",
       " ('', '', ''),\n",
       " ('', '', '.40'),\n",
       " ('', '', '')]"
      ]
     },
     "execution_count": 150,
     "metadata": {},
     "output_type": "execute_result"
    }
   ],
   "source": [
    "text = 'That U.S.A. poster-print costs $12.40...'\n",
    "pattern = r'''(?x)([A-Z]\\.)+ | \\w+(-\\w+)* | \\$?\\d+(\\.\\d+)?%? | \\.\\.\\. | [][.,;\"'?():-_`]'''\n",
    "nltk.regexp_tokenize(text, pattern)"
   ]
  },
  {
   "cell_type": "code",
   "execution_count": 151,
   "metadata": {},
   "outputs": [
    {
     "data": {
      "text/plain": [
       "20.250994070456922"
      ]
     },
     "execution_count": 151,
     "metadata": {},
     "output_type": "execute_result"
    }
   ],
   "source": [
    " len(nltk.corpus.brown.words()) / len(nltk.corpus.brown.sents())"
   ]
  },
  {
   "cell_type": "code",
   "execution_count": 153,
   "metadata": {},
   "outputs": [
    {
     "data": {
      "text/plain": [
       "['\"Nonsense!\"',\n",
       " 'said Gregory, who was very rational when anyone else\\nattempted paradox.',\n",
       " '\"Why do all the clerks and navvies in the\\nrailway trains look so sad and tired, so very sad and tired?',\n",
       " 'I will\\ntell you.',\n",
       " 'It is because they know that the train is going right.',\n",
       " 'It\\nis because they know that whatever place they have taken a ticket\\nfor that place they will reach.',\n",
       " 'It is because after they have\\npassed Sloane Square they know that the next station must be\\nVictoria, and nothing but Victoria.',\n",
       " 'Oh, their wild rapture!',\n",
       " 'oh,\\ntheir eyes like stars and their souls again in Eden, if the next\\nstation were unaccountably Baker Street!\"',\n",
       " '\"It is you who are unpoetical,\" replied the poet Syme.']"
      ]
     },
     "execution_count": 153,
     "metadata": {},
     "output_type": "execute_result"
    }
   ],
   "source": [
    "text = nltk.corpus.gutenberg.raw('chesterton-thursday.txt')\n",
    "sents = nltk.sent_tokenize(text)\n",
    "sents[79:89]"
   ]
  },
  {
   "cell_type": "code",
   "execution_count": 154,
   "metadata": {},
   "outputs": [],
   "source": [
    "def segment(text, segs):\n",
    "    words = []\n",
    "    last = 0\n",
    "    for i in range(len(segs)):\n",
    "        if segs[i] == '1':\n",
    "            words.append(text[last:i+1])\n",
    "            last = i+1\n",
    "    words.append(text[last:])\n",
    "    return words"
   ]
  },
  {
   "cell_type": "code",
   "execution_count": 155,
   "metadata": {},
   "outputs": [
    {
     "data": {
      "text/plain": [
       "['doyouseethekitty', 'seethedoggy', 'doyoulikethekitty', 'likethedoggy']"
      ]
     },
     "execution_count": 155,
     "metadata": {},
     "output_type": "execute_result"
    }
   ],
   "source": [
    "text = \"doyouseethekittyseethedoggydoyoulikethekittylikethedoggy\"\n",
    "seg1 = \"0000000000000001000000000010000000000000000100000000000\"\n",
    "seg2 = \"0100100100100001001001000010100100010010000100010010000\"\n",
    "segment(text, seg1)"
   ]
  },
  {
   "cell_type": "code",
   "execution_count": 156,
   "metadata": {},
   "outputs": [
    {
     "data": {
      "text/plain": [
       "['do',\n",
       " 'you',\n",
       " 'see',\n",
       " 'the',\n",
       " 'kitty',\n",
       " 'see',\n",
       " 'the',\n",
       " 'doggy',\n",
       " 'do',\n",
       " 'you',\n",
       " 'like',\n",
       " 'the',\n",
       " 'kitty',\n",
       " 'like',\n",
       " 'the',\n",
       " 'doggy']"
      ]
     },
     "execution_count": 156,
     "metadata": {},
     "output_type": "execute_result"
    }
   ],
   "source": [
    "segment(text, seg2)"
   ]
  },
  {
   "cell_type": "code",
   "execution_count": 157,
   "metadata": {},
   "outputs": [],
   "source": [
    "def evaluate(text, segs):\n",
    "    words = segment(text, segs)\n",
    "    text_size = len(words)\n",
    "    lexicon_size = sum(len(word) + 1 for word in set(words))\n",
    "    return text_size + lexicon_size"
   ]
  },
  {
   "cell_type": "code",
   "execution_count": 158,
   "metadata": {},
   "outputs": [
    {
     "data": {
      "text/plain": [
       "['doyou',\n",
       " 'see',\n",
       " 'thekitt',\n",
       " 'y',\n",
       " 'see',\n",
       " 'thedogg',\n",
       " 'y',\n",
       " 'doyou',\n",
       " 'like',\n",
       " 'thekitt',\n",
       " 'y',\n",
       " 'like',\n",
       " 'thedogg',\n",
       " 'y']"
      ]
     },
     "execution_count": 158,
     "metadata": {},
     "output_type": "execute_result"
    }
   ],
   "source": [
    "text = \"doyouseethekittyseethedoggydoyoulikethekittylikethedoggy\"\n",
    "seg1 = \"0000000000000001000000000010000000000000000100000000000\"\n",
    "seg2 = \"0100100100100001001001000010100100010010000100010010000\"\n",
    "seg3 = \"0000100100000011001000000110000100010000001100010000001\"\n",
    "segment(text, seg3)"
   ]
  },
  {
   "cell_type": "code",
   "execution_count": 159,
   "metadata": {},
   "outputs": [
    {
     "data": {
      "text/plain": [
       "47"
      ]
     },
     "execution_count": 159,
     "metadata": {},
     "output_type": "execute_result"
    }
   ],
   "source": [
    "evaluate(text, seg3)"
   ]
  },
  {
   "cell_type": "code",
   "execution_count": 160,
   "metadata": {},
   "outputs": [
    {
     "data": {
      "text/plain": [
       "48"
      ]
     },
     "execution_count": 160,
     "metadata": {},
     "output_type": "execute_result"
    }
   ],
   "source": [
    "evaluate(text, seg2)"
   ]
  },
  {
   "cell_type": "code",
   "execution_count": 161,
   "metadata": {},
   "outputs": [
    {
     "data": {
      "text/plain": [
       "64"
      ]
     },
     "execution_count": 161,
     "metadata": {},
     "output_type": "execute_result"
    }
   ],
   "source": [
    "evaluate(text, seg1)"
   ]
  },
  {
   "cell_type": "code",
   "execution_count": 162,
   "metadata": {},
   "outputs": [],
   "source": [
    "from random import randint\n",
    "\n",
    "def flip(segs, pos):\n",
    "    return segs[:pos] + str(1-int(segs[pos])) + segs[pos+1:]\n",
    "\n",
    "def flip_n(segs, n):\n",
    "    for i in range(n):\n",
    "        segs = flip(segs, randint(0, len(segs)-1))\n",
    "    return segs\n",
    "\n",
    "def anneal(text, segs, iterations, cooling_rate):\n",
    "    temperature = float(len(segs))\n",
    "    while temperature > 0.5:\n",
    "        best_segs, best = segs, evaluate(text, segs)\n",
    "        for i in range(iterations):\n",
    "            guess = flip_n(segs, round(temperature))\n",
    "            score = evaluate(text, guess)\n",
    "            if score < best:\n",
    "                best, best_segs = score, guess\n",
    "        score, segs = best, best_segs\n",
    "        temperature = temperature / cooling_rate\n",
    "        print(evaluate(text, segs), segment(text, segs))\n",
    "    print()\n",
    "    return segs"
   ]
  },
  {
   "cell_type": "code",
   "execution_count": 164,
   "metadata": {},
   "outputs": [
    {
     "name": "stdout",
     "output_type": "stream",
     "text": [
      "64 ['doyouseethekitty', 'seethedoggy', 'doyoulikethekitty', 'likethedoggy']\n",
      "64 ['doyouseethekitty', 'seethedoggy', 'doyoulikethekitty', 'likethedoggy']\n",
      "64 ['doyouseethekitty', 'seethedoggy', 'doyoulikethekitty', 'likethedoggy']\n",
      "64 ['doyouseethekitty', 'seethedoggy', 'doyoulikethekitty', 'likethedoggy']\n",
      "64 ['doyouseethekitty', 'seethedoggy', 'doyoulikethekitty', 'likethedoggy']\n",
      "64 ['doyouseethekitty', 'seethedoggy', 'doyoulikethekitty', 'likethedoggy']\n",
      "64 ['doyouseethekitty', 'seethedoggy', 'doyoulikethekitty', 'likethedoggy']\n",
      "64 ['doyouseethekitty', 'seethedoggy', 'doyoulikethekitty', 'likethedoggy']\n",
      "64 ['doyouseethekitty', 'seethedoggy', 'doyoulikethekitty', 'likethedoggy']\n",
      "60 ['do', 'youse', 'ethekitty', 'seet', 'hedoggy', 'd', 'oyou', 'lik', 'ethekitty', 'liket', 'hedoggy']\n",
      "60 ['do', 'youse', 'ethekitty', 'seet', 'hedoggy', 'd', 'oyou', 'lik', 'ethekitty', 'liket', 'hedoggy']\n",
      "58 ['doyouse', 'ethekitty', 'seet', 'hedoggy', 'do', 'you', 'lik', 'ethekitty', 'liket', 'hedoggy']\n",
      "55 ['do', 'youse', 'ethekitty', 'seet', 'hedoggy', 'do', 'you', 'lik', 'ethekitty', 'lik', 'et', 'hedoggy']\n",
      "53 ['do', 'you', 'se', 'ethekitty', 'seet', 'hedoggy', 'do', 'you', 'lik', 'ethekitty', 'lik', 'et', 'hedoggy']\n",
      "52 ['do', 'you', 'se', 'ethekitty', 'se', 'ethedoggy', 'do', 'youlik', 'ethekitty', 'lik', 'ethedoggy']\n",
      "51 ['doyou', 'se', 'ethekitty', 'se', 'ethedoggy', 'doyoulik', 'ethekitty', 'lik', 'ethedoggy']\n",
      "43 ['doyou', 'se', 'ethekitty', 'se', 'ethedoggy', 'doyou', 'lik', 'ethekitty', 'lik', 'ethedoggy']\n",
      "43 ['doyou', 'se', 'ethekitty', 'se', 'ethedoggy', 'doyou', 'lik', 'ethekitty', 'lik', 'ethedoggy']\n",
      "43 ['doyou', 'se', 'ethekitty', 'se', 'ethedoggy', 'doyou', 'lik', 'ethekitty', 'lik', 'ethedoggy']\n",
      "43 ['doyou', 'se', 'ethekitty', 'se', 'ethedoggy', 'doyou', 'lik', 'ethekitty', 'lik', 'ethedoggy']\n",
      "43 ['doyou', 'se', 'ethekitty', 'se', 'ethedoggy', 'doyou', 'lik', 'ethekitty', 'lik', 'ethedoggy']\n",
      "43 ['doyou', 'se', 'ethekitty', 'se', 'ethedoggy', 'doyou', 'lik', 'ethekitty', 'lik', 'ethedoggy']\n",
      "43 ['doyou', 'se', 'ethekitty', 'se', 'ethedoggy', 'doyou', 'lik', 'ethekitty', 'lik', 'ethedoggy']\n",
      "43 ['doyou', 'se', 'ethekitty', 'se', 'ethedoggy', 'doyou', 'lik', 'ethekitty', 'lik', 'ethedoggy']\n",
      "43 ['doyou', 'se', 'ethekitty', 'se', 'ethedoggy', 'doyou', 'lik', 'ethekitty', 'lik', 'ethedoggy']\n",
      "43 ['doyou', 'se', 'ethekitty', 'se', 'ethedoggy', 'doyou', 'lik', 'ethekitty', 'lik', 'ethedoggy']\n",
      "\n"
     ]
    },
    {
     "data": {
      "text/plain": [
       "'0000101000000001010000000010000100100000000100100000000'"
      ]
     },
     "execution_count": 164,
     "metadata": {},
     "output_type": "execute_result"
    }
   ],
   "source": [
    "text = \"doyouseethekittyseethedoggydoyoulikethekittylikethedoggy\"\n",
    "seg1 = \"0000000000000001000000000010000000000000000100000000000\"\n",
    "anneal(text, seg1, 5000, 1.2)"
   ]
  },
  {
   "cell_type": "code",
   "execution_count": null,
   "metadata": {},
   "outputs": [],
   "source": [
    "silly = ['We', 'called', 'him', 'Tortoise', 'because', 'he', 'taught', 'us', '.']\n"
   ]
  }
 ],
 "metadata": {
  "kernelspec": {
   "display_name": "Python 3",
   "language": "python",
   "name": "python3"
  },
  "language_info": {
   "codemirror_mode": {
    "name": "ipython",
    "version": 3
   },
   "file_extension": ".py",
   "mimetype": "text/x-python",
   "name": "python",
   "nbconvert_exporter": "python",
   "pygments_lexer": "ipython3",
   "version": "3.6.8rc1"
  }
 },
 "nbformat": 4,
 "nbformat_minor": 2
}
