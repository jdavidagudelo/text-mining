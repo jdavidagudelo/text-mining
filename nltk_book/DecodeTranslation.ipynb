{
 "cells": [
  {
   "cell_type": "code",
   "execution_count": 4,
   "metadata": {},
   "outputs": [],
   "source": [
    "def merge_parallel_data(f1, f2, merged):\n",
    "    with open(f1, 'rb') as f:\n",
    "        with open(f2, 'rb') as g:\n",
    "            with open(merged, 'wb') as merged:\n",
    "                for (en, es) in zip(f, g):\n",
    "                    en = en.strip()\n",
    "                    es = es.strip()\n",
    "                    data = b'%s\\t%s\\n'%(en, es)\n",
    "                    merged.write(data)"
   ]
  },
  {
   "cell_type": "code",
   "execution_count": 5,
   "metadata": {},
   "outputs": [],
   "source": [
    "merge_parallel_data('datasets/es-en/europarl-v7.es-en.en', 'datasets/es-en/europarl-v7.es-en.es', 'datasets/es-en/merged.txt')"
   ]
  },
  {
   "cell_type": "code",
   "execution_count": null,
   "metadata": {},
   "outputs": [],
   "source": []
  }
 ],
 "metadata": {
  "kernelspec": {
   "display_name": "Python 3",
   "language": "python",
   "name": "python3"
  },
  "language_info": {
   "codemirror_mode": {
    "name": "ipython",
    "version": 3
   },
   "file_extension": ".py",
   "mimetype": "text/x-python",
   "name": "python",
   "nbconvert_exporter": "python",
   "pygments_lexer": "ipython3",
   "version": "3.6.8rc1"
  }
 },
 "nbformat": 4,
 "nbformat_minor": 2
}
