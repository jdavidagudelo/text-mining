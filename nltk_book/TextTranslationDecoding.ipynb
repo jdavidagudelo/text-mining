{
 "cells": [
  {
   "cell_type": "code",
   "execution_count": 3,
   "metadata": {},
   "outputs": [],
   "source": [
    "import pandas as pd"
   ]
  },
  {
   "cell_type": "code",
   "execution_count": 1,
   "metadata": {},
   "outputs": [],
   "source": [
    "with open('datasets/es-en/europarl-v7.es-en.en', 'rb') as f:\n",
    "    with open('datasets/es-en/europarl-v7.es-en.es', 'rb') as g:\n",
    "        with open('datasets/es-en/merged.txt', 'wb') as merged:\n",
    "            for (en, es) in zip(f, g):\n",
    "                data = b'%s\\t%s\\n'%(en, es)\n",
    "                merged.write(data)"
   ]
  },
  {
   "cell_type": "code",
   "execution_count": 1,
   "metadata": {},
   "outputs": [
    {
     "name": "stdout",
     "output_type": "stream",
     "text": [
      "5897202\n"
     ]
    }
   ],
   "source": [
    "lines = 0\n",
    "with open('datasets/es-en/merged.txt', 'rb') as merged:\n",
    "    for _ in merged:\n",
    "        lines += 1\n",
    "\n",
    "print(lines)"
   ]
  },
  {
   "cell_type": "code",
   "execution_count": null,
   "metadata": {},
   "outputs": [],
   "source": []
  }
 ],
 "metadata": {
  "kernelspec": {
   "display_name": "Python 3",
   "language": "python",
   "name": "python3"
  },
  "language_info": {
   "codemirror_mode": {
    "name": "ipython",
    "version": 3
   },
   "file_extension": ".py",
   "mimetype": "text/x-python",
   "name": "python",
   "nbconvert_exporter": "python",
   "pygments_lexer": "ipython3",
   "version": "3.6.8rc1"
  }
 },
 "nbformat": 4,
 "nbformat_minor": 2
}
