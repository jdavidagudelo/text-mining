{
 "cells": [
  {
   "cell_type": "code",
   "execution_count": 137,
   "metadata": {},
   "outputs": [
    {
     "data": {
      "text/plain": [
       "[('And', 'CC'),\n",
       " ('now', 'RB'),\n",
       " ('for', 'IN'),\n",
       " ('something', 'NN'),\n",
       " ('completely', 'RB'),\n",
       " ('different', 'JJ')]"
      ]
     },
     "execution_count": 137,
     "metadata": {},
     "output_type": "execute_result"
    }
   ],
   "source": [
    "import nltk\n",
    "from nltk import word_tokenize\n",
    "text = word_tokenize(\"And now for something completely different\")\n",
    "nltk.pos_tag(text)"
   ]
  },
  {
   "cell_type": "code",
   "execution_count": 138,
   "metadata": {},
   "outputs": [
    {
     "name": "stdout",
     "output_type": "stream",
     "text": [
      "RB: adverb\n",
      "    occasionally unabatingly maddeningly adventurously professedly\n",
      "    stirringly prominently technologically magisterially predominately\n",
      "    swiftly fiscally pitilessly ...\n"
     ]
    }
   ],
   "source": [
    " nltk.help.upenn_tagset('RB')"
   ]
  },
  {
   "cell_type": "code",
   "execution_count": 139,
   "metadata": {},
   "outputs": [
    {
     "name": "stdout",
     "output_type": "stream",
     "text": [
      "NN: noun, common, singular or mass\n",
      "    common-carrier cabbage knuckle-duster Casino afghan shed thermostat\n",
      "    investment slide humour falloff slick wind hyena override subhumanity\n",
      "    machinist ...\n",
      "NNP: noun, proper, singular\n",
      "    Motown Venneboerger Czestochwa Ranzer Conchita Trumplane Christos\n",
      "    Oceanside Escobar Kreisler Sawyer Cougar Yvette Ervin ODI Darryl CTCA\n",
      "    Shannon A.K.C. Meltex Liverpool ...\n",
      "NNPS: noun, proper, plural\n",
      "    Americans Americas Amharas Amityvilles Amusements Anarcho-Syndicalists\n",
      "    Andalusians Andes Andruses Angels Animals Anthony Antilles Antiques\n",
      "    Apache Apaches Apocrypha ...\n",
      "NNS: noun, common, plural\n",
      "    undergraduates scotches bric-a-brac products bodyguards facets coasts\n",
      "    divestitures storehouses designs clubs fragrances averages\n",
      "    subjectivists apprehensions muses factory-jobs ...\n"
     ]
    }
   ],
   "source": [
    " nltk.help.upenn_tagset('NN.*')"
   ]
  },
  {
   "cell_type": "code",
   "execution_count": 140,
   "metadata": {},
   "outputs": [
    {
     "data": {
      "text/plain": [
       "[('They', 'PRP'),\n",
       " ('refuse', 'VBP'),\n",
       " ('to', 'TO'),\n",
       " ('permit', 'VB'),\n",
       " ('us', 'PRP'),\n",
       " ('to', 'TO'),\n",
       " ('obtain', 'VB'),\n",
       " ('the', 'DT'),\n",
       " ('refuse', 'NN'),\n",
       " ('permit', 'NN')]"
      ]
     },
     "execution_count": 140,
     "metadata": {},
     "output_type": "execute_result"
    }
   ],
   "source": [
    "text = word_tokenize(\"They refuse to permit us to obtain the refuse permit\")\n",
    "nltk.pos_tag(text)"
   ]
  },
  {
   "cell_type": "code",
   "execution_count": 141,
   "metadata": {},
   "outputs": [
    {
     "name": "stdout",
     "output_type": "stream",
     "text": [
      "man time day year car moment world house family child country boy\n",
      "state job place way war girl work word\n"
     ]
    }
   ],
   "source": [
    "text = nltk.Text(word.lower() for word in nltk.corpus.brown.words())\n",
    "text.similar('woman')"
   ]
  },
  {
   "cell_type": "code",
   "execution_count": 142,
   "metadata": {},
   "outputs": [
    {
     "name": "stdout",
     "output_type": "stream",
     "text": [
      "made said done put had seen found given left heard was been brought\n",
      "set got that took in told felt\n"
     ]
    }
   ],
   "source": [
    "text.similar('bought')"
   ]
  },
  {
   "cell_type": "code",
   "execution_count": 143,
   "metadata": {},
   "outputs": [
    {
     "name": "stdout",
     "output_type": "stream",
     "text": [
      "in on to of and for with from at by that into as up out down through\n",
      "is all about\n"
     ]
    }
   ],
   "source": [
    "text.similar('over')"
   ]
  },
  {
   "cell_type": "code",
   "execution_count": 144,
   "metadata": {},
   "outputs": [
    {
     "name": "stdout",
     "output_type": "stream",
     "text": [
      "a his this their its her an that our any all one these my in your no\n",
      "some other and\n"
     ]
    }
   ],
   "source": [
    "text.similar('the')"
   ]
  },
  {
   "cell_type": "code",
   "execution_count": 145,
   "metadata": {},
   "outputs": [
    {
     "data": {
      "text/plain": [
       "('fly', 'NN')"
      ]
     },
     "execution_count": 145,
     "metadata": {},
     "output_type": "execute_result"
    }
   ],
   "source": [
    "tagged_token = nltk.tag.str2tuple('fly/NN')\n",
    "tagged_token"
   ]
  },
  {
   "cell_type": "code",
   "execution_count": 146,
   "metadata": {},
   "outputs": [
    {
     "data": {
      "text/plain": [
       "'fly'"
      ]
     },
     "execution_count": 146,
     "metadata": {},
     "output_type": "execute_result"
    }
   ],
   "source": [
    "tagged_token[0]"
   ]
  },
  {
   "cell_type": "code",
   "execution_count": 147,
   "metadata": {},
   "outputs": [
    {
     "data": {
      "text/plain": [
       "'NN'"
      ]
     },
     "execution_count": 147,
     "metadata": {},
     "output_type": "execute_result"
    }
   ],
   "source": [
    "tagged_token[1]"
   ]
  },
  {
   "cell_type": "code",
   "execution_count": 148,
   "metadata": {},
   "outputs": [],
   "source": [
    "sent = '''\n",
    "The/AT grand/JJ jury/NN commented/VBD on/IN a/AT number/NN of/IN\n",
    "other/AP topics/NNS ,/, AMONG/IN them/PPO the/AT Atlanta/NP and/CC\n",
    "Fulton/NP-tl County/NN-tl purchasing/VBG departments/NNS which/WDT it/PPS\n",
    "said/VBD ``/`` ARE/BER well/QL operated/VBN and/CC follow/VB generally/RB\n",
    "accepted/VBN practices/NNS which/WDT inure/VB to/IN the/AT best/JJT\n",
    "interest/NN of/IN both/ABX governments/NNS ''/'' ./.\n",
    "'''"
   ]
  },
  {
   "cell_type": "code",
   "execution_count": 149,
   "metadata": {},
   "outputs": [
    {
     "data": {
      "text/plain": [
       "[('The', 'AT'),\n",
       " ('grand', 'JJ'),\n",
       " ('jury', 'NN'),\n",
       " ('commented', 'VBD'),\n",
       " ('on', 'IN'),\n",
       " ('a', 'AT'),\n",
       " ('number', 'NN'),\n",
       " ('of', 'IN'),\n",
       " ('other', 'AP'),\n",
       " ('topics', 'NNS'),\n",
       " (',', ','),\n",
       " ('AMONG', 'IN'),\n",
       " ('them', 'PPO'),\n",
       " ('the', 'AT'),\n",
       " ('Atlanta', 'NP'),\n",
       " ('and', 'CC'),\n",
       " ('Fulton', 'NP-TL'),\n",
       " ('County', 'NN-TL'),\n",
       " ('purchasing', 'VBG'),\n",
       " ('departments', 'NNS'),\n",
       " ('which', 'WDT'),\n",
       " ('it', 'PPS'),\n",
       " ('said', 'VBD'),\n",
       " ('``', '``'),\n",
       " ('ARE', 'BER'),\n",
       " ('well', 'QL'),\n",
       " ('operated', 'VBN'),\n",
       " ('and', 'CC'),\n",
       " ('follow', 'VB'),\n",
       " ('generally', 'RB'),\n",
       " ('accepted', 'VBN'),\n",
       " ('practices', 'NNS'),\n",
       " ('which', 'WDT'),\n",
       " ('inure', 'VB'),\n",
       " ('to', 'IN'),\n",
       " ('the', 'AT'),\n",
       " ('best', 'JJT'),\n",
       " ('interest', 'NN'),\n",
       " ('of', 'IN'),\n",
       " ('both', 'ABX'),\n",
       " ('governments', 'NNS'),\n",
       " (\"''\", \"''\"),\n",
       " ('.', '.')]"
      ]
     },
     "execution_count": 149,
     "metadata": {},
     "output_type": "execute_result"
    }
   ],
   "source": [
    "[nltk.tag.str2tuple(t) for t in sent.split()]"
   ]
  },
  {
   "cell_type": "code",
   "execution_count": 150,
   "metadata": {},
   "outputs": [
    {
     "data": {
      "text/plain": [
       "[('The', 'AT'), ('Fulton', 'NP-TL'), ...]"
      ]
     },
     "execution_count": 150,
     "metadata": {},
     "output_type": "execute_result"
    }
   ],
   "source": [
    "nltk.corpus.brown.tagged_words()"
   ]
  },
  {
   "cell_type": "code",
   "execution_count": 151,
   "metadata": {},
   "outputs": [
    {
     "data": {
      "text/plain": [
       "[('The', 'DET'), ('Fulton', 'NOUN'), ...]"
      ]
     },
     "execution_count": 151,
     "metadata": {},
     "output_type": "execute_result"
    }
   ],
   "source": [
    "nltk.corpus.brown.tagged_words(tagset='universal')"
   ]
  },
  {
   "cell_type": "code",
   "execution_count": 152,
   "metadata": {},
   "outputs": [
    {
     "data": {
      "text/plain": [
       "[('now', 'RB'), ('im', 'PRP'), ('left', 'VBD'), ...]"
      ]
     },
     "execution_count": 152,
     "metadata": {},
     "output_type": "execute_result"
    }
   ],
   "source": [
    "nltk.corpus.nps_chat.tagged_words()"
   ]
  },
  {
   "cell_type": "code",
   "execution_count": 153,
   "metadata": {},
   "outputs": [
    {
     "data": {
      "text/plain": [
       "[('Confidence', 'NN'), ('in', 'IN'), ('the', 'DT'), ...]"
      ]
     },
     "execution_count": 153,
     "metadata": {},
     "output_type": "execute_result"
    }
   ],
   "source": [
    "nltk.corpus.conll2000.tagged_words()"
   ]
  },
  {
   "cell_type": "code",
   "execution_count": 154,
   "metadata": {},
   "outputs": [
    {
     "data": {
      "text/plain": [
       "[('Pierre', 'NNP'), ('Vinken', 'NNP'), (',', ','), ...]"
      ]
     },
     "execution_count": 154,
     "metadata": {},
     "output_type": "execute_result"
    }
   ],
   "source": [
    "nltk.corpus.treebank.tagged_words()"
   ]
  },
  {
   "cell_type": "code",
   "execution_count": 155,
   "metadata": {},
   "outputs": [
    {
     "data": {
      "text/plain": [
       "[('The', 'DET'), ('Fulton', 'NOUN'), ...]"
      ]
     },
     "execution_count": 155,
     "metadata": {},
     "output_type": "execute_result"
    }
   ],
   "source": [
    "nltk.corpus.brown.tagged_words(tagset='universal')"
   ]
  },
  {
   "cell_type": "code",
   "execution_count": 156,
   "metadata": {},
   "outputs": [
    {
     "data": {
      "text/plain": [
       "[('Pierre', 'NOUN'), ('Vinken', 'NOUN'), (',', '.'), ...]"
      ]
     },
     "execution_count": 156,
     "metadata": {},
     "output_type": "execute_result"
    }
   ],
   "source": [
    "nltk.corpus.treebank.tagged_words(tagset='universal')"
   ]
  },
  {
   "cell_type": "code",
   "execution_count": 157,
   "metadata": {},
   "outputs": [
    {
     "data": {
      "text/plain": [
       "[('মহিষের', 'NN'), ('সন্তান', 'NN'), (':', 'SYM'), ...]"
      ]
     },
     "execution_count": 157,
     "metadata": {},
     "output_type": "execute_result"
    }
   ],
   "source": [
    "nltk.corpus.indian.tagged_words()"
   ]
  },
  {
   "cell_type": "code",
   "execution_count": 158,
   "metadata": {},
   "outputs": [
    {
     "data": {
      "text/plain": [
       "[('Sao', 'NC'), ('Paulo', 'VMI'), ('(', 'Fpa'), ...]"
      ]
     },
     "execution_count": 158,
     "metadata": {},
     "output_type": "execute_result"
    }
   ],
   "source": [
    "nltk.corpus.conll2002.tagged_words()"
   ]
  },
  {
   "cell_type": "code",
   "execution_count": 159,
   "metadata": {},
   "outputs": [
    {
     "data": {
      "text/plain": [
       "[('NOUN', 30654),\n",
       " ('VERB', 14399),\n",
       " ('ADP', 12355),\n",
       " ('.', 11928),\n",
       " ('DET', 11389),\n",
       " ('ADJ', 6706),\n",
       " ('ADV', 3349),\n",
       " ('CONJ', 2717),\n",
       " ('PRON', 2535),\n",
       " ('PRT', 2264),\n",
       " ('NUM', 2166),\n",
       " ('X', 92)]"
      ]
     },
     "execution_count": 159,
     "metadata": {},
     "output_type": "execute_result"
    }
   ],
   "source": [
    "import nltk\n",
    "from nltk.corpus import brown\n",
    "brown_news_tagged = brown.tagged_words(categories='news', tagset='universal')\n",
    "tag_fd = nltk.FreqDist(tag for (word, tag) in brown_news_tagged)\n",
    "tag_fd.most_common()"
   ]
  },
  {
   "cell_type": "code",
   "execution_count": 160,
   "metadata": {},
   "outputs": [
    {
     "data": {
      "image/png": "[encoded data removed]",
      "text/plain": [
       "<Figure size 432x288 with 1 Axes>"
      ]
     },
     "metadata": {
      "needs_background": "light"
     },
     "output_type": "display_data"
    },
    {
     "data": {
      "text/plain": [
       "<matplotlib.axes._subplots.AxesSubplot at 0x21414ddf940>"
      ]
     },
     "execution_count": 160,
     "metadata": {},
     "output_type": "execute_result"
    }
   ],
   "source": [
    "tag_fd.plot(cumulative=True)"
   ]
  },
  {
   "cell_type": "code",
   "execution_count": 161,
   "metadata": {},
   "outputs": [
    {
     "data": {
      "text/plain": [
       "['NOUN',\n",
       " 'DET',\n",
       " 'ADJ',\n",
       " 'ADP',\n",
       " '.',\n",
       " 'VERB',\n",
       " 'CONJ',\n",
       " 'NUM',\n",
       " 'ADV',\n",
       " 'PRT',\n",
       " 'PRON',\n",
       " 'X']"
      ]
     },
     "execution_count": 161,
     "metadata": {},
     "output_type": "execute_result"
    }
   ],
   "source": [
    "word_tag_pairs = nltk.bigrams(brown_news_tagged)\n",
    "noun_preceders = [a[1] for (a, b) in word_tag_pairs if b[1] == 'NOUN']\n",
    "fdist = nltk.FreqDist(noun_preceders)\n",
    "[tag for (tag, _) in fdist.most_common()]"
   ]
  },
  {
   "cell_type": "code",
   "execution_count": 162,
   "metadata": {},
   "outputs": [
    {
     "data": {
      "text/plain": [
       "\"is, said, was, are, be, has, have, will, says, would, were, had, been, could, 's, can, do, say, make, may, did, rose, made, does, expected, buy, take, get, might, sell, added, sold, help, including, should, reported, according, pay, compared, being, fell, began, based, used, closed, 're, want, see, took, yield, offered, set, priced, approved, come, noted, cut, ended, found, increased, become, think, named, go, trying, proposed, received, growing, declined, held, give, came, use, put, making, continue, raise, estimated, called, paid, designed, going, expects, seeking, must, plans, wo, increasing, saying, got, owns, trading, acquired, gained, fined, reached, holding, announced, filed, became, seek, included, using, led, decided, keep, disclosed, agreed, find, failed, run, taken, know, coming, 've, completed, built, raised, traded, lost, continued, paying, include, believe, receive, posted, wants, scheduled, went, indicated, provide, helped, needed, goes, told, result, need, caused, continues, dropped, showed, ordered, changed, face, continuing, launched, gives, reduce, 'm, lead, planned, wanted, following, remains, followed, remain, meet, believes, trade, includes, improve, buying, issued, rise, leading, ca, involved, known, like, makes, having, rejected, rising, increase, turned, operating, read, feel, win, given, prevent, offset, barred, earned, consented, support, gave, totaled, acquire, required, begin, require, offer, preferred, produced, bought, offering, asked, carry, build, takes, seem, introduced, taking, won, aimed, hurt, adds, cited, sought, bring, remaining, considered, suspended, prove, looking, doing, involving, opened, working, close, own, report, left, boosted, giving, fixed, listed, runs, purchasing, consider, prepared, hit, getting, alleged, look, allowed, approve, wrote, reduced, fall, advanced, appears, mixed, described, expect, manufacturing, spent, According, hopes, underlying, produce, work, placed, allow, sells, operate, extend, surged, jumped, boost, slowing, provided, seems, ending, selling, opposed, created, move, seen, comment, valued, losing, mature, provides, let, stopped, worked, thought, watch, introduce, related, improved, raising, seemed, force, beginning, leave, believed, stand, developed, decline, expire, managing, hold, invested, suggests, represent, settle, change, contributed, indicates, asking, elaborate, shows, refused, quoted, comes, ease, passed, Says, avoid, threatened, cause, end, violate, operates, kept, 'll, soared, eliminated, becomes, create, print, shall, show, replaced, owned, argue, beat, elected, complete, issue, act, return, registered, suffer, worried, succeed, block, contain, occur, pursue, combined, requires, met, brought, started, covered, turn, running, eliminate, file, plunged, fallen, ran, fired, becoming, contained, managed, Take, suggested, accused, appeared, slow, helping, discovered, add, referred, oppose, stop, claim, sent, formed, resulting, turning, limited, shipped, forced, send, attract, admitting, denying, disgorge, attributed, causing, studied, resigned, cutting, voted, settled, expand, stood, retired, moved, pending, providing, anticipated, decide, creating, prompted, developing, start, maintained, expanding, follows, ranged, focused, climbed, reflect, insist, owed, happen, adjusted, awarded, reporting, talk, offers, written, urged, carried, identified, confirmed, playing, thinking, calls, means, tried, lying, asks, building, suggest, falling, discuss, matched, concluded, keeping, 'd, returned, withdrawn, bid, saw, signed, financing, assuming, adopted, attempting, accepted, cover, facing, risk, expanded, leaving, raises, declared, exercise, finished, regarding, finance, charge, starting, realize, felt, remained, expressed, done, replace, veto, stay, delivered, join, publishing, enters, appear, talking, heard, dumped, imported, assume, declining, capture, grew, holds, lift, treat, receiving, joined, reflecting, released, maintaining, cost, lowered, costs, exceed, gaining, considering, determined, ruled, hope, located, tied, heads, applied, failing, showing, apply, protecting, tells, complained, ask, triggered, entered, total, producing, denied, reducing, reflects, account, predicting, intended, purchased, blamed, worry, broken, carries, learned, renewed, walk, viewed, die, speculated, needs, gets, wait, caught, claims, choose, fail, insists, knows, pass, grown, gotten, grows, responded, play, try, mean, encourage, chosen, admits, Do, dismissed, realized, serve, associated, slipped, argued, citing, seeks, preventing, sparked, review, opening, fueled, negotiate, drop, pleased, spend, care, represents, spread, explains, push, divided, proposing, gain, representing, financed, execute, existing, discussed, uses, live, ring, signal, focus, hired, limit, begins, reflected, hear, determine, profit, marketed, warned, qualified, died, surviving, study, explained, imposed, recognize, eased, indicate, permit, retain, yielding, boosts, obtain, employs, banned, pointed, leaves, withdraw, refund, collected, upheld, benefited, doubled, attached, jump, compete, incurred, removed, honor, varying, marketing, protect, reach, share, requested, grant, stepping, direct, curb, controlling, snapped, tend, cast, clear, permitted, remove, revive, draw, predicted, suspect, coupled, belong, call, describes, played, committed, advertising, tested, revived, earns, feeling, turns, executed, killed, presented, deserve, mention, seeing, discussing, convicted, telling, agree, denies, pursued, spurred, accommodate, surrendered, gone, teach, booming, serving, restore, restructured, taught, feared, meant, adding, publishes, improving, ignoring, represented, funded, involve, charged, fared, eliminates, tumbled, redeemed, resolve, stem, hire, obtained, develop, employed, prohibits, promote, impose, consist, investigating, accepting, plan, insisted, contacted, note, driving, contends, cites, point, sign, printed, advertise, breaks, damaged, check, thinks, looming, expecting, exercised, auctioned, disappointed, subordinated, respond, secured, integrated, performed, targeting, stepped, moving, split, Buy, stemming, executing, shut, writing, regulated, stands, attend, reopen, drawn, Put, notes, weaken, trailed, deliver, occurred, changing, accept, expelled, amounted, scrutinizing, suspend, compares, backed, vote, covers, knew, joining, record, regarded, copy, conclude, ought, dominated, pushed, closing, rumored, respected, specified, understand, supported, perform, declaring, struggling, abandoned, considers, warning, offsetting, break, follow, figure, increases, proving, edged, Buying, forecast, specify, extended, tendered, unveiled, treating, exposed, industrialized, regulate, contracted, blip, vary, slid, succeeds, lifted, acts, welcomed, squeezed, fed, casting, prolonged, recorded, announce, reward, bowed, justify, asserted, appealing, faces, rule, inched, manufacture, fund, anticipates, link, describe, roll, calculate, transferring, favored, claiming, hurting, investing, trained, instituted, introducing, vowed, deemed, pose, concerned, accelerated, feels, solved, forgiven, stored, assembled, totaling, linked, forces, attempts, advertised, marks, sweeping, invest, kicked, brings, scrambled, diversify, swing, skyrocketed, targeted, repaid, open, crippled, lent, belongs, stressed, leveling, manufactured, pick, cite, provoke, last, climbing, Excluding, adjusting, counts, handle, polled, drink, sets, sidestep, fare, letting, entering, ban, visiting, endorsed, balked, compensate, terminated, modify, operated, entitles, romanticized, spends, condemned, competing, returning, murdered, load, lives, recommend, fighting, fills, charges, exist, Stung, banning, admitted, talks, launch, attracted, featured, devote, featuring, suing, shrinks, tripled, pumping, contributing, spur, concentrated, export, pull, approach, step, regard, breach, pleaded, inspired, defended, treated, casts, violated, enforce, surfaced, concentrate, stressing, suffered, loved, advised, studying, pushing, earn, save, interviewed, explain, gauge, measured, deny, hampered, fill, nominated, assured, finding, conducting, tracks, merge, merged, banking, achieve, acquiring, post, wish, retained, spark, chaired, deal, submit, sending, test, relegated, alleging, mounted, harass, crossing, involves, assist, killing, served, understood, touch, Asked, design, retaining, belonging, compiled, Guaranteed, positioned, plunging, locked, starts, waiting, rolled, lock, drifted, measures, Estimated, keeps, laughing, persuade, renew, survive, Founded, identify, chastised, pointing, question, sleep, handled, specializes, pressed, ward, sweetened, allocated, criticized, place, mired, responding, requiring, address, praised, noting, withstand, phasing, installed, joins, prevailing, succeeding, weighed, perceived, remarked, appeal, lowering, moderated, posting, agrees, stated, reject, fails, redeem, estimates, frozen, advancing, rushed, supplies, surprised, collapsed, answer, licensed, disagree, focusing, publicized, pressure, clarify, view, putting, reports, feed, declines, Adds, drive, omitted, assumed, lure, qualify, throws, targets, promoting, target, switched, enabling, scrambling, define, demanding, ailing, delay, Think, arguing, hitting, regulating, sounded, train, worries, rung, invented, weigh, sound, speaks, absorbed, swap, ringing, publish, founded, signing, observed, desired, kill, risen, sustained, sued, commit, easing, traveling, welcome, loaded, states, passing, spending, puts, transacting, engaged, plays, resist, marching, cope, drove, pegged, compromise, enacted, faced, negotiated, implies, fold, winning, Assuming, Taking, flows, relies, stimulating, confined, planning, abandon, funding, lose, install, upset, hang, promises, sees, house, preserving, covering, resulted, proved, examined, lack, lacks, connected, subscribe, underwent, conduct, predict, organized, diminished, purchase, tune, enables, intend, answered, reshaping, oriented, controlled, restructuring, eliminating, naming, lending, Posted, succeeded, signals, withhold, contradict, placing, rewrite, nominate, choosing, prevents, implement, discharge, establish, entrusted, works, extending, benefit, range, exceeding, attempted, recovered, encouraging, begun, maximize, chooses, fly, engage, obligated, recover, labeled, refuse, denounce, occurs, seize, halted, transformed, complains, trades, beaten, performing, match, contribute, surrounding, tolerate, affect, bearing, creates, limiting, denouncing, cooled, overcome, cautioned, rated, indicating, sink, claimed, benefits, discontinued, maintain, meaning, competes, selected, participate, bolstered, unveil, devise, falls, doubted, attempt, ship, curtail, confirm, diluted, write, subdued, exchange, liquidated, capitalized, shrank, reaching, narrowed, specialized, bribed, shipping, strike, diagnosed, classified, outlawed, poured, hung, ventilated, slide, tracked, lengthened, pour, invests, waiving, ensnarled, default, oversee, jet, raced, hauled, drooled, boarding, renovated, Knowing, eat, tempts, accumulated, underscore, guaranteed, awards, shore, matters, values, evaluated, emerges, attracts, speed, cluttered, refile, expedited, entertain, slash, tracking, disputed, audit, collecting, refunded, setting, arising, diversifying, depend, scrapped, needing, complicate, existed, Regarded, watching, harms, offending, discouraging, deterring, lauded, aid, initialing, amending, compel, enact, specializing, craft, merit, halve, aspires, CHANGED, store, adapted, reaches, Following, divest, achieved, wallowing, resume, assisted, redeploy, channel, addressing, incorporated, Pick, capped, quips, mirrors, issuing, stake, stretching, urge, emerging, outpaced, burned, whipsaw, clobbered, alarmed, fattened, jumping, seized, amended, satisfying, booked, taper, slip, watched, conforms, eases, accounts, contrast, signaling, delivering, abating, lengthen, gauges, import, acknowledging, numbered, Judging, whistle, recognizing, refreshing, perpetuate, rooted, mark, meets, wears, published, dominating, expands, depending, abide, wear, rationed, hosted, invades, assigned, frustrating, invent, bans, restricts, designated, surveyed, espouse, undertaking, back, name, establishing, strapped, twinned, authorized, painted, exchanging, accrued, swapped, laid, obsessed, refitting, shot, Filmed, noticing, jostle, hangs, populated, curled, sketching, returns, cure, alerts, tuck, dreamed, resonate, glamorize, ends, collaborated, enabled, chopped, eating, drinking, celebrate, accounting, scattered, ushering, attack, hid, prosecute, unleashed, Compare, argues, superimposed, nurtured, dissolves, transforming, shake, recalling, C'mon, interjects, interrogated, lasted, carrying, aired, Remember, Consider, rusted, swim, purrs, cry, cleaned, devastating, propelling, sparking, posing, knitted, forcing, encourages, resists, swelling, offend, parallel, assemble, reasserts, designing, outstrips, outranks, voice, convey, monopolize, sew, spotted, Confronted, answers, display, underline, prosecuted, enhanced, cheat, bolster, depended, inflated, suspects, revising, telegraph, posts, rates, prosecuting, Standing, educated, faded, bled, stabbed, resolved, clean, ushered, Being, dreamt, struggled, distinguished, pair, prepare, polish, correcting, deteriorating, Winning, demand, attending, copied, broke, cared, defeats, concedes, recalls, crowded, testify, decried, overused, enraged, expunged, cranked, evaluating, touched, justifying, defeat, aces, replicated, devised, awarding, rate, replicate, contains, replicating, discontinue, implant, recommended, embroiled, recruit, opposes, imposing, defuse, head, judged, disturbs, moves, polarized, exists, warns, discourage, regenerate, Rekindled, averaged, anticipating, permitting, uptick, expires, favor, leapt, protected, receives, acted, red-flag, Filling, tip, condemning, prohibited, disclosing, orders, committing, initiated, dating, mailed, relating, quitting, quipped, blinks, punish, reviewing, consists, punishing, retaliating, UPHELD, bar, obtaining, advocate, CLEARS, sentencing, referring, cruising, picking, appointed, commenting, Observing, exhibited, discredit, empowered, manipulate, SWITCHING, specialize, apologizing, indulging, rebuked, fretted, summoned, apologize, sacrificing, complain, undercut, slashing, map, emerge, lagging, switch, phase, equals, counting, fabricate, Related, converting, speculate, buoyed, underpin, reasons, convinced, erode, traced, mollified, redeeming, recede, air, fuming, tell, flooded, fawning, thumbing, billed, combines, happens, flush, deem, alienated, practicing, fumes, portrayed, relied, recycled, scared, replies, supply, serviced, Developed, pitches, top, characterizing, entrench, confuse, materialize, converted, equip, equipped, urging, classed, weighing, depressed, installing, enclosed, transporting, retires, lay, retiring, single, rarefied, zoomed, boast, inching, crack, encroaching, steal, commanded, command, happening, exhausted, ripen, yielded, Is, Offering, wins, talked, excited, overpriced, walking, achieving, shown, resisting, tilt, mailing, warrants, expired, postponed, rescheduled, maturing, refunding, approves, clearing, decides, aim, book, Continuing, evaporated, contract, rebuffed, reviewed, clamped, lessening, agreeing, spurns, replacing, interested, challenging, license, combat, patented, color, perceives, stirred, impending, devoted, escalated, stoked, asserting, highlight, clarified, sorting, crossed, gauging, trust, improves, penetrate, guided, treats, milked, bankroll, parallels, catch, foundering, queuing, generate, double, ai, pine, checking, competed, bundling, segmenting, saving, borrowing, borrowed, aiming, tailoring, packaging, begot, computerize, analyze, worrying, cultivated, attracting, rewarding, flourish, tailored, amend, delete, resubmit, develops, markets, Send, Make, teetering, Performing, experience, troubled, builds, sagging, institute, reinstating, skidded, lessen, reopened, knocked, synchronized, aggravated, directing, lapses, heating, angered, annoyed, attended, evoke, cascading, calling, chat, enjoying, herald, sounding, scrape, drift, diminish, pealing, descending, altering, state, memorize, pulling, disappears, snaking, muffled, stare, time, advance, retard, finds, filled, stays, stuck, skip, sit, dwindling, pressing, sacked, rings, refuses, aims, speak, entitled, attacking, fainting, dressed, decorated, faint, bless, unsettled, breathe, warn, mating, sliding, pushes, tanked, escaped, behaving, factors, forecasting, declare, measure, Having, infringed, established, enter, discontinuing, servicing, lacked, spoke, afflicted, harped, seduce, reciting, reminded, ordering, speaking, reprove, mend, deteriorated, codified, brief, pulled, acknowledge, shoot, hoped, encounter, arrived, encircling, discarded, clicked, Lure, accusing, jeopardizing, barking, visited, Earns, disapprove, imply, perpetuates, defined, disciplined, Reached, rectified, differ, complaining, screwed, breaking, blocked, emigrate, loom, shrug, overlap, exploit, imagine, racing, forgotten, tightened, reaped, ascribe, serves, unwind, manages, bend, Adopting, touted, impart, fought, acceded, Can, entice, negotiating, opens, Given, overpaying, picked, researching, arrest, occupying, impressed, fundraising, enticed, befuddled, demonstrating, possessed, skipped, Moving, graduated, engineered, inherited, buffet, attributes, concentrating, diversified, contrasts, provoked, shaping, authorizing, reallocate, draws, stripped, reallocated, broadened, upsetting, instructed, drafted, insert, waived, bounce, Takes, AGREES, repaired, crashing, prefer, teaches, blocks, Competes, PORTING, resembles, tote, acknowledges, Touches, travel, learn, Fails, 'S, propose, altered, counteract, correct, cooperating, corrected, promised, removing, safeguarding, contest, contesting, implied, quoting, emphasized, predispose, composed, defying, possess, exhibits, living, quote, robbed, fend, dismiss, sleeping, bothered, chose, insinuating, participated, Choose, deprived, views, override, impede, impaired, overriding, dubbed, broadcasting, propagandize, sounds, propagandizes, viewing, inform, clipped, broadcasts, copying, photocopying, transcribe, reprint, happened, disseminate, preclude, disseminating, mentioned, appearing, requesting, examine, disagreed, proscribes, abridging, prescribe, assure, mind, sends, photocopy, wield, dividing, searching, reacted, wound, advocated, convince, applaud, exuded, sitting, OFFERED, Annualized, clashed, evolved, enjoyed, centers, recruited, intimidate, uttering, Provided, guarding, predicated, construed, emasculate, swallow, ensure, deliberating, containing, strip, places, appoint, empowers, granting, repeals, imposes, recommending, select, inquiring, subjecting, prohibiting, wasted, illustrates, usurp, administer, disapproved, amounts, invite, suit, undo, ratified, assert, restricting, trespass, characterized, excise, conflict, exerting, asserts, sue, loses, presumes, drawing, deducting, saved, reclaim, mortgaged, soaring, reclaimed, parched, profited, confirms, helps, curtailed, strengthened, log, cushioned, dominates, materialized, torn, staid, flirted, folded, looks, brightened, restored, limping, recruiting, crying, filling, headlined, Closes, Forget, handed, beleaguered, boosting, explaining, disclose, approached, project, broaden, screened, missed, preapproved, test-drive, recovering, retraced, accounted, betting, vested, engaging, exhaust, quashing, shaken, reeling, heated, control, reap, exacerbated, consisting, Defending, mobilizing, bludgeon, telephone, rallying, Kill, wedded, waited, sneaked, conceding, headed, curbed, pitting, battle, entrenched, facilitate, stacked, portray, beg, constitute, profess, despise, frightened, unload, manage, juggle, mirror, automated, threatens, striving, dislike, spooked, stacking, scaring, resent, orchestrated, hunker, gored, proven, minted, Sit, panic, enjoy, chase, protects, destroy, picks, practiced, leveraging, owning, arise, evolve, evoking, implemented, Reducing, responds, causes, initiating, transfers, functioning, decrease, sacrifice, Eliminate, Encouraging, labeling, please, concern, undergoing, scream, hailing, abounding, Could, wooing, bringing, Getting, abolishing, championing, cater, advise, amass, devouring, grapple, Legislating, Left, matter, inviting, transfer, executes, fear, augment, appropriated, notify, completing, stifle, sanctions, inhibit, noticed, ratcheting, initiatives, backing, gains, documented, fetching, DIALING, eyeing, migrate, predicts, TRIMMING, string, colored, prompts, Funded, Concerned, shrinking, stresses, spurned, spurring, doubts, echoed, heading, blames, overvalued, spook, curbing, Citing, outlawing, disappear, dealing, decries, adapting, factoring, comments, Arbitraging, defends, recouped, weather, hunted, controls, promise, bombarding, breathed, demonstrates, undercutting, changes, pins, Determining, enable, combine, Rated, insured, digs, afford, ranging, scoffs, looked, redistribute, fielded, concede, endorse, disagrees, justified, erect, erodes, shoring, structured, stretch, downgraded, acquires, generated, arranged, rebounding, overstated, circulated, experiencing, midsized, eclipse, stretched, debate, recall, Beginning, assessed, duck, twisting, reversed, chilled, hidden, favors, accompany, introduces, even, understands, trash, inserted, refer, harmed, wrecking, smothering, Declining, outnumbered, surge, directed, stimulated, affecting, tempted, overdone, hugging, shed, tender, waive, sweeten, shopping, notched, searched, calculated, equaling, Hold, tackle, paint, spackle, charging, disposed, Named, stayed, revised, worsen, conducted, ranked, blurred, varied, enhances, compare, topped, outdistanced, wanting, relaunched, repriced, Bucking, drew, exceeds, underperforming, guarantee, hailed, despised, junk, subsidize, sparing, sticking, avoiding, present, appease, burn, tinker, resign, co-founded, coordinate, disconnect, heightened, routes, scans, resumes, halt, slides, Used, zip, handles, nullified, swapping, multiplying, mimics, signifying, puzzled, position, challenge, rebound, notified, tapping, land, cleared, delisted, oust, explore, trail, emerged, muscling, singled, sagged, granted, am, confused, complicated, fuel, muted, Continued, buys, ignored, secede, free, rang, accrue, termed, stemmed, deter, magnified, nonrecurring, reimbursed, Advancing, arrive, firmed, faltered, awaits, sense, stick, mount, withdrew, convert, distributed, experienced, Depending, customized, simulates, softening, distributes, produces, outbid, derived, averted, slated, realestate, adopt, staying, reorganized, plagued, bounced, ENDED, reaffirmed, thwart, demobilize, brushed, renewing, fled, armed, neighboring, violating, sabotage, assassinated, avenge, implements, pledged, impeding, defeated, rigged, Am, subpoenaed, planted, exploded, Died, tendering, laying, centralized, climb, APPEARS, steps, resigning, depends, fizzled, fault, flies, restructure, mulling, mitigate, reserved, restructures, battered, floated, shopped, spun, capitalize, Note, induce, advocating, rating, engineering, shedding, injuring, investigate, defines, assess, estimate, questioned, trim, trimmed, detailed, reading, traveled, revolves, rolling, mandates, born, falsify, plugged, rebuilding, Starting, bribing, fashioned, befell, wrestling, arrested, Absorbed, doling, gloss, expressing, scoop, redistributing, influencing, brokering, line, form, finalized, lease, avert, injecting, dashed, repay, sputtered, harvested, loading, reaping, gyrate, scrounge, trimming, feeds, sank, alleviate, slowed, hamstrung, budding, rebuild, depleted, winding, speculating, gather, permits, projects, relieve, hauling, compressed, delayed, tightening, influenced, precedes, points, riding, earning, plummeted, exceeded, coated, soliciting, scuttle, authorizes, shared, supports\""
      ]
     },
     "execution_count": 162,
     "metadata": {},
     "output_type": "execute_result"
    }
   ],
   "source": [
    "wsj = nltk.corpus.treebank.tagged_words(tagset='universal')\n",
    "word_tag_fd = nltk.FreqDist(wsj)\n",
    "', '.join([wt[0] for (wt, _) in word_tag_fd.most_common() if wt[1] == 'VERB'])"
   ]
  },
  {
   "cell_type": "code",
   "execution_count": 163,
   "metadata": {},
   "outputs": [
    {
     "data": {
      "text/plain": [
       "[('VERB', 28), ('NOUN', 20)]"
      ]
     },
     "execution_count": 163,
     "metadata": {},
     "output_type": "execute_result"
    }
   ],
   "source": [
    "cfd1 = nltk.ConditionalFreqDist(wsj)\n",
    "cfd1['yield'].most_common()"
   ]
  },
  {
   "cell_type": "code",
   "execution_count": 164,
   "metadata": {},
   "outputs": [
    {
     "data": {
      "text/plain": [
       "[('VERB', 25), ('NOUN', 3)]"
      ]
     },
     "execution_count": 164,
     "metadata": {},
     "output_type": "execute_result"
    }
   ],
   "source": [
    "cfd1['cut'].most_common()"
   ]
  },
  {
   "cell_type": "code",
   "execution_count": 165,
   "metadata": {},
   "outputs": [
    {
     "data": {
      "text/plain": [
       "['named',\n",
       " 'used',\n",
       " 'caused',\n",
       " 'exposed',\n",
       " 'reported',\n",
       " 'replaced',\n",
       " 'sold',\n",
       " 'died',\n",
       " 'expected',\n",
       " 'diagnosed',\n",
       " 'studied',\n",
       " 'industrialized',\n",
       " 'owned',\n",
       " 'found',\n",
       " 'classified',\n",
       " 'rejected',\n",
       " 'outlawed',\n",
       " 'imported',\n",
       " 'tracked',\n",
       " 'thought',\n",
       " 'considered',\n",
       " 'elected',\n",
       " 'based',\n",
       " 'lifted',\n",
       " 'ensnarled',\n",
       " 'voted',\n",
       " 'been',\n",
       " 'held',\n",
       " 'banned',\n",
       " 'renovated',\n",
       " 'prolonged',\n",
       " 'recorded',\n",
       " 'accumulated',\n",
       " 'offered',\n",
       " 'become',\n",
       " 'guaranteed',\n",
       " 'proposed',\n",
       " 'related',\n",
       " 'improved',\n",
       " 'worried',\n",
       " 'cluttered',\n",
       " 'expedited',\n",
       " 'retired',\n",
       " 'ordered',\n",
       " 'collected',\n",
       " 'required',\n",
       " 'received',\n",
       " 'moved',\n",
       " 'determined',\n",
       " 'made',\n",
       " 'changed',\n",
       " 'completed',\n",
       " 'disputed',\n",
       " 'refunded',\n",
       " 'estimated',\n",
       " 'compared',\n",
       " 'located',\n",
       " 'filed',\n",
       " 'scrapped',\n",
       " 'anticipated',\n",
       " 'priced',\n",
       " 'set',\n",
       " 'applied',\n",
       " 'existed',\n",
       " 'incurred',\n",
       " 'reached',\n",
       " 'Regarded',\n",
       " 'paid',\n",
       " 'trained',\n",
       " 'instituted',\n",
       " 'vowed',\n",
       " 'deemed',\n",
       " 'combined',\n",
       " 'removed',\n",
       " 'concerned',\n",
       " 'complained',\n",
       " 'accelerated',\n",
       " 'believed',\n",
       " 'called',\n",
       " 'solved',\n",
       " 'forgiven',\n",
       " 'launched',\n",
       " 'built',\n",
       " 'preferred',\n",
       " 'raised',\n",
       " 'scheduled',\n",
       " 'brought',\n",
       " 'increased',\n",
       " 'developed',\n",
       " 'led',\n",
       " 'approved',\n",
       " 'produced',\n",
       " 'denied',\n",
       " 'requested',\n",
       " 'covered',\n",
       " 'assembled',\n",
       " 'achieved',\n",
       " 'maintained',\n",
       " 'left',\n",
       " 'assisted',\n",
       " 'placed',\n",
       " 'put',\n",
       " 'linked',\n",
       " 'designed',\n",
       " 'boosted',\n",
       " 'issued',\n",
       " 'incorporated',\n",
       " 'advertised',\n",
       " 'announced',\n",
       " 'traded',\n",
       " 'registered',\n",
       " 'ranged',\n",
       " 'capped',\n",
       " 'kicked',\n",
       " 'focused',\n",
       " 'fixed',\n",
       " 'listed',\n",
       " 'turned',\n",
       " 'scrambled',\n",
       " 'outpaced',\n",
       " 'burned',\n",
       " 'clobbered',\n",
       " 'climbed',\n",
       " 'closed',\n",
       " 'skyrocketed',\n",
       " 'surged',\n",
       " 'targeted',\n",
       " 'tied',\n",
       " 'invested',\n",
       " 'jumped',\n",
       " 'alarmed',\n",
       " 'fattened',\n",
       " 'cast',\n",
       " 'repaid',\n",
       " 'permitted',\n",
       " 'crippled',\n",
       " 'lent',\n",
       " 'amended',\n",
       " 'settled',\n",
       " 'manufactured',\n",
       " 'fallen',\n",
       " 'adjusted',\n",
       " 'failed',\n",
       " 'watched',\n",
       " 'intended',\n",
       " 'helped',\n",
       " 'awarded',\n",
       " 'spent',\n",
       " 'provided',\n",
       " 'coupled',\n",
       " 'broken',\n",
       " 'rooted',\n",
       " 'written',\n",
       " 'played',\n",
       " 'welcomed',\n",
       " 'rationed',\n",
       " 'assigned',\n",
       " 'run',\n",
       " 'opened',\n",
       " 'designated',\n",
       " 'carried',\n",
       " 'surveyed',\n",
       " 'confirmed',\n",
       " 'tested',\n",
       " 'had',\n",
       " 'strapped',\n",
       " 'twinned',\n",
       " 'planned',\n",
       " 'operated',\n",
       " 'painted',\n",
       " 'accrued',\n",
       " 'swapped',\n",
       " 'laid',\n",
       " 'obsessed',\n",
       " 'revived',\n",
       " 'prepared',\n",
       " 'romanticized',\n",
       " 'Filmed',\n",
       " 'populated',\n",
       " 'condemned',\n",
       " 'given',\n",
       " 'murdered',\n",
       " 'managed',\n",
       " 'viewed',\n",
       " 'executed',\n",
       " 'presented',\n",
       " 'chopped',\n",
       " 'taken',\n",
       " 'worked',\n",
       " 'speculated',\n",
       " 'come',\n",
       " 'scattered',\n",
       " 'prompted',\n",
       " 'convicted',\n",
       " 'caught',\n",
       " 'Stung',\n",
       " 'opposed',\n",
       " 'refused',\n",
       " 'blamed',\n",
       " 'superimposed',\n",
       " 'nurtured',\n",
       " 'created',\n",
       " 'attracted',\n",
       " 'interrogated',\n",
       " 'accused',\n",
       " 'introduced',\n",
       " 'grown',\n",
       " 'gotten',\n",
       " 'rusted',\n",
       " 'involved',\n",
       " 'responded',\n",
       " 'cleaned',\n",
       " 'dumped',\n",
       " 'quoted',\n",
       " 'asked',\n",
       " 'pursued',\n",
       " 'knitted',\n",
       " 'tripled',\n",
       " 'known',\n",
       " 'spurred',\n",
       " 'seen',\n",
       " 'passed',\n",
       " 'Confronted',\n",
       " 'gone',\n",
       " 'fired',\n",
       " 'prosecuted',\n",
       " 'treated',\n",
       " 'enhanced',\n",
       " 'released',\n",
       " 'inflated',\n",
       " 'surfaced',\n",
       " 'posted',\n",
       " 'educated',\n",
       " 'faded',\n",
       " 'stabbed',\n",
       " 'chosen',\n",
       " 'learned',\n",
       " 'tried',\n",
       " 'discovered',\n",
       " 'dismissed',\n",
       " 'crowded',\n",
       " 'got',\n",
       " 'overused',\n",
       " 'expunged',\n",
       " 'interviewed',\n",
       " 'wanted',\n",
       " 'aimed',\n",
       " 'replicated',\n",
       " 'referred',\n",
       " 'matched',\n",
       " 'measured',\n",
       " 'continued',\n",
       " 'funded',\n",
       " 'threatened',\n",
       " 'embroiled',\n",
       " 'hampered',\n",
       " 'withdrawn',\n",
       " 'assured',\n",
       " 'charged',\n",
       " 'judged',\n",
       " 'polarized',\n",
       " 'Rekindled',\n",
       " 'agreed',\n",
       " 'indicated',\n",
       " 'returned',\n",
       " 'signed',\n",
       " 'acquired',\n",
       " 'associated',\n",
       " 'lost',\n",
       " 'redeemed',\n",
       " 'ended',\n",
       " 'protected',\n",
       " 'argued',\n",
       " 'heard',\n",
       " 'sent',\n",
       " 'alleged',\n",
       " 'retained',\n",
       " 'chaired',\n",
       " 'prohibited',\n",
       " 'initiated',\n",
       " 'mailed',\n",
       " 'obtained',\n",
       " 'relegated',\n",
       " 'employed',\n",
       " 'UPHELD',\n",
       " 'adopted',\n",
       " 'sparked',\n",
       " 'killed',\n",
       " 'appointed',\n",
       " 'exhibited',\n",
       " 'empowered',\n",
       " 'served',\n",
       " 'disclosed',\n",
       " 'accepted',\n",
       " 'fueled',\n",
       " 'decided',\n",
       " 'contacted',\n",
       " 'formed',\n",
       " 'compiled',\n",
       " 'Guaranteed',\n",
       " 'Related',\n",
       " 'positioned',\n",
       " 'buoyed',\n",
       " 'kept',\n",
       " 'locked',\n",
       " 'offset',\n",
       " 'convinced',\n",
       " 'mollified',\n",
       " 'valued',\n",
       " 'rolled',\n",
       " 'Estimated',\n",
       " 'flooded',\n",
       " 'pleased',\n",
       " 'Founded',\n",
       " 'alienated',\n",
       " 'chastised',\n",
       " 'printed',\n",
       " 'portrayed',\n",
       " 'relied',\n",
       " 'recycled',\n",
       " 'Asked',\n",
       " 'scared',\n",
       " 'handled',\n",
       " 'serviced',\n",
       " 'damaged',\n",
       " 'Developed',\n",
       " 'pressed',\n",
       " 'allocated',\n",
       " 'converted',\n",
       " 'mired',\n",
       " 'barred',\n",
       " 'said',\n",
       " 'equipped',\n",
       " 'classed',\n",
       " 'depressed',\n",
       " 'installed',\n",
       " 'met',\n",
       " 'enclosed',\n",
       " 'dropped',\n",
       " 'hit',\n",
       " 'reduced',\n",
       " 'limited',\n",
       " 'perceived',\n",
       " 'rarefied',\n",
       " 'zoomed',\n",
       " 'soared',\n",
       " 'commanded',\n",
       " 'exhausted',\n",
       " 'shipped',\n",
       " 'spread',\n",
       " 'talked',\n",
       " 'excited',\n",
       " 'overpriced',\n",
       " 'forced',\n",
       " 'moderated',\n",
       " 'stated',\n",
       " 'shown',\n",
       " 'described',\n",
       " 'divided',\n",
       " 'declared',\n",
       " 'exercised',\n",
       " 'postponed',\n",
       " 'rescheduled',\n",
       " 'auctioned',\n",
       " 'frozen',\n",
       " 'disappointed',\n",
       " 'eliminated',\n",
       " 'clamped',\n",
       " 'surprised',\n",
       " 'cited',\n",
       " 'subordinated',\n",
       " 'collapsed',\n",
       " 'allowed',\n",
       " 'followed',\n",
       " 'interested',\n",
       " 'purchased',\n",
       " 'escalated',\n",
       " 'stoked',\n",
       " 'publicized',\n",
       " 'identified',\n",
       " 'clarified',\n",
       " 'crossed',\n",
       " 'milked',\n",
       " 'financed',\n",
       " 'integrated',\n",
       " 'performed',\n",
       " 'assumed',\n",
       " 'competed',\n",
       " 'borrowed',\n",
       " 'squeezed',\n",
       " 'switched',\n",
       " 'cultivated',\n",
       " 'tailored',\n",
       " 'troubled',\n",
       " 'triggered',\n",
       " 'needed',\n",
       " 'synchronized',\n",
       " 'expressed',\n",
       " 'done',\n",
       " 'discussed',\n",
       " 'regulated',\n",
       " 'attached',\n",
       " 'rung',\n",
       " 'started',\n",
       " 'muffled',\n",
       " 'absorbed',\n",
       " 'mounted',\n",
       " 'filled',\n",
       " 'fed',\n",
       " 'mixed',\n",
       " 'drawn',\n",
       " 'entered',\n",
       " 'founded',\n",
       " 'remarked',\n",
       " 'observed',\n",
       " 'desired',\n",
       " 'dressed',\n",
       " 'decorated',\n",
       " 'unsettled',\n",
       " 'risen',\n",
       " 'Put',\n",
       " 'sustained',\n",
       " 'tanked',\n",
       " 'renewed',\n",
       " 'invented',\n",
       " 'infringed',\n",
       " 'hired',\n",
       " 'afflicted',\n",
       " 'deteriorated',\n",
       " 'codified',\n",
       " 'gained',\n",
       " 'discarded',\n",
       " 'pointed',\n",
       " 'loaded',\n",
       " 'defined',\n",
       " 'expelled',\n",
       " 'suspended',\n",
       " 'fined',\n",
       " 'represented',\n",
       " 'consented',\n",
       " 'owed',\n",
       " 'Reached',\n",
       " 'rectified',\n",
       " 'noted',\n",
       " 'engaged',\n",
       " 'blocked',\n",
       " 'forgotten',\n",
       " 'tightened',\n",
       " 'reaped',\n",
       " 'stopped',\n",
       " 'pegged',\n",
       " 'backed',\n",
       " 'enacted',\n",
       " 'sought',\n",
       " 'touted',\n",
       " 'faced',\n",
       " 'negotiated',\n",
       " 'Given',\n",
       " 'impressed',\n",
       " 'engineered',\n",
       " 'hurt',\n",
       " 'diversified',\n",
       " 'expanded',\n",
       " 'committed',\n",
       " 'provoked',\n",
       " 'confined',\n",
       " 'stripped',\n",
       " 'reallocated',\n",
       " 'instructed',\n",
       " 'drafted',\n",
       " 'repaired',\n",
       " 'upset',\n",
       " 'altered',\n",
       " 'corrected',\n",
       " 'promised',\n",
       " 'proved',\n",
       " 'understood',\n",
       " 'composed',\n",
       " 'connected',\n",
       " 'regarded',\n",
       " 'robbed',\n",
       " 'deprived',\n",
       " 'organized',\n",
       " 'impaired',\n",
       " 'diminished',\n",
       " 'added',\n",
       " 'advised',\n",
       " 'mentioned',\n",
       " 'answered',\n",
       " 'oriented',\n",
       " 'contributed',\n",
       " 'dominated',\n",
       " 'pushed',\n",
       " 'OFFERED',\n",
       " 'Posted',\n",
       " 'Annualized',\n",
       " 'clashed',\n",
       " 'enjoyed',\n",
       " 'included',\n",
       " 'recruited',\n",
       " 'rumored',\n",
       " 'respected',\n",
       " 'Provided',\n",
       " 'specified',\n",
       " 'predicated',\n",
       " 'endorsed',\n",
       " 'construed',\n",
       " 'supported',\n",
       " 'read',\n",
       " 'contained',\n",
       " 'nominated',\n",
       " 'wasted',\n",
       " 'favored',\n",
       " 'disapproved',\n",
       " 'ratified',\n",
       " 'characterized',\n",
       " 'won',\n",
       " 'entrusted',\n",
       " 'mortgaged',\n",
       " 'reclaimed',\n",
       " 'parched',\n",
       " 'cushioned',\n",
       " 'shut',\n",
       " 'attempted',\n",
       " 'torn',\n",
       " 'staid',\n",
       " 'flirted',\n",
       " 'abandoned',\n",
       " 'stepped',\n",
       " 'headlined',\n",
       " 'secured',\n",
       " 'beleaguered',\n",
       " 'begun',\n",
       " 'plunged',\n",
       " 'missed',\n",
       " 'preapproved',\n",
       " 'upheld',\n",
       " 'accounted',\n",
       " 'vested',\n",
       " 'shaken',\n",
       " 'heated',\n",
       " 'labeled',\n",
       " 'exacerbated',\n",
       " 'wedded',\n",
       " 'headed',\n",
       " 'curbed',\n",
       " 'entrenched',\n",
       " 'stacked',\n",
       " 'frightened',\n",
       " 'automated',\n",
       " 'earned',\n",
       " 'spooked',\n",
       " 'transformed',\n",
       " 'orchestrated',\n",
       " 'gored',\n",
       " 'proven',\n",
       " 'minted',\n",
       " 'beaten',\n",
       " 'practiced',\n",
       " 'implemented',\n",
       " 'feared',\n",
       " 'Left',\n",
       " 'cut',\n",
       " 'appropriated',\n",
       " 'noticed',\n",
       " 'finished',\n",
       " 'documented',\n",
       " 'colored',\n",
       " 'Funded',\n",
       " 'Concerned',\n",
       " 'marketed',\n",
       " 'echoed',\n",
       " 'halted',\n",
       " 'recouped',\n",
       " 'hunted',\n",
       " 'cooled',\n",
       " 'overcome',\n",
       " 'terminated',\n",
       " 'Rated',\n",
       " 'insured',\n",
       " 'rated',\n",
       " 'looked',\n",
       " 'justified',\n",
       " 'discontinued',\n",
       " 'lowered',\n",
       " 'warned',\n",
       " 'structured',\n",
       " 'generated',\n",
       " 'overstated',\n",
       " 'midsized',\n",
       " 'assessed',\n",
       " 'chilled',\n",
       " 'hidden',\n",
       " 'inserted',\n",
       " 'harmed',\n",
       " 'stressed',\n",
       " 'selected',\n",
       " 'directed',\n",
       " 'stimulated',\n",
       " 'bolstered',\n",
       " 'overdone',\n",
       " 'calculated',\n",
       " 'Named',\n",
       " 'revised',\n",
       " 'attributed',\n",
       " 'conducted',\n",
       " 'snapped',\n",
       " 'polled',\n",
       " 'topped',\n",
       " 'outdistanced',\n",
       " 'relaunched',\n",
       " 'restructured',\n",
       " 'repriced',\n",
       " 'concluded',\n",
       " 'hailed',\n",
       " 'despised',\n",
       " 'heightened',\n",
       " 'Used',\n",
       " 'nullified',\n",
       " 'puzzled',\n",
       " 'bought',\n",
       " 'notified',\n",
       " 'merged',\n",
       " 'delisted',\n",
       " 'meant',\n",
       " 'own',\n",
       " 'tendered',\n",
       " 'singled',\n",
       " 'granted',\n",
       " 'felt',\n",
       " 'confused',\n",
       " 'complicated',\n",
       " 'muted',\n",
       " 'Continued',\n",
       " 'split',\n",
       " 'diluted',\n",
       " 'magnified',\n",
       " 'reimbursed',\n",
       " 'subdued',\n",
       " 'controlled',\n",
       " 'liquidated',\n",
       " 'distributed',\n",
       " 'experienced',\n",
       " 'customized',\n",
       " 'extended',\n",
       " 'sweetened',\n",
       " 'derived',\n",
       " 'averted',\n",
       " 'slated',\n",
       " 'delivered',\n",
       " 'capitalized',\n",
       " 'examined',\n",
       " 'reorganized',\n",
       " 'plagued',\n",
       " 'imposed',\n",
       " 'armed',\n",
       " 'rigged',\n",
       " 'subpoenaed',\n",
       " 'planted',\n",
       " 'told',\n",
       " 'centralized',\n",
       " 'resulted',\n",
       " 'forecast',\n",
       " 'fizzled',\n",
       " 'edged',\n",
       " 'battered',\n",
       " 'floated',\n",
       " 'spun',\n",
       " 'licensed',\n",
       " 'qualified',\n",
       " 'specialized',\n",
       " 'trimmed',\n",
       " 'detailed',\n",
       " 'born',\n",
       " 'fashioned',\n",
       " 'bribed',\n",
       " 'arrested',\n",
       " 'Absorbed',\n",
       " 'finalized',\n",
       " 'dashed',\n",
       " 'omitted',\n",
       " 'harvested',\n",
       " 'slowed',\n",
       " 'depleted',\n",
       " 'obligated',\n",
       " 'compressed',\n",
       " 'delayed',\n",
       " 'influenced',\n",
       " 'reflected',\n",
       " 'advanced',\n",
       " 'coated',\n",
       " 'shared']"
      ]
     },
     "execution_count": 165,
     "metadata": {},
     "output_type": "execute_result"
    }
   ],
   "source": [
    "wsj = nltk.corpus.treebank.tagged_words()\n",
    "cfd2 = nltk.ConditionalFreqDist((tag, word) for (word, tag) in wsj)\n",
    "list(cfd2['VBN'])"
   ]
  },
  {
   "cell_type": "code",
   "execution_count": 166,
   "metadata": {},
   "outputs": [],
   "source": [
    "idx1 = wsj.index(('kicked', 'VBD'))"
   ]
  },
  {
   "cell_type": "code",
   "execution_count": 167,
   "metadata": {},
   "outputs": [
    {
     "data": {
      "text/plain": [
       "[('While', 'IN'),\n",
       " ('program', 'NN'),\n",
       " ('trades', 'NNS'),\n",
       " ('swiftly', 'RB'),\n",
       " ('kicked', 'VBD')]"
      ]
     },
     "execution_count": 167,
     "metadata": {},
     "output_type": "execute_result"
    }
   ],
   "source": [
    "wsj[idx1-4:idx1+1]"
   ]
  },
  {
   "cell_type": "code",
   "execution_count": 168,
   "metadata": {},
   "outputs": [
    {
     "data": {
      "text/plain": [
       "[('head', 'NN'),\n",
       " ('of', 'IN'),\n",
       " ('state', 'NN'),\n",
       " ('has', 'VBZ'),\n",
       " ('kicked', 'VBN')]"
      ]
     },
     "execution_count": 168,
     "metadata": {},
     "output_type": "execute_result"
    }
   ],
   "source": [
    "idx2 = wsj.index(('kicked', 'VBN'))\n",
    "wsj[idx2-4:idx2+1]"
   ]
  },
  {
   "cell_type": "code",
   "execution_count": 169,
   "metadata": {},
   "outputs": [
    {
     "data": {
      "text/plain": [
       "',, ., accomplished, analytically, appear, apt, associated, assuming, became, become, been, began, call, called, carefully, chose, classified, colorful, composed, contain, differed, difficult, encountered, enough, equate, extremely, found, happens, have, ignored, in, involved, more, needed, nightly, observed, of, on, out, quite, represent, responsible, revamped, seclude, set, shortened, sing, sounded, stated, still, sung, supported, than, to, when, work'"
      ]
     },
     "execution_count": 169,
     "metadata": {},
     "output_type": "execute_result"
    }
   ],
   "source": [
    "brown_learned_text = brown.words(categories='learned')\n",
    "', '.join(sorted(set(b for (a, b) in nltk.bigrams(brown_learned_text) if a == 'often')))"
   ]
  },
  {
   "cell_type": "code",
   "execution_count": 170,
   "metadata": {},
   "outputs": [
    {
     "name": "stdout",
     "output_type": "stream",
     "text": [
      "VERB  ADV  ADP  ADJ    .  PRT \n",
      "  37    8    7    6    4    2 \n"
     ]
    }
   ],
   "source": [
    "brown_lrnd_tagged = brown.tagged_words(categories='learned', tagset='universal')\n",
    "tags = [b[1] for (a, b) in nltk.bigrams(brown_lrnd_tagged) if a[0] == 'often']\n",
    "fd = nltk.FreqDist(tags)\n",
    "fd.tabulate()"
   ]
  },
  {
   "cell_type": "code",
   "execution_count": 171,
   "metadata": {},
   "outputs": [],
   "source": [
    "from nltk.corpus import brown\n",
    "def process(sentence):\n",
    "    for (w1,t1), (w2,t2), (w3,t3) in nltk.trigrams(sentence):\n",
    "        if (t1.startswith('V') and t2 == 'TO' and t3.startswith('V')):\n",
    "            print(w1, w2, w3, end=' ')"
   ]
  },
  {
   "cell_type": "code",
   "execution_count": 172,
   "metadata": {},
   "outputs": [
    {
     "data": {
      "text/plain": [
       "'NN'"
      ]
     },
     "execution_count": 172,
     "metadata": {},
     "output_type": "execute_result"
    }
   ],
   "source": [
    "from nltk.corpus import brown\n",
    "brown_tagged_sents = brown.tagged_sents(categories='news')\n",
    "brown_sents = brown.sents(categories='news')\n",
    "tags = [tag for (word, tag) in brown.tagged_words(categories='news')]\n",
    "nltk.FreqDist(tags).max()"
   ]
  },
  {
   "cell_type": "code",
   "execution_count": 173,
   "metadata": {},
   "outputs": [
    {
     "data": {
      "text/plain": [
       "[('I', 'NN'),\n",
       " ('do', 'NN'),\n",
       " ('not', 'NN'),\n",
       " ('like', 'NN'),\n",
       " ('green', 'NN'),\n",
       " ('eggs', 'NN'),\n",
       " ('and', 'NN'),\n",
       " ('ham', 'NN'),\n",
       " (',', 'NN'),\n",
       " ('I', 'NN'),\n",
       " ('do', 'NN'),\n",
       " ('not', 'NN'),\n",
       " ('like', 'NN'),\n",
       " ('them', 'NN'),\n",
       " ('Sam', 'NN'),\n",
       " ('I', 'NN'),\n",
       " ('am', 'NN'),\n",
       " ('!', 'NN')]"
      ]
     },
     "execution_count": 173,
     "metadata": {},
     "output_type": "execute_result"
    }
   ],
   "source": [
    "raw = 'I do not like green eggs and ham, I do not like them Sam I am!'\n",
    "tokens = nltk.word_tokenize(raw)\n",
    "default_tagger = nltk.DefaultTagger('NN')\n",
    "default_tagger.tag(tokens)"
   ]
  },
  {
   "cell_type": "code",
   "execution_count": 174,
   "metadata": {},
   "outputs": [
    {
     "data": {
      "text/plain": [
       "0.13089484257215028"
      ]
     },
     "execution_count": 174,
     "metadata": {},
     "output_type": "execute_result"
    }
   ],
   "source": [
    "default_tagger.evaluate(brown_tagged_sents)"
   ]
  },
  {
   "cell_type": "code",
   "execution_count": 175,
   "metadata": {},
   "outputs": [],
   "source": [
    "patterns = [\n",
    "...     (r'.*ing$', 'VBG'),               # gerunds\n",
    "...     (r'.*ed$', 'VBD'),                # simple past\n",
    "...     (r'.*es$', 'VBZ'),                # 3rd singular present\n",
    "...     (r'.*ould$', 'MD'),               # modals\n",
    "...     (r'.*\\'s$', 'NN$'),               # possessive nouns\n",
    "...     (r'.*s$', 'NNS'),                 # plural nouns\n",
    "...     (r'^-?[0-9]+(.[0-9]+)?$', 'CD'),  # cardinal numbers\n",
    "...     (r'.*', 'NN')                     # nouns (default)\n",
    "... ]"
   ]
  },
  {
   "cell_type": "code",
   "execution_count": 176,
   "metadata": {},
   "outputs": [
    {
     "data": {
      "text/plain": [
       "[('.*ing$', 'VBG'),\n",
       " ('.*ed$', 'VBD'),\n",
       " ('.*es$', 'VBZ'),\n",
       " ('.*ould$', 'MD'),\n",
       " (\".*\\\\'s$\", 'NN$'),\n",
       " ('.*s$', 'NNS'),\n",
       " ('^-?[0-9]+(.[0-9]+)?$', 'CD'),\n",
       " ('.*', 'NN')]"
      ]
     },
     "execution_count": 176,
     "metadata": {},
     "output_type": "execute_result"
    }
   ],
   "source": [
    "patterns"
   ]
  },
  {
   "cell_type": "code",
   "execution_count": 177,
   "metadata": {},
   "outputs": [
    {
     "data": {
      "text/plain": [
       "[('``', 'NN'),\n",
       " ('Only', 'NN'),\n",
       " ('a', 'NN'),\n",
       " ('relative', 'NN'),\n",
       " ('handful', 'NN'),\n",
       " ('of', 'NN'),\n",
       " ('such', 'NN'),\n",
       " ('reports', 'NNS'),\n",
       " ('was', 'NNS'),\n",
       " ('received', 'VBD'),\n",
       " (\"''\", 'NN'),\n",
       " (',', 'NN'),\n",
       " ('the', 'NN'),\n",
       " ('jury', 'NN'),\n",
       " ('said', 'NN'),\n",
       " (',', 'NN'),\n",
       " ('``', 'NN'),\n",
       " ('considering', 'VBG'),\n",
       " ('the', 'NN'),\n",
       " ('widespread', 'NN'),\n",
       " ('interest', 'NN'),\n",
       " ('in', 'NN'),\n",
       " ('the', 'NN'),\n",
       " ('election', 'NN'),\n",
       " (',', 'NN'),\n",
       " ('the', 'NN'),\n",
       " ('number', 'NN'),\n",
       " ('of', 'NN'),\n",
       " ('voters', 'NNS'),\n",
       " ('and', 'NN'),\n",
       " ('the', 'NN'),\n",
       " ('size', 'NN'),\n",
       " ('of', 'NN'),\n",
       " ('this', 'NNS'),\n",
       " ('city', 'NN'),\n",
       " (\"''\", 'NN'),\n",
       " ('.', 'NN')]"
      ]
     },
     "execution_count": 177,
     "metadata": {},
     "output_type": "execute_result"
    }
   ],
   "source": [
    "regexp_tagger = nltk.RegexpTagger(patterns)\n",
    "regexp_tagger.tag(brown_sents[3])"
   ]
  },
  {
   "cell_type": "code",
   "execution_count": 178,
   "metadata": {},
   "outputs": [
    {
     "data": {
      "text/plain": [
       "0.20326391789486245"
      ]
     },
     "execution_count": 178,
     "metadata": {},
     "output_type": "execute_result"
    }
   ],
   "source": [
    "regexp_tagger.evaluate(brown_tagged_sents)"
   ]
  },
  {
   "cell_type": "code",
   "execution_count": 179,
   "metadata": {},
   "outputs": [
    {
     "data": {
      "text/plain": [
       "0.45578495136941344"
      ]
     },
     "execution_count": 179,
     "metadata": {},
     "output_type": "execute_result"
    }
   ],
   "source": [
    "fd = nltk.FreqDist(brown.words(categories='news'))\n",
    "cfd = nltk.ConditionalFreqDist(brown.tagged_words(categories='news'))\n",
    "most_freq_words = fd.most_common(100)\n",
    "likely_tags = dict((word, cfd[word].max()) for (word, _) in most_freq_words)\n",
    "baseline_tagger = nltk.UnigramTagger(model=likely_tags)\n",
    "baseline_tagger.evaluate(brown_tagged_sents)"
   ]
  },
  {
   "cell_type": "code",
   "execution_count": 180,
   "metadata": {},
   "outputs": [
    {
     "data": {
      "text/plain": [
       "[('``', '``'),\n",
       " ('Only', None),\n",
       " ('a', 'AT'),\n",
       " ('relative', None),\n",
       " ('handful', None),\n",
       " ('of', 'IN'),\n",
       " ('such', None),\n",
       " ('reports', None),\n",
       " ('was', 'BEDZ'),\n",
       " ('received', None),\n",
       " (\"''\", \"''\"),\n",
       " (',', ','),\n",
       " ('the', 'AT'),\n",
       " ('jury', None),\n",
       " ('said', 'VBD'),\n",
       " (',', ','),\n",
       " ('``', '``'),\n",
       " ('considering', None),\n",
       " ('the', 'AT'),\n",
       " ('widespread', None),\n",
       " ('interest', None),\n",
       " ('in', 'IN'),\n",
       " ('the', 'AT'),\n",
       " ('election', None),\n",
       " (',', ','),\n",
       " ('the', 'AT'),\n",
       " ('number', None),\n",
       " ('of', 'IN'),\n",
       " ('voters', None),\n",
       " ('and', 'CC'),\n",
       " ('the', 'AT'),\n",
       " ('size', None),\n",
       " ('of', 'IN'),\n",
       " ('this', 'DT'),\n",
       " ('city', None),\n",
       " (\"''\", \"''\"),\n",
       " ('.', '.')]"
      ]
     },
     "execution_count": 180,
     "metadata": {},
     "output_type": "execute_result"
    }
   ],
   "source": [
    "sent = brown.sents(categories='news')[3]\n",
    "baseline_tagger.tag(sent)"
   ]
  },
  {
   "cell_type": "code",
   "execution_count": 181,
   "metadata": {},
   "outputs": [],
   "source": [
    "baseline_tagger = nltk.UnigramTagger(model=likely_tags, backoff=nltk.DefaultTagger('NN'))\n",
    "\n",
    "def performance(cfd, wordlist):\n",
    "    lt = dict((word, cfd[word].max()) for word in wordlist)\n",
    "    baseline_tagger = nltk.UnigramTagger(model=lt, backoff=nltk.DefaultTagger('NN'))\n",
    "    return baseline_tagger.evaluate(brown.tagged_sents(categories='news'))\n",
    "\n",
    "def display():\n",
    "    import pylab\n",
    "    word_freqs = nltk.FreqDist(brown.words(categories='news')).most_common()\n",
    "    words_by_freq = [w for (w, _) in word_freqs]\n",
    "    cfd = nltk.ConditionalFreqDist(brown.tagged_words(categories='news'))\n",
    "    sizes = 2 ** pylab.arange(15)\n",
    "    perfs = [performance(cfd, words_by_freq[:size]) for size in sizes]\n",
    "    pylab.plot(sizes, perfs, '-bo')\n",
    "    pylab.title('Lookup Tagger Performance with Varying Model Size')\n",
    "    pylab.xlabel('Model Size')\n",
    "    pylab.ylabel('Performance')\n",
    "    pylab.show()"
   ]
  },
  {
   "cell_type": "code",
   "execution_count": 182,
   "metadata": {},
   "outputs": [
    {
     "data": {
      "image/png": "[encoded data removed]",
      "text/plain": [
       "<Figure size 432x288 with 1 Axes>"
      ]
     },
     "metadata": {
      "needs_background": "light"
     },
     "output_type": "display_data"
    }
   ],
   "source": [
    "display()"
   ]
  },
  {
   "cell_type": "code",
   "execution_count": 183,
   "metadata": {},
   "outputs": [
    {
     "data": {
      "text/plain": [
       "[('Various', 'JJ'),\n",
       " ('of', 'IN'),\n",
       " ('the', 'AT'),\n",
       " ('apartments', 'NNS'),\n",
       " ('are', 'BER'),\n",
       " ('of', 'IN'),\n",
       " ('the', 'AT'),\n",
       " ('terrace', 'NN'),\n",
       " ('type', 'NN'),\n",
       " (',', ','),\n",
       " ('being', 'BEG'),\n",
       " ('on', 'IN'),\n",
       " ('the', 'AT'),\n",
       " ('ground', 'NN'),\n",
       " ('floor', 'NN'),\n",
       " ('so', 'QL'),\n",
       " ('that', 'CS'),\n",
       " ('entrance', 'NN'),\n",
       " ('is', 'BEZ'),\n",
       " ('direct', 'JJ'),\n",
       " ('.', '.')]"
      ]
     },
     "execution_count": 183,
     "metadata": {},
     "output_type": "execute_result"
    }
   ],
   "source": [
    "brown_tagged_sents = brown.tagged_sents(categories='news')\n",
    "brown_sents = brown.sents(categories='news')\n",
    "unigram_tagger = nltk.UnigramTagger(brown_tagged_sents)\n",
    "unigram_tagger.tag(brown_sents[2007])"
   ]
  },
  {
   "cell_type": "code",
   "execution_count": 184,
   "metadata": {},
   "outputs": [
    {
     "data": {
      "text/plain": [
       "0.9349006503968017"
      ]
     },
     "execution_count": 184,
     "metadata": {},
     "output_type": "execute_result"
    }
   ],
   "source": [
    "unigram_tagger.evaluate(brown_tagged_sents)"
   ]
  },
  {
   "cell_type": "code",
   "execution_count": 185,
   "metadata": {},
   "outputs": [
    {
     "data": {
      "text/plain": [
       "0.8121200039868434"
      ]
     },
     "execution_count": 185,
     "metadata": {},
     "output_type": "execute_result"
    }
   ],
   "source": [
    "size = int(len(brown_tagged_sents) * 0.9)\n",
    "train_sents = brown_tagged_sents[:size]\n",
    "test_sents = brown_tagged_sents[size:]\n",
    "unigram_tagger = nltk.UnigramTagger(train_sents)\n",
    "unigram_tagger.evaluate(test_sents)"
   ]
  },
  {
   "cell_type": "code",
   "execution_count": 186,
   "metadata": {},
   "outputs": [
    {
     "data": {
      "text/plain": [
       "[('Various', 'JJ'),\n",
       " ('of', 'IN'),\n",
       " ('the', 'AT'),\n",
       " ('apartments', 'NNS'),\n",
       " ('are', 'BER'),\n",
       " ('of', 'IN'),\n",
       " ('the', 'AT'),\n",
       " ('terrace', 'NN'),\n",
       " ('type', 'NN'),\n",
       " (',', ','),\n",
       " ('being', 'BEG'),\n",
       " ('on', 'IN'),\n",
       " ('the', 'AT'),\n",
       " ('ground', 'NN'),\n",
       " ('floor', 'NN'),\n",
       " ('so', 'CS'),\n",
       " ('that', 'CS'),\n",
       " ('entrance', 'NN'),\n",
       " ('is', 'BEZ'),\n",
       " ('direct', 'JJ'),\n",
       " ('.', '.')]"
      ]
     },
     "execution_count": 186,
     "metadata": {},
     "output_type": "execute_result"
    }
   ],
   "source": [
    "bigram_tagger = nltk.BigramTagger(train_sents)\n",
    "bigram_tagger.tag(brown_sents[2007])"
   ]
  },
  {
   "cell_type": "code",
   "execution_count": 187,
   "metadata": {},
   "outputs": [
    {
     "data": {
      "text/plain": [
       "[('The', 'AT'),\n",
       " ('population', 'NN'),\n",
       " ('of', 'IN'),\n",
       " ('the', 'AT'),\n",
       " ('Congo', 'NP'),\n",
       " ('is', 'BEZ'),\n",
       " ('13.5', None),\n",
       " ('million', None),\n",
       " (',', None),\n",
       " ('divided', None),\n",
       " ('into', None),\n",
       " ('at', None),\n",
       " ('least', None),\n",
       " ('seven', None),\n",
       " ('major', None),\n",
       " ('``', None),\n",
       " ('culture', None),\n",
       " ('clusters', None),\n",
       " (\"''\", None),\n",
       " ('and', None),\n",
       " ('innumerable', None),\n",
       " ('tribes', None),\n",
       " ('speaking', None),\n",
       " ('400', None),\n",
       " ('separate', None),\n",
       " ('dialects', None),\n",
       " ('.', None)]"
      ]
     },
     "execution_count": 187,
     "metadata": {},
     "output_type": "execute_result"
    }
   ],
   "source": [
    "unseen_sent = brown_sents[4203]\n",
    "bigram_tagger.tag(unseen_sent)"
   ]
  },
  {
   "cell_type": "code",
   "execution_count": 188,
   "metadata": {},
   "outputs": [
    {
     "data": {
      "text/plain": [
       "0.10206319146815508"
      ]
     },
     "execution_count": 188,
     "metadata": {},
     "output_type": "execute_result"
    }
   ],
   "source": [
    "bigram_tagger.evaluate(test_sents)"
   ]
  },
  {
   "cell_type": "code",
   "execution_count": 189,
   "metadata": {},
   "outputs": [
    {
     "data": {
      "text/plain": [
       "0.8452108043456593"
      ]
     },
     "execution_count": 189,
     "metadata": {},
     "output_type": "execute_result"
    }
   ],
   "source": [
    "t0 = nltk.DefaultTagger('NN')\n",
    "t1 = nltk.UnigramTagger(train_sents, backoff=t0)\n",
    "t2 = nltk.BigramTagger(train_sents, backoff=t1)\n",
    "t2.evaluate(test_sents)"
   ]
  },
  {
   "cell_type": "code",
   "execution_count": 190,
   "metadata": {},
   "outputs": [
    {
     "name": "stdout",
     "output_type": "stream",
     "text": [
      "Loading tagged data from treebank... \n",
      "Read testing data (200 sents/5251 wds)\n",
      "Read training data (800 sents/19933 wds)\n",
      "Read baseline data (800 sents/19933 wds) [reused the training set]\n",
      "Trained baseline tagger\n",
      "    Accuracy on test set: 0.8366\n",
      "Training tbl tagger...\n",
      "TBL train (fast) (seqs: 800; tokens: 19933; tpls: 24; min score: 3; min acc: None)\n",
      "Finding initial useful rules...\n",
      "    Found 12799 useful rules.\n",
      "\n",
      "           B      |\n",
      "   S   F   r   O  |        Score = Fixed - Broken\n",
      "   c   i   o   t  |  R     Fixed = num tags changed incorrect -> correct\n",
      "   o   x   k   h  |  u     Broken = num tags changed correct -> incorrect\n",
      "   r   e   e   e  |  l     Other = num tags changed incorrect -> incorrect\n",
      "   e   d   n   r  |  e\n",
      "------------------+-------------------------------------------------------\n",
      "  23  23   0   0  | POS->VBZ if Pos:PRP@[-2,-1]\n",
      "  18  19   1   0  | NN->VB if Pos:-NONE-@[-2] & Pos:TO@[-1]\n",
      "  14  14   0   0  | VBP->VB if Pos:MD@[-2,-1]\n",
      "  12  12   0   0  | VBP->VB if Pos:TO@[-1]\n",
      "  11  11   0   0  | VBD->VBN if Pos:VBD@[-1]\n",
      "  11  11   0   0  | IN->WDT if Pos:-NONE-@[1] & Pos:VBP@[2]\n",
      "  10  11   1   0  | VBN->VBD if Pos:PRP@[-1]\n",
      "   9  10   1   0  | VBD->VBN if Pos:VBZ@[-1]\n",
      "   8   8   0   0  | NN->VB if Pos:MD@[-1]\n",
      "   7   7   0   1  | VB->NN if Pos:DT@[-1]\n",
      "   7   7   0   0  | VB->VBP if Pos:PRP@[-1]\n",
      "   7   7   0   0  | IN->WDT if Pos:-NONE-@[1] & Pos:VBZ@[2]\n",
      "   7   8   1   0  | IN->RB if Word:as@[2]\n",
      "   6   6   0   0  | VBD->VBN if Pos:VBP@[-2,-1]\n",
      "   6   6   0   1  | IN->WDT if Pos:-NONE-@[1] & Pos:VBD@[2]\n",
      "   5   5   0   0  | POS->VBZ if Pos:-NONE-@[-1]\n",
      "   5   5   0   0  | VB->VBP if Pos:NNS@[-1]\n",
      "   5   5   0   0  | VBD->VBN if Word:be@[-2,-1]\n",
      "   4   4   0   0  | POS->VBZ if Pos:``@[-2]\n",
      "   4   4   0   0  | VBP->VB if Pos:VBD@[-2,-1]\n",
      "   4   6   2   3  | RP->RB if Pos:CD@[1,2]\n",
      "   4   4   0   0  | RB->JJ if Pos:DT@[-1] & Pos:NN@[1]\n",
      "   4   4   0   0  | NN->VBP if Pos:NNS@[-2] & Pos:RB@[-1]\n",
      "   4   5   1   0  | VBN->VBD if Pos:NNP@[-2] & Pos:NNP@[-1]\n",
      "   4   4   0   0  | IN->WDT if Pos:-NONE-@[1] & Pos:MD@[2]\n",
      "   4   8   4   0  | VBD->VBN if Word:*@[1]\n",
      "   4   4   0   0  | JJS->RBS if Word:most@[0] & Word:the@[-1] & Pos:DT@[-1]\n",
      "   3   3   0   0  | VBD->VBN if Pos:VBN@[-1]\n",
      "   3   4   1   0  | VBN->VB if Pos:TO@[-1]\n",
      "   3   4   1   1  | IN->RB if Pos:.@[1]\n",
      "   3   3   0   0  | JJ->RB if Pos:VBD@[1]\n",
      "   3   3   0   0  | PRP$->PRP if Pos:TO@[1]\n",
      "   3   3   0   0  | NN->VBP if Pos:NNS@[-1] & Pos:DT@[1]\n",
      "   3   3   0   0  | VBP->VB if Word:n't@[-2,-1]\n",
      "Trained tbl tagger in 2.87 seconds\n",
      "    Accuracy on test set: 0.8572\n",
      "Tagging the test data\n"
     ]
    }
   ],
   "source": [
    "from nltk.tbl import demo as brill_demo\n",
    "brill_demo.demo()"
   ]
  },
  {
   "cell_type": "code",
   "execution_count": 191,
   "metadata": {},
   "outputs": [
    {
     "data": {
      "text/plain": [
       "{'last_letter': 'k'}"
      ]
     },
     "execution_count": 191,
     "metadata": {},
     "output_type": "execute_result"
    }
   ],
   "source": [
    "def gender_features(word):\n",
    "     return {'last_letter': word[-1]}\n",
    "gender_features('Shrek')"
   ]
  },
  {
   "cell_type": "code",
   "execution_count": 192,
   "metadata": {},
   "outputs": [],
   "source": [
    "from nltk.corpus import names\n",
    "labeled_names = ([(name, 'male') for name in names.words('male.txt')] \n",
    "                 + [(name, 'female') for name in names.words('female.txt')])"
   ]
  },
  {
   "cell_type": "code",
   "execution_count": 193,
   "metadata": {},
   "outputs": [],
   "source": [
    "import random\n",
    "random.shuffle(labeled_names)"
   ]
  },
  {
   "cell_type": "code",
   "execution_count": 194,
   "metadata": {},
   "outputs": [],
   "source": [
    "featuresets = [(gender_features(n), gender) for (n, gender) in labeled_names]\n",
    "train_set, test_set = featuresets[500:], featuresets[:500]\n",
    "classifier = nltk.NaiveBayesClassifier.train(train_set)"
   ]
  },
  {
   "cell_type": "code",
   "execution_count": 195,
   "metadata": {},
   "outputs": [
    {
     "data": {
      "text/plain": [
       "'male'"
      ]
     },
     "execution_count": 195,
     "metadata": {},
     "output_type": "execute_result"
    }
   ],
   "source": [
    "classifier.classify(gender_features('Neo'))"
   ]
  },
  {
   "cell_type": "code",
   "execution_count": 196,
   "metadata": {},
   "outputs": [
    {
     "data": {
      "text/plain": [
       "'female'"
      ]
     },
     "execution_count": 196,
     "metadata": {},
     "output_type": "execute_result"
    }
   ],
   "source": [
    "classifier.classify(gender_features('Trinity'))"
   ]
  },
  {
   "cell_type": "code",
   "execution_count": 197,
   "metadata": {},
   "outputs": [
    {
     "data": {
      "text/plain": [
       "0.744"
      ]
     },
     "execution_count": 197,
     "metadata": {},
     "output_type": "execute_result"
    }
   ],
   "source": [
    "nltk.classify.accuracy(classifier, test_set)"
   ]
  },
  {
   "cell_type": "code",
   "execution_count": 198,
   "metadata": {},
   "outputs": [
    {
     "name": "stdout",
     "output_type": "stream",
     "text": [
      "Most Informative Features\n",
      "             last_letter = 'a'            female : male   =     38.6 : 1.0\n",
      "             last_letter = 'k'              male : female =     32.6 : 1.0\n",
      "             last_letter = 'f'              male : female =     15.9 : 1.0\n",
      "             last_letter = 'p'              male : female =     12.5 : 1.0\n",
      "             last_letter = 'v'              male : female =     11.2 : 1.0\n"
     ]
    }
   ],
   "source": [
    "classifier.show_most_informative_features(5)"
   ]
  },
  {
   "cell_type": "code",
   "execution_count": 199,
   "metadata": {},
   "outputs": [],
   "source": [
    "def gender_features(word):\n",
    "     return {'last_letter': word[-1].lower(), 'word_length': len(word), 'first_letter': word[0].lower(), \n",
    "             'last_two_letters': word[len(word) - 2: len(word)].lower(), \n",
    "             'last_tree_letters': word[len(word) - 3: len(word)].lower()}"
   ]
  },
  {
   "cell_type": "code",
   "execution_count": 200,
   "metadata": {},
   "outputs": [
    {
     "data": {
      "text/plain": [
       "0.804"
      ]
     },
     "execution_count": 200,
     "metadata": {},
     "output_type": "execute_result"
    }
   ],
   "source": [
    "featuresets = [(gender_features(n), gender) for (n, gender) in labeled_names]\n",
    "train_set, test_set = featuresets[500:], featuresets[:500]\n",
    "classifier = nltk.NaiveBayesClassifier.train(train_set)\n",
    "nltk.classify.accuracy(classifier, test_set)"
   ]
  },
  {
   "cell_type": "code",
   "execution_count": 201,
   "metadata": {},
   "outputs": [],
   "source": [
    "from nltk.classify import apply_features\n",
    "train_set = apply_features(gender_features, labeled_names[500:])\n",
    "test_set = apply_features(gender_features, labeled_names[:500])"
   ]
  },
  {
   "cell_type": "code",
   "execution_count": 202,
   "metadata": {},
   "outputs": [
    {
     "data": {
      "text/plain": [
       "0.804"
      ]
     },
     "execution_count": 202,
     "metadata": {},
     "output_type": "execute_result"
    }
   ],
   "source": [
    "classifier = nltk.NaiveBayesClassifier.train(train_set)\n",
    "nltk.classify.accuracy(classifier, test_set)"
   ]
  },
  {
   "cell_type": "code",
   "execution_count": 203,
   "metadata": {},
   "outputs": [],
   "source": [
    "def gender_features2(name):\n",
    "    features = {}\n",
    "    features[\"first_letter\"] = name[0].lower()\n",
    "    features[\"last_letter\"] = name[-1].lower()\n",
    "    for letter in 'abcdefghijklmnopqrstuvwxyz':\n",
    "        features[\"count({})\".format(letter)] = name.lower().count(letter)\n",
    "        features[\"has({})\".format(letter)] = (letter in name.lower())\n",
    "    return features"
   ]
  },
  {
   "cell_type": "code",
   "execution_count": 204,
   "metadata": {},
   "outputs": [
    {
     "data": {
      "text/plain": [
       "0.782"
      ]
     },
     "execution_count": 204,
     "metadata": {},
     "output_type": "execute_result"
    }
   ],
   "source": [
    "featuresets = [(gender_features2(n), gender) for (n, gender) in labeled_names]\n",
    "train_set, test_set = featuresets[500:], featuresets[:500]\n",
    "classifier = nltk.NaiveBayesClassifier.train(train_set)\n",
    "nltk.classify.accuracy(classifier, test_set)"
   ]
  },
  {
   "cell_type": "code",
   "execution_count": 205,
   "metadata": {},
   "outputs": [],
   "source": [
    "train_names = labeled_names[1500:]\n",
    "devtest_names = labeled_names[500:1500]\n",
    "test_names = labeled_names[:500]"
   ]
  },
  {
   "cell_type": "code",
   "execution_count": 206,
   "metadata": {},
   "outputs": [
    {
     "data": {
      "text/plain": [
       "0.819"
      ]
     },
     "execution_count": 206,
     "metadata": {},
     "output_type": "execute_result"
    }
   ],
   "source": [
    "train_set = [(gender_features(n), gender) for (n, gender) in train_names]\n",
    "devtest_set = [(gender_features(n), gender) for (n, gender) in devtest_names]\n",
    "test_set = [(gender_features(n), gender) for (n, gender) in test_names]\n",
    "classifier = nltk.NaiveBayesClassifier.train(train_set)\n",
    "nltk.classify.accuracy(classifier, devtest_set)"
   ]
  },
  {
   "cell_type": "code",
   "execution_count": 207,
   "metadata": {},
   "outputs": [],
   "source": [
    "def gender_features(word):\n",
    "    return {'suffix1': word[-1:],\n",
    "            'suffix2': word[-2:]}"
   ]
  },
  {
   "cell_type": "code",
   "execution_count": 208,
   "metadata": {},
   "outputs": [
    {
     "data": {
      "text/plain": [
       "0.809"
      ]
     },
     "execution_count": 208,
     "metadata": {},
     "output_type": "execute_result"
    }
   ],
   "source": [
    "train_set = [(gender_features(n), gender) for (n, gender) in train_names]\n",
    "devtest_set = [(gender_features(n), gender) for (n, gender) in devtest_names]\n",
    "classifier = nltk.NaiveBayesClassifier.train(train_set)\n",
    "nltk.classify.accuracy(classifier, devtest_set)"
   ]
  },
  {
   "cell_type": "code",
   "execution_count": 209,
   "metadata": {},
   "outputs": [],
   "source": [
    "from nltk.corpus import movie_reviews\n",
    "documents = [(list(movie_reviews.words(fileid)), category)\n",
    "             for category in movie_reviews.categories()\n",
    "             for fileid in movie_reviews.fileids(category)]\n",
    "random.shuffle(documents)"
   ]
  },
  {
   "cell_type": "code",
   "execution_count": 212,
   "metadata": {},
   "outputs": [
    {
     "data": {
      "text/plain": [
       "['neg', 'pos']"
      ]
     },
     "execution_count": 212,
     "metadata": {},
     "output_type": "execute_result"
    }
   ],
   "source": [
    "movie_reviews.categories()"
   ]
  },
  {
   "cell_type": "code",
   "execution_count": 214,
   "metadata": {},
   "outputs": [],
   "source": [
    "all_words = nltk.FreqDist(w.lower() for w in movie_reviews.words())\n",
    "word_features = list(all_words)[:2000]\n",
    "\n",
    "def document_features(document): \n",
    "    document_words = set(document) \n",
    "    features = {}\n",
    "    for word in word_features:\n",
    "        features['contains({})'.format(word)] = (word in document_words)\n",
    "    return features"
   ]
  },
  {
   "cell_type": "code",
   "execution_count": 222,
   "metadata": {},
   "outputs": [
    {
     "data": {
      "text/plain": [
       "{'contains(plot)': True,\n",
       " 'contains(:)': True,\n",
       " 'contains(two)': True,\n",
       " 'contains(teen)': False,\n",
       " 'contains(couples)': False,\n",
       " 'contains(go)': False,\n",
       " 'contains(to)': True,\n",
       " 'contains(a)': True,\n",
       " 'contains(church)': False,\n",
       " 'contains(party)': False,\n",
       " 'contains(,)': True,\n",
       " 'contains(drink)': False,\n",
       " 'contains(and)': True,\n",
       " 'contains(then)': True,\n",
       " 'contains(drive)': False,\n",
       " 'contains(.)': True,\n",
       " 'contains(they)': True,\n",
       " 'contains(get)': True,\n",
       " 'contains(into)': True,\n",
       " 'contains(an)': True,\n",
       " 'contains(accident)': False,\n",
       " 'contains(one)': True,\n",
       " 'contains(of)': True,\n",
       " 'contains(the)': True,\n",
       " 'contains(guys)': False,\n",
       " 'contains(dies)': False,\n",
       " 'contains(but)': True,\n",
       " 'contains(his)': True,\n",
       " 'contains(girlfriend)': True,\n",
       " 'contains(continues)': False,\n",
       " 'contains(see)': False,\n",
       " 'contains(him)': True,\n",
       " 'contains(in)': True,\n",
       " 'contains(her)': False,\n",
       " 'contains(life)': False,\n",
       " 'contains(has)': True,\n",
       " 'contains(nightmares)': False,\n",
       " 'contains(what)': True,\n",
       " \"contains(')\": True,\n",
       " 'contains(s)': True,\n",
       " 'contains(deal)': False,\n",
       " 'contains(?)': False,\n",
       " 'contains(watch)': True,\n",
       " 'contains(movie)': True,\n",
       " 'contains(\")': True,\n",
       " 'contains(sorta)': False,\n",
       " 'contains(find)': False,\n",
       " 'contains(out)': True,\n",
       " 'contains(critique)': False,\n",
       " 'contains(mind)': False,\n",
       " 'contains(-)': True,\n",
       " 'contains(fuck)': False,\n",
       " 'contains(for)': True,\n",
       " 'contains(generation)': False,\n",
       " 'contains(that)': True,\n",
       " 'contains(touches)': False,\n",
       " 'contains(on)': True,\n",
       " 'contains(very)': True,\n",
       " 'contains(cool)': False,\n",
       " 'contains(idea)': True,\n",
       " 'contains(presents)': False,\n",
       " 'contains(it)': True,\n",
       " 'contains(bad)': False,\n",
       " 'contains(package)': False,\n",
       " 'contains(which)': True,\n",
       " 'contains(is)': True,\n",
       " 'contains(makes)': False,\n",
       " 'contains(this)': True,\n",
       " 'contains(review)': False,\n",
       " 'contains(even)': False,\n",
       " 'contains(harder)': False,\n",
       " 'contains(write)': False,\n",
       " 'contains(since)': False,\n",
       " 'contains(i)': False,\n",
       " 'contains(generally)': False,\n",
       " 'contains(applaud)': False,\n",
       " 'contains(films)': False,\n",
       " 'contains(attempt)': False,\n",
       " 'contains(break)': False,\n",
       " 'contains(mold)': False,\n",
       " 'contains(mess)': False,\n",
       " 'contains(with)': True,\n",
       " 'contains(your)': False,\n",
       " 'contains(head)': False,\n",
       " 'contains(such)': False,\n",
       " 'contains(()': True,\n",
       " 'contains(lost)': False,\n",
       " 'contains(highway)': False,\n",
       " 'contains(&)': False,\n",
       " 'contains(memento)': False,\n",
       " 'contains())': True,\n",
       " 'contains(there)': True,\n",
       " 'contains(are)': True,\n",
       " 'contains(good)': False,\n",
       " 'contains(ways)': False,\n",
       " 'contains(making)': True,\n",
       " 'contains(all)': True,\n",
       " 'contains(types)': False,\n",
       " 'contains(these)': False,\n",
       " 'contains(folks)': False,\n",
       " 'contains(just)': True,\n",
       " 'contains(didn)': False,\n",
       " 'contains(t)': False,\n",
       " 'contains(snag)': False,\n",
       " 'contains(correctly)': False,\n",
       " 'contains(seem)': False,\n",
       " 'contains(have)': True,\n",
       " 'contains(taken)': False,\n",
       " 'contains(pretty)': False,\n",
       " 'contains(neat)': False,\n",
       " 'contains(concept)': False,\n",
       " 'contains(executed)': False,\n",
       " 'contains(terribly)': False,\n",
       " 'contains(so)': False,\n",
       " 'contains(problems)': True,\n",
       " 'contains(well)': True,\n",
       " 'contains(its)': False,\n",
       " 'contains(main)': False,\n",
       " 'contains(problem)': False,\n",
       " 'contains(simply)': False,\n",
       " 'contains(too)': False,\n",
       " 'contains(jumbled)': False,\n",
       " 'contains(starts)': False,\n",
       " 'contains(off)': False,\n",
       " 'contains(normal)': False,\n",
       " 'contains(downshifts)': False,\n",
       " 'contains(fantasy)': False,\n",
       " 'contains(world)': True,\n",
       " 'contains(you)': True,\n",
       " 'contains(as)': True,\n",
       " 'contains(audience)': False,\n",
       " 'contains(member)': False,\n",
       " 'contains(no)': False,\n",
       " 'contains(going)': False,\n",
       " 'contains(dreams)': False,\n",
       " 'contains(characters)': False,\n",
       " 'contains(coming)': False,\n",
       " 'contains(back)': False,\n",
       " 'contains(from)': True,\n",
       " 'contains(dead)': False,\n",
       " 'contains(others)': True,\n",
       " 'contains(who)': True,\n",
       " 'contains(look)': True,\n",
       " 'contains(like)': True,\n",
       " 'contains(strange)': False,\n",
       " 'contains(apparitions)': False,\n",
       " 'contains(disappearances)': False,\n",
       " 'contains(looooot)': False,\n",
       " 'contains(chase)': True,\n",
       " 'contains(scenes)': False,\n",
       " 'contains(tons)': False,\n",
       " 'contains(weird)': False,\n",
       " 'contains(things)': True,\n",
       " 'contains(happen)': False,\n",
       " 'contains(most)': True,\n",
       " 'contains(not)': True,\n",
       " 'contains(explained)': False,\n",
       " 'contains(now)': False,\n",
       " 'contains(personally)': False,\n",
       " 'contains(don)': False,\n",
       " 'contains(trying)': False,\n",
       " 'contains(unravel)': False,\n",
       " 'contains(film)': False,\n",
       " 'contains(every)': False,\n",
       " 'contains(when)': True,\n",
       " 'contains(does)': False,\n",
       " 'contains(give)': False,\n",
       " 'contains(me)': True,\n",
       " 'contains(same)': True,\n",
       " 'contains(clue)': False,\n",
       " 'contains(over)': False,\n",
       " 'contains(again)': False,\n",
       " 'contains(kind)': True,\n",
       " 'contains(fed)': False,\n",
       " 'contains(up)': False,\n",
       " 'contains(after)': False,\n",
       " 'contains(while)': True,\n",
       " 'contains(biggest)': False,\n",
       " 'contains(obviously)': False,\n",
       " 'contains(got)': True,\n",
       " 'contains(big)': False,\n",
       " 'contains(secret)': False,\n",
       " 'contains(hide)': False,\n",
       " 'contains(seems)': False,\n",
       " 'contains(want)': False,\n",
       " 'contains(completely)': False,\n",
       " 'contains(until)': False,\n",
       " 'contains(final)': False,\n",
       " 'contains(five)': False,\n",
       " 'contains(minutes)': False,\n",
       " 'contains(do)': True,\n",
       " 'contains(make)': True,\n",
       " 'contains(entertaining)': False,\n",
       " 'contains(thrilling)': False,\n",
       " 'contains(or)': False,\n",
       " 'contains(engaging)': False,\n",
       " 'contains(meantime)': False,\n",
       " 'contains(really)': False,\n",
       " 'contains(sad)': False,\n",
       " 'contains(part)': False,\n",
       " 'contains(arrow)': False,\n",
       " 'contains(both)': False,\n",
       " 'contains(dig)': False,\n",
       " 'contains(flicks)': False,\n",
       " 'contains(we)': False,\n",
       " 'contains(actually)': True,\n",
       " 'contains(figured)': False,\n",
       " 'contains(by)': True,\n",
       " 'contains(half)': False,\n",
       " 'contains(way)': True,\n",
       " 'contains(point)': False,\n",
       " 'contains(strangeness)': False,\n",
       " 'contains(did)': False,\n",
       " 'contains(start)': True,\n",
       " 'contains(little)': True,\n",
       " 'contains(bit)': False,\n",
       " 'contains(sense)': False,\n",
       " 'contains(still)': False,\n",
       " 'contains(more)': False,\n",
       " 'contains(guess)': False,\n",
       " 'contains(bottom)': False,\n",
       " 'contains(line)': False,\n",
       " 'contains(movies)': True,\n",
       " 'contains(should)': False,\n",
       " 'contains(always)': False,\n",
       " 'contains(sure)': False,\n",
       " 'contains(before)': False,\n",
       " 'contains(given)': False,\n",
       " 'contains(password)': False,\n",
       " 'contains(enter)': False,\n",
       " 'contains(understanding)': False,\n",
       " 'contains(mean)': False,\n",
       " 'contains(showing)': False,\n",
       " 'contains(melissa)': False,\n",
       " 'contains(sagemiller)': False,\n",
       " 'contains(running)': False,\n",
       " 'contains(away)': False,\n",
       " 'contains(visions)': False,\n",
       " 'contains(about)': True,\n",
       " 'contains(20)': False,\n",
       " 'contains(throughout)': False,\n",
       " 'contains(plain)': False,\n",
       " 'contains(lazy)': False,\n",
       " 'contains(!)': True,\n",
       " 'contains(okay)': False,\n",
       " 'contains(people)': False,\n",
       " 'contains(chasing)': False,\n",
       " 'contains(know)': False,\n",
       " 'contains(need)': False,\n",
       " 'contains(how)': True,\n",
       " 'contains(giving)': False,\n",
       " 'contains(us)': True,\n",
       " 'contains(different)': False,\n",
       " 'contains(offering)': False,\n",
       " 'contains(further)': False,\n",
       " 'contains(insight)': False,\n",
       " 'contains(down)': False,\n",
       " 'contains(apparently)': False,\n",
       " 'contains(studio)': False,\n",
       " 'contains(took)': False,\n",
       " 'contains(director)': False,\n",
       " 'contains(chopped)': False,\n",
       " 'contains(themselves)': False,\n",
       " 'contains(shows)': False,\n",
       " 'contains(might)': False,\n",
       " 'contains(ve)': False,\n",
       " 'contains(been)': False,\n",
       " 'contains(decent)': False,\n",
       " 'contains(here)': True,\n",
       " 'contains(somewhere)': False,\n",
       " 'contains(suits)': False,\n",
       " 'contains(decided)': False,\n",
       " 'contains(turning)': False,\n",
       " 'contains(music)': False,\n",
       " 'contains(video)': False,\n",
       " 'contains(edge)': False,\n",
       " 'contains(would)': False,\n",
       " 'contains(actors)': False,\n",
       " 'contains(although)': False,\n",
       " 'contains(wes)': False,\n",
       " 'contains(bentley)': False,\n",
       " 'contains(seemed)': False,\n",
       " 'contains(be)': True,\n",
       " 'contains(playing)': True,\n",
       " 'contains(exact)': False,\n",
       " 'contains(character)': False,\n",
       " 'contains(he)': True,\n",
       " 'contains(american)': False,\n",
       " 'contains(beauty)': False,\n",
       " 'contains(only)': True,\n",
       " 'contains(new)': False,\n",
       " 'contains(neighborhood)': False,\n",
       " 'contains(my)': False,\n",
       " 'contains(kudos)': False,\n",
       " 'contains(holds)': False,\n",
       " 'contains(own)': True,\n",
       " 'contains(entire)': False,\n",
       " 'contains(feeling)': False,\n",
       " 'contains(unraveling)': False,\n",
       " 'contains(overall)': False,\n",
       " 'contains(doesn)': False,\n",
       " 'contains(stick)': False,\n",
       " 'contains(because)': False,\n",
       " 'contains(entertain)': False,\n",
       " 'contains(confusing)': False,\n",
       " 'contains(rarely)': False,\n",
       " 'contains(excites)': False,\n",
       " 'contains(feels)': False,\n",
       " 'contains(redundant)': False,\n",
       " 'contains(runtime)': False,\n",
       " 'contains(despite)': False,\n",
       " 'contains(ending)': False,\n",
       " 'contains(explanation)': False,\n",
       " 'contains(craziness)': False,\n",
       " 'contains(came)': False,\n",
       " 'contains(oh)': False,\n",
       " 'contains(horror)': False,\n",
       " 'contains(slasher)': False,\n",
       " 'contains(flick)': False,\n",
       " 'contains(packaged)': False,\n",
       " 'contains(someone)': False,\n",
       " 'contains(assuming)': False,\n",
       " 'contains(genre)': False,\n",
       " 'contains(hot)': False,\n",
       " 'contains(kids)': False,\n",
       " 'contains(also)': True,\n",
       " 'contains(wrapped)': False,\n",
       " 'contains(production)': False,\n",
       " 'contains(years)': False,\n",
       " 'contains(ago)': False,\n",
       " 'contains(sitting)': False,\n",
       " 'contains(shelves)': False,\n",
       " 'contains(ever)': True,\n",
       " 'contains(whatever)': False,\n",
       " 'contains(skip)': False,\n",
       " 'contains(where)': True,\n",
       " 'contains(joblo)': False,\n",
       " 'contains(nightmare)': False,\n",
       " 'contains(elm)': False,\n",
       " 'contains(street)': False,\n",
       " 'contains(3)': False,\n",
       " 'contains(7)': False,\n",
       " 'contains(/)': False,\n",
       " 'contains(10)': False,\n",
       " 'contains(blair)': False,\n",
       " 'contains(witch)': False,\n",
       " 'contains(2)': False,\n",
       " 'contains(crow)': False,\n",
       " 'contains(9)': False,\n",
       " 'contains(salvation)': False,\n",
       " 'contains(4)': False,\n",
       " 'contains(stir)': False,\n",
       " 'contains(echoes)': False,\n",
       " 'contains(8)': False,\n",
       " 'contains(happy)': False,\n",
       " 'contains(bastard)': False,\n",
       " 'contains(quick)': True,\n",
       " 'contains(damn)': False,\n",
       " 'contains(y2k)': False,\n",
       " 'contains(bug)': False,\n",
       " 'contains(starring)': False,\n",
       " 'contains(jamie)': False,\n",
       " 'contains(lee)': False,\n",
       " 'contains(curtis)': False,\n",
       " 'contains(another)': False,\n",
       " 'contains(baldwin)': False,\n",
       " 'contains(brother)': False,\n",
       " 'contains(william)': False,\n",
       " 'contains(time)': False,\n",
       " 'contains(story)': False,\n",
       " 'contains(regarding)': False,\n",
       " 'contains(crew)': False,\n",
       " 'contains(tugboat)': False,\n",
       " 'contains(comes)': False,\n",
       " 'contains(across)': False,\n",
       " 'contains(deserted)': False,\n",
       " 'contains(russian)': False,\n",
       " 'contains(tech)': False,\n",
       " 'contains(ship)': False,\n",
       " 'contains(kick)': False,\n",
       " 'contains(power)': False,\n",
       " 'contains(within)': False,\n",
       " 'contains(gore)': False,\n",
       " 'contains(bringing)': False,\n",
       " 'contains(few)': False,\n",
       " 'contains(action)': True,\n",
       " 'contains(sequences)': False,\n",
       " 'contains(virus)': False,\n",
       " 'contains(empty)': False,\n",
       " 'contains(flash)': False,\n",
       " 'contains(substance)': False,\n",
       " 'contains(why)': False,\n",
       " 'contains(was)': False,\n",
       " 'contains(middle)': False,\n",
       " 'contains(nowhere)': False,\n",
       " 'contains(origin)': False,\n",
       " 'contains(pink)': False,\n",
       " 'contains(flashy)': False,\n",
       " 'contains(thing)': False,\n",
       " 'contains(hit)': False,\n",
       " 'contains(mir)': False,\n",
       " 'contains(course)': True,\n",
       " 'contains(donald)': False,\n",
       " 'contains(sutherland)': False,\n",
       " 'contains(stumbling)': False,\n",
       " 'contains(around)': False,\n",
       " 'contains(drunkenly)': False,\n",
       " 'contains(hey)': False,\n",
       " 'contains(let)': False,\n",
       " 'contains(some)': False,\n",
       " 'contains(robots)': False,\n",
       " 'contains(acting)': False,\n",
       " 'contains(below)': False,\n",
       " 'contains(average)': False,\n",
       " 'contains(likes)': False,\n",
       " 'contains(re)': True,\n",
       " 'contains(likely)': False,\n",
       " 'contains(work)': False,\n",
       " 'contains(halloween)': False,\n",
       " 'contains(h20)': False,\n",
       " 'contains(wasted)': False,\n",
       " 'contains(real)': False,\n",
       " 'contains(star)': False,\n",
       " 'contains(stan)': False,\n",
       " 'contains(winston)': False,\n",
       " 'contains(robot)': False,\n",
       " 'contains(design)': False,\n",
       " 'contains(schnazzy)': False,\n",
       " 'contains(cgi)': False,\n",
       " 'contains(occasional)': False,\n",
       " 'contains(shot)': False,\n",
       " 'contains(picking)': False,\n",
       " 'contains(brain)': False,\n",
       " 'contains(if)': True,\n",
       " 'contains(body)': False,\n",
       " 'contains(parts)': False,\n",
       " 'contains(turn)': False,\n",
       " 'contains(otherwise)': False,\n",
       " 'contains(much)': False,\n",
       " 'contains(sunken)': False,\n",
       " 'contains(jaded)': False,\n",
       " 'contains(viewer)': False,\n",
       " 'contains(thankful)': False,\n",
       " 'contains(invention)': False,\n",
       " 'contains(timex)': False,\n",
       " 'contains(indiglo)': False,\n",
       " 'contains(based)': False,\n",
       " 'contains(late)': False,\n",
       " 'contains(1960)': False,\n",
       " 'contains(television)': False,\n",
       " 'contains(show)': False,\n",
       " 'contains(name)': False,\n",
       " 'contains(mod)': False,\n",
       " 'contains(squad)': False,\n",
       " 'contains(tells)': False,\n",
       " 'contains(tale)': False,\n",
       " 'contains(three)': False,\n",
       " 'contains(reformed)': False,\n",
       " 'contains(criminals)': False,\n",
       " 'contains(under)': False,\n",
       " 'contains(employ)': False,\n",
       " 'contains(police)': False,\n",
       " 'contains(undercover)': True,\n",
       " 'contains(however)': True,\n",
       " 'contains(wrong)': True,\n",
       " 'contains(evidence)': False,\n",
       " 'contains(gets)': True,\n",
       " 'contains(stolen)': False,\n",
       " 'contains(immediately)': False,\n",
       " 'contains(suspicion)': False,\n",
       " 'contains(ads)': False,\n",
       " 'contains(cuts)': False,\n",
       " 'contains(claire)': False,\n",
       " 'contains(dane)': False,\n",
       " 'contains(nice)': False,\n",
       " 'contains(hair)': False,\n",
       " 'contains(cute)': False,\n",
       " 'contains(outfits)': False,\n",
       " 'contains(car)': False,\n",
       " 'contains(chases)': False,\n",
       " 'contains(stuff)': False,\n",
       " 'contains(blowing)': False,\n",
       " 'contains(sounds)': False,\n",
       " 'contains(first)': False,\n",
       " 'contains(fifteen)': False,\n",
       " 'contains(quickly)': False,\n",
       " 'contains(becomes)': False,\n",
       " 'contains(apparent)': False,\n",
       " 'contains(certainly)': False,\n",
       " 'contains(slick)': False,\n",
       " 'contains(looking)': False,\n",
       " 'contains(complete)': False,\n",
       " 'contains(costumes)': False,\n",
       " 'contains(isn)': False,\n",
       " 'contains(enough)': False,\n",
       " 'contains(best)': True,\n",
       " 'contains(described)': False,\n",
       " 'contains(cross)': False,\n",
       " 'contains(between)': True,\n",
       " 'contains(hour)': False,\n",
       " 'contains(long)': False,\n",
       " 'contains(cop)': False,\n",
       " 'contains(stretched)': False,\n",
       " 'contains(span)': False,\n",
       " 'contains(single)': False,\n",
       " 'contains(clich)': False,\n",
       " 'contains(matter)': False,\n",
       " 'contains(elements)': False,\n",
       " 'contains(recycled)': False,\n",
       " 'contains(everything)': True,\n",
       " 'contains(already)': False,\n",
       " 'contains(seen)': False,\n",
       " 'contains(nothing)': False,\n",
       " 'contains(spectacular)': False,\n",
       " 'contains(sometimes)': False,\n",
       " 'contains(bordering)': False,\n",
       " 'contains(wooden)': False,\n",
       " 'contains(danes)': False,\n",
       " 'contains(omar)': False,\n",
       " 'contains(epps)': False,\n",
       " 'contains(deliver)': False,\n",
       " 'contains(their)': False,\n",
       " 'contains(lines)': False,\n",
       " 'contains(bored)': False,\n",
       " 'contains(transfers)': False,\n",
       " 'contains(onto)': False,\n",
       " 'contains(escape)': False,\n",
       " 'contains(relatively)': False,\n",
       " 'contains(unscathed)': False,\n",
       " 'contains(giovanni)': False,\n",
       " 'contains(ribisi)': False,\n",
       " 'contains(plays)': False,\n",
       " 'contains(resident)': False,\n",
       " 'contains(crazy)': False,\n",
       " 'contains(man)': False,\n",
       " 'contains(ultimately)': False,\n",
       " 'contains(being)': False,\n",
       " 'contains(worth)': True,\n",
       " 'contains(watching)': False,\n",
       " 'contains(unfortunately)': False,\n",
       " 'contains(save)': False,\n",
       " 'contains(convoluted)': False,\n",
       " 'contains(apart)': False,\n",
       " 'contains(occupying)': False,\n",
       " 'contains(screen)': True,\n",
       " 'contains(young)': False,\n",
       " 'contains(cast)': False,\n",
       " 'contains(clothes)': False,\n",
       " 'contains(hip)': False,\n",
       " 'contains(soundtrack)': False,\n",
       " 'contains(appears)': False,\n",
       " 'contains(geared)': False,\n",
       " 'contains(towards)': False,\n",
       " 'contains(teenage)': False,\n",
       " 'contains(mindset)': False,\n",
       " 'contains(r)': False,\n",
       " 'contains(rating)': False,\n",
       " 'contains(content)': False,\n",
       " 'contains(justify)': False,\n",
       " 'contains(juvenile)': False,\n",
       " 'contains(older)': False,\n",
       " 'contains(information)': False,\n",
       " 'contains(literally)': False,\n",
       " 'contains(spoon)': False,\n",
       " 'contains(hard)': False,\n",
       " 'contains(instead)': False,\n",
       " 'contains(telling)': False,\n",
       " 'contains(dialogue)': False,\n",
       " 'contains(poorly)': False,\n",
       " 'contains(written)': False,\n",
       " 'contains(extremely)': False,\n",
       " 'contains(predictable)': False,\n",
       " 'contains(progresses)': False,\n",
       " 'contains(won)': False,\n",
       " 'contains(care)': False,\n",
       " 'contains(heroes)': False,\n",
       " 'contains(any)': False,\n",
       " 'contains(jeopardy)': False,\n",
       " 'contains(ll)': False,\n",
       " 'contains(aren)': False,\n",
       " 'contains(basing)': False,\n",
       " 'contains(nobody)': False,\n",
       " 'contains(remembers)': False,\n",
       " 'contains(questionable)': False,\n",
       " 'contains(wisdom)': False,\n",
       " 'contains(especially)': True,\n",
       " 'contains(considers)': False,\n",
       " 'contains(target)': False,\n",
       " 'contains(fact)': False,\n",
       " 'contains(number)': False,\n",
       " 'contains(memorable)': False,\n",
       " 'contains(can)': False,\n",
       " 'contains(counted)': False,\n",
       " 'contains(hand)': False,\n",
       " 'contains(missing)': False,\n",
       " 'contains(finger)': False,\n",
       " 'contains(times)': False,\n",
       " 'contains(checked)': False,\n",
       " 'contains(six)': False,\n",
       " 'contains(clear)': False,\n",
       " 'contains(indication)': False,\n",
       " 'contains(them)': True,\n",
       " 'contains(than)': False,\n",
       " 'contains(cash)': False,\n",
       " 'contains(spending)': False,\n",
       " 'contains(dollar)': False,\n",
       " 'contains(judging)': False,\n",
       " 'contains(rash)': False,\n",
       " 'contains(awful)': False,\n",
       " 'contains(seeing)': True,\n",
       " 'contains(avoid)': False,\n",
       " 'contains(at)': False,\n",
       " 'contains(costs)': False,\n",
       " 'contains(quest)': False,\n",
       " 'contains(camelot)': False,\n",
       " 'contains(warner)': False,\n",
       " 'contains(bros)': False,\n",
       " 'contains(feature)': False,\n",
       " 'contains(length)': False,\n",
       " 'contains(fully)': False,\n",
       " 'contains(animated)': False,\n",
       " 'contains(steal)': False,\n",
       " 'contains(clout)': False,\n",
       " 'contains(disney)': False,\n",
       " 'contains(cartoon)': False,\n",
       " 'contains(empire)': False,\n",
       " 'contains(mouse)': False,\n",
       " 'contains(reason)': False,\n",
       " 'contains(worried)': False,\n",
       " 'contains(other)': True,\n",
       " 'contains(recent)': False,\n",
       " 'contains(challenger)': False,\n",
       " 'contains(throne)': False,\n",
       " 'contains(last)': False,\n",
       " 'contains(fall)': False,\n",
       " 'contains(promising)': False,\n",
       " 'contains(flawed)': False,\n",
       " 'contains(20th)': False,\n",
       " 'contains(century)': False,\n",
       " 'contains(fox)': False,\n",
       " 'contains(anastasia)': False,\n",
       " 'contains(hercules)': False,\n",
       " 'contains(lively)': False,\n",
       " 'contains(colorful)': False,\n",
       " 'contains(palate)': False,\n",
       " 'contains(had)': False,\n",
       " 'contains(beat)': False,\n",
       " 'contains(hands)': False,\n",
       " 'contains(crown)': False,\n",
       " 'contains(1997)': False,\n",
       " 'contains(piece)': False,\n",
       " 'contains(animation)': False,\n",
       " 'contains(year)': False,\n",
       " 'contains(contest)': False,\n",
       " 'contains(arrival)': False,\n",
       " 'contains(magic)': False,\n",
       " 'contains(kingdom)': False,\n",
       " 'contains(mediocre)': False,\n",
       " 'contains(--)': True,\n",
       " 'contains(d)': False,\n",
       " 'contains(pocahontas)': False,\n",
       " 'contains(those)': False,\n",
       " 'contains(keeping)': False,\n",
       " 'contains(score)': False,\n",
       " 'contains(nearly)': False,\n",
       " 'contains(dull)': False,\n",
       " 'contains(revolves)': False,\n",
       " 'contains(adventures)': False,\n",
       " 'contains(free)': False,\n",
       " 'contains(spirited)': False,\n",
       " 'contains(kayley)': False,\n",
       " 'contains(voiced)': False,\n",
       " 'contains(jessalyn)': False,\n",
       " 'contains(gilsig)': False,\n",
       " 'contains(early)': True,\n",
       " 'contains(daughter)': False,\n",
       " 'contains(belated)': False,\n",
       " 'contains(knight)': False,\n",
       " 'contains(king)': False,\n",
       " 'contains(arthur)': False,\n",
       " 'contains(round)': False,\n",
       " 'contains(table)': False,\n",
       " 'contains(dream)': False,\n",
       " 'contains(follow)': False,\n",
       " 'contains(father)': False,\n",
       " 'contains(footsteps)': False,\n",
       " 'contains(she)': True,\n",
       " 'contains(chance)': False,\n",
       " 'contains(evil)': False,\n",
       " 'contains(warlord)': False,\n",
       " 'contains(ruber)': False,\n",
       " 'contains(gary)': False,\n",
       " 'contains(oldman)': False,\n",
       " 'contains(ex)': False,\n",
       " 'contains(gone)': False,\n",
       " 'contains(steals)': False,\n",
       " 'contains(magical)': False,\n",
       " 'contains(sword)': False,\n",
       " 'contains(excalibur)': False,\n",
       " 'contains(accidentally)': False,\n",
       " 'contains(loses)': False,\n",
       " 'contains(dangerous)': True,\n",
       " 'contains(booby)': False,\n",
       " 'contains(trapped)': False,\n",
       " 'contains(forest)': False,\n",
       " 'contains(help)': True,\n",
       " 'contains(hunky)': False,\n",
       " 'contains(blind)': False,\n",
       " 'contains(timberland)': False,\n",
       " 'contains(dweller)': False,\n",
       " 'contains(garrett)': False,\n",
       " 'contains(carey)': False,\n",
       " 'contains(elwes)': False,\n",
       " 'contains(headed)': False,\n",
       " 'contains(dragon)': False,\n",
       " 'contains(eric)': False,\n",
       " 'contains(idle)': False,\n",
       " 'contains(rickles)': False,\n",
       " 'contains(arguing)': False,\n",
       " 'contains(itself)': False,\n",
       " 'contains(able)': False,\n",
       " 'contains(medieval)': False,\n",
       " 'contains(sexist)': False,\n",
       " 'contains(prove)': False,\n",
       " 'contains(fighter)': False,\n",
       " 'contains(side)': False,\n",
       " 'contains(pure)': False,\n",
       " 'contains(showmanship)': False,\n",
       " 'contains(essential)': False,\n",
       " 'contains(element)': False,\n",
       " 'contains(expected)': False,\n",
       " 'contains(climb)': False,\n",
       " 'contains(high)': False,\n",
       " 'contains(ranks)': False,\n",
       " 'contains(differentiates)': False,\n",
       " 'contains(something)': False,\n",
       " 'contains(saturday)': False,\n",
       " 'contains(morning)': False,\n",
       " 'contains(subpar)': False,\n",
       " 'contains(instantly)': False,\n",
       " 'contains(forgettable)': False,\n",
       " 'contains(songs)': False,\n",
       " 'contains(integrated)': False,\n",
       " 'contains(computerized)': False,\n",
       " 'contains(footage)': False,\n",
       " 'contains(compare)': False,\n",
       " 'contains(run)': False,\n",
       " 'contains(angry)': False,\n",
       " 'contains(ogre)': False,\n",
       " 'contains(herc)': False,\n",
       " 'contains(battle)': False,\n",
       " 'contains(hydra)': False,\n",
       " 'contains(rest)': False,\n",
       " 'contains(case)': False,\n",
       " 'contains(stink)': False,\n",
       " 'contains(none)': False,\n",
       " 'contains(remotely)': False,\n",
       " 'contains(interesting)': False,\n",
       " 'contains(race)': False,\n",
       " 'contains(bland)': False,\n",
       " 'contains(end)': False,\n",
       " 'contains(tie)': False,\n",
       " 'contains(win)': False,\n",
       " 'contains(comedy)': True,\n",
       " 'contains(shtick)': False,\n",
       " 'contains(awfully)': False,\n",
       " 'contains(cloying)': False,\n",
       " 'contains(least)': True,\n",
       " 'contains(signs)': False,\n",
       " 'contains(pulse)': False,\n",
       " 'contains(fans)': False,\n",
       " \"contains(-')\": False,\n",
       " 'contains(90s)': False,\n",
       " 'contains(tgif)': False,\n",
       " 'contains(will)': True,\n",
       " 'contains(thrilled)': False,\n",
       " 'contains(jaleel)': False,\n",
       " 'contains(urkel)': False,\n",
       " 'contains(white)': False,\n",
       " 'contains(bronson)': False,\n",
       " 'contains(balki)': False,\n",
       " 'contains(pinchot)': False,\n",
       " 'contains(sharing)': False,\n",
       " 'contains(nicely)': False,\n",
       " 'contains(realized)': False,\n",
       " 'contains(though)': False,\n",
       " 'contains(m)': False,\n",
       " 'contains(loss)': False,\n",
       " 'contains(recall)': False,\n",
       " 'contains(specific)': False,\n",
       " 'contains(providing)': False,\n",
       " 'contains(voice)': False,\n",
       " 'contains(talent)': False,\n",
       " 'contains(enthusiastic)': False,\n",
       " 'contains(paired)': False,\n",
       " 'contains(singers)': False,\n",
       " 'contains(sound)': False,\n",
       " 'contains(musical)': False,\n",
       " 'contains(moments)': False,\n",
       " 'contains(jane)': False,\n",
       " 'contains(seymour)': False,\n",
       " 'contains(celine)': False,\n",
       " 'contains(dion)': False,\n",
       " 'contains(must)': False,\n",
       " 'contains(strain)': False,\n",
       " 'contains(through)': False,\n",
       " 'contains(aside)': False,\n",
       " 'contains(children)': False,\n",
       " 'contains(probably)': False,\n",
       " 'contains(adults)': False,\n",
       " 'contains(grievous)': False,\n",
       " 'contains(error)': False,\n",
       " 'contains(lack)': False,\n",
       " 'contains(personality)': False,\n",
       " 'contains(learn)': False,\n",
       " 'contains(goes)': False,\n",
       " 'contains(synopsis)': False,\n",
       " 'contains(mentally)': False,\n",
       " 'contains(unstable)': False,\n",
       " 'contains(undergoing)': False,\n",
       " 'contains(psychotherapy)': False,\n",
       " 'contains(saves)': False,\n",
       " 'contains(boy)': False,\n",
       " 'contains(potentially)': False,\n",
       " 'contains(fatal)': False,\n",
       " 'contains(falls)': False,\n",
       " 'contains(love)': False,\n",
       " 'contains(mother)': False,\n",
       " 'contains(fledgling)': False,\n",
       " 'contains(restauranteur)': False,\n",
       " 'contains(unsuccessfully)': False,\n",
       " 'contains(attempting)': False,\n",
       " 'contains(gain)': False,\n",
       " 'contains(woman)': True,\n",
       " 'contains(favor)': False,\n",
       " 'contains(takes)': False,\n",
       " 'contains(pictures)': False,\n",
       " 'contains(kills)': False,\n",
       " 'contains(comments)': True,\n",
       " 'contains(stalked)': False,\n",
       " 'contains(yet)': False,\n",
       " 'contains(seemingly)': False,\n",
       " 'contains(endless)': True,\n",
       " 'contains(string)': False,\n",
       " 'contains(spurned)': False,\n",
       " 'contains(psychos)': False,\n",
       " 'contains(getting)': True,\n",
       " 'contains(revenge)': False,\n",
       " 'contains(type)': False,\n",
       " 'contains(stable)': False,\n",
       " 'contains(category)': False,\n",
       " 'contains(1990s)': False,\n",
       " 'contains(industry)': False,\n",
       " 'contains(theatrical)': False,\n",
       " 'contains(direct)': False,\n",
       " 'contains(proliferation)': False,\n",
       " 'contains(may)': False,\n",
       " 'contains(due)': False,\n",
       " 'contains(typically)': False,\n",
       " 'contains(inexpensive)': False,\n",
       " 'contains(produce)': False,\n",
       " 'contains(special)': False,\n",
       " 'contains(effects)': False,\n",
       " 'contains(stars)': False,\n",
       " 'contains(serve)': False,\n",
       " 'contains(vehicles)': False,\n",
       " 'contains(nudity)': False,\n",
       " 'contains(allowing)': False,\n",
       " 'contains(frequent)': False,\n",
       " 'contains(night)': False,\n",
       " 'contains(cable)': False,\n",
       " 'contains(wavers)': False,\n",
       " 'contains(slightly)': False,\n",
       " 'contains(norm)': False,\n",
       " 'contains(respect)': False,\n",
       " 'contains(psycho)': False,\n",
       " 'contains(never)': True,\n",
       " 'contains(affair)': False,\n",
       " 'contains(;)': False,\n",
       " 'contains(contrary)': False,\n",
       " 'contains(rejected)': False,\n",
       " 'contains(rather)': False,\n",
       " 'contains(lover)': False,\n",
       " 'contains(wife)': True,\n",
       " 'contains(husband)': False,\n",
       " 'contains(entry)': False,\n",
       " 'contains(doomed)': False,\n",
       " 'contains(collect)': False,\n",
       " 'contains(dust)': False,\n",
       " 'contains(viewed)': False,\n",
       " 'contains(midnight)': False,\n",
       " 'contains(provide)': False,\n",
       " 'contains(suspense)': False,\n",
       " 'contains(sets)': False,\n",
       " 'contains(interspersed)': False,\n",
       " 'contains(opening)': False,\n",
       " 'contains(credits)': False,\n",
       " 'contains(instance)': False,\n",
       " 'contains(serious)': False,\n",
       " 'contains(sounding)': False,\n",
       " 'contains(narrator)': False,\n",
       " 'contains(spouts)': False,\n",
       " 'contains(statistics)': False,\n",
       " 'contains(stalkers)': False,\n",
       " 'contains(ponders)': False,\n",
       " 'contains(cause)': False,\n",
       " 'contains(stalk)': False,\n",
       " 'contains(implicitly)': False,\n",
       " 'contains(implied)': False,\n",
       " 'contains(men)': False,\n",
       " 'contains(shown)': False,\n",
       " 'contains(snapshot)': False,\n",
       " 'contains(actor)': False,\n",
       " 'contains(jay)': False,\n",
       " 'contains(underwood)': False,\n",
       " 'contains(states)': False,\n",
       " 'contains(daryl)': False,\n",
       " 'contains(gleason)': False,\n",
       " 'contains(stalker)': False,\n",
       " 'contains(brooke)': False,\n",
       " 'contains(daniels)': False,\n",
       " 'contains(meant)': False,\n",
       " 'contains(called)': False,\n",
       " 'contains(guesswork)': False,\n",
       " 'contains(required)': False,\n",
       " 'contains(proceeds)': False,\n",
       " 'contains(begins)': False,\n",
       " 'contains(obvious)': False,\n",
       " 'contains(sequence)': False,\n",
       " 'contains(contrived)': False,\n",
       " 'contains(quite)': False,\n",
       " 'contains(brings)': False,\n",
       " 'contains(victim)': False,\n",
       " 'contains(together)': False,\n",
       " 'contains(obsesses)': False,\n",
       " 'contains(follows)': False,\n",
       " 'contains(tries)': True,\n",
       " 'contains(woo)': False,\n",
       " 'contains(plans)': False,\n",
       " 'contains(become)': False,\n",
       " 'contains(desperate)': False,\n",
       " 'contains(elaborate)': False,\n",
       " 'contains(include)': False,\n",
       " 'contains(cliche)': False,\n",
       " 'contains(murdered)': False,\n",
       " 'contains(pet)': False,\n",
       " 'contains(require)': False,\n",
       " 'contains(found)': False,\n",
       " 'contains(exception)': False,\n",
       " 'contains(cat)': False,\n",
       " 'contains(shower)': False,\n",
       " 'contains(events)': False,\n",
       " 'contains(lead)': True,\n",
       " 'contains(inevitable)': False,\n",
       " 'contains(showdown)': False,\n",
       " 'contains(survives)': False,\n",
       " 'contains(invariably)': False,\n",
       " 'contains(conclusion)': False,\n",
       " 'contains(turkey)': False,\n",
       " 'contains(uniformly)': False,\n",
       " 'contains(adequate)': False,\n",
       " 'contains(anything)': False,\n",
       " 'contains(home)': False,\n",
       " 'contains(either)': False,\n",
       " 'contains(turns)': False,\n",
       " 'contains(toward)': False,\n",
       " 'contains(melodrama)': False,\n",
       " 'contains(overdoes)': False,\n",
       " 'contains(words)': False,\n",
       " 'contains(manages)': False,\n",
       " 'contains(creepy)': False,\n",
       " 'contains(pass)': False,\n",
       " 'contains(demands)': False,\n",
       " 'contains(maryam)': False,\n",
       " 'contains(abo)': False,\n",
       " 'contains(close)': False,\n",
       " 'contains(played)': True,\n",
       " 'contains(bond)': False,\n",
       " 'contains(chick)': False,\n",
       " 'contains(living)': False,\n",
       " 'contains(daylights)': False,\n",
       " 'contains(equally)': False,\n",
       " 'contains(title)': False,\n",
       " 'contains(ditzy)': False,\n",
       " 'contains(strong)': False,\n",
       " 'contains(independent)': False,\n",
       " 'contains(business)': False,\n",
       " 'contains(owner)': False,\n",
       " 'contains(needs)': False,\n",
       " 'contains(proceed)': False,\n",
       " 'contains(example)': False,\n",
       " 'contains(suspicions)': False,\n",
       " 'contains(ensure)': False,\n",
       " 'contains(use)': False,\n",
       " 'contains(excuse)': False,\n",
       " 'contains(decides)': False,\n",
       " 'contains(return)': False,\n",
       " 'contains(toolbox)': False,\n",
       " 'contains(left)': False,\n",
       " 'contains(place)': True,\n",
       " ...}"
      ]
     },
     "execution_count": 222,
     "metadata": {},
     "output_type": "execute_result"
    }
   ],
   "source": [
    "document_features(movie_reviews.words('pos/cv957_8737.txt'))"
   ]
  },
  {
   "cell_type": "code",
   "execution_count": 223,
   "metadata": {},
   "outputs": [
    {
     "data": {
      "text/plain": [
       "0.8"
      ]
     },
     "execution_count": 223,
     "metadata": {},
     "output_type": "execute_result"
    }
   ],
   "source": [
    "featuresets = [(document_features(d), c) for (d,c) in documents]\n",
    "train_set, test_set = featuresets[100:], featuresets[:100]\n",
    "classifier = nltk.NaiveBayesClassifier.train(train_set)\n",
    "nltk.classify.accuracy(classifier, test_set)"
   ]
  },
  {
   "cell_type": "code",
   "execution_count": 224,
   "metadata": {},
   "outputs": [
    {
     "name": "stdout",
     "output_type": "stream",
     "text": [
      "Most Informative Features\n",
      " contains(unimaginative) = True              neg : pos    =      8.4 : 1.0\n",
      "        contains(justin) = True              neg : pos    =      8.4 : 1.0\n",
      "     contains(atrocious) = True              neg : pos    =      7.0 : 1.0\n",
      "    contains(schumacher) = True              neg : pos    =      7.0 : 1.0\n",
      "        contains(shoddy) = True              neg : pos    =      6.3 : 1.0\n"
     ]
    }
   ],
   "source": [
    "classifier.show_most_informative_features(5)"
   ]
  },
  {
   "cell_type": "code",
   "execution_count": 225,
   "metadata": {},
   "outputs": [],
   "source": [
    "from nltk.corpus import brown\n",
    "\n",
    "def get_common_suffixes(words, n):    \n",
    "    suffix_fdist = nltk.FreqDist()\n",
    "    for word in brown.words():\n",
    "        word = word.lower()\n",
    "        suffix_fdist[word[-1:]] += 1\n",
    "        suffix_fdist[word[-2:]] += 1\n",
    "        suffix_fdist[word[-3:]] += 1\n",
    "    common_suffixes = [suffix for (suffix, count) in suffix_fdist.most_common(n)]\n",
    "    return common_suffixes"
   ]
  },
  {
   "cell_type": "code",
   "execution_count": 227,
   "metadata": {},
   "outputs": [],
   "source": [
    "common_suffixes = get_common_suffixes(brown.words(), 100)"
   ]
  },
  {
   "cell_type": "code",
   "execution_count": 229,
   "metadata": {},
   "outputs": [],
   "source": [
    "def pos_features(word):\n",
    "    features = {}\n",
    "    for suffix in common_suffixes:\n",
    "        features['endswith({})'.format(suffix)] = word.lower().endswith(suffix)\n",
    "    return features"
   ]
  },
  {
   "cell_type": "code",
   "execution_count": 236,
   "metadata": {},
   "outputs": [
    {
     "data": {
      "text/plain": [
       "0.668"
      ]
     },
     "execution_count": 236,
     "metadata": {},
     "output_type": "execute_result"
    }
   ],
   "source": [
    "tagged_words = brown.tagged_words(categories='news')[:5000]\n",
    "featuresets = [(pos_features(n), g) for (n,g) in tagged_words]\n",
    "size = int(len(featuresets) * 0.1)\n",
    "train_set, test_set = featuresets[size:], featuresets[:size]\n",
    "classifier = nltk.DecisionTreeClassifier.train(train_set)\n",
    "nltk.classify.accuracy(classifier, test_set)"
   ]
  },
  {
   "cell_type": "code",
   "execution_count": 237,
   "metadata": {},
   "outputs": [
    {
     "data": {
      "text/plain": [
       "'NNS'"
      ]
     },
     "execution_count": 237,
     "metadata": {},
     "output_type": "execute_result"
    }
   ],
   "source": [
    "classifier.classify(pos_features('cats'))"
   ]
  },
  {
   "cell_type": "code",
   "execution_count": 238,
   "metadata": {},
   "outputs": [
    {
     "name": "stdout",
     "output_type": "stream",
     "text": [
      "if endswith(the) == False: \n",
      "  if endswith(s) == False: \n",
      "    if endswith(,) == False: \n",
      "      if endswith(.) == False: return 'PPS'\n",
      "      if endswith(.) == True: return '.'\n",
      "    if endswith(,) == True: return ','\n",
      "  if endswith(s) == True: \n",
      "    if endswith(was) == False: \n",
      "      if endswith(is) == False: return 'NNS'\n",
      "      if endswith(is) == True: return 'NN'\n",
      "    if endswith(was) == True: return 'BEDZ'\n",
      "if endswith(the) == True: return 'AT'\n",
      "\n"
     ]
    }
   ],
   "source": [
    "print(classifier.pseudocode(depth=4))"
   ]
  },
  {
   "cell_type": "code",
   "execution_count": 239,
   "metadata": {},
   "outputs": [],
   "source": [
    "def pos_features(sentence, i):\n",
    "    features = {\"suffix(1)\": sentence[i][-1:],\n",
    "                \"suffix(2)\": sentence[i][-2:],\n",
    "                \"suffix(3)\": sentence[i][-3:]}\n",
    "    if i == 0:\n",
    "        features[\"prev-word\"] = \"<START>\"\n",
    "    else:\n",
    "        features[\"prev-word\"] = sentence[i-1]\n",
    "    return features"
   ]
  },
  {
   "cell_type": "code",
   "execution_count": 240,
   "metadata": {},
   "outputs": [
    {
     "data": {
      "text/plain": [
       "{'suffix(1)': 'n', 'suffix(2)': 'on', 'suffix(3)': 'ion', 'prev-word': 'an'}"
      ]
     },
     "execution_count": 240,
     "metadata": {},
     "output_type": "execute_result"
    }
   ],
   "source": [
    "pos_features(brown.sents()[0], 8)"
   ]
  },
  {
   "cell_type": "code",
   "execution_count": 241,
   "metadata": {},
   "outputs": [
    {
     "data": {
      "text/plain": [
       "0.7891596220785678"
      ]
     },
     "execution_count": 241,
     "metadata": {},
     "output_type": "execute_result"
    }
   ],
   "source": [
    "tagged_sents = brown.tagged_sents(categories='news')\n",
    "featuresets = []\n",
    "for tagged_sent in tagged_sents:\n",
    "    untagged_sent = nltk.tag.untag(tagged_sent)\n",
    "    for i, (word, tag) in enumerate(tagged_sent):\n",
    "        featuresets.append( (pos_features(untagged_sent, i), tag) )\n",
    "\n",
    "size = int(len(featuresets) * 0.1)\n",
    "train_set, test_set = featuresets[size:], featuresets[:size]\n",
    "classifier = nltk.NaiveBayesClassifier.train(train_set)\n",
    "nltk.classify.accuracy(classifier, test_set)"
   ]
  },
  {
   "cell_type": "code",
   "execution_count": 246,
   "metadata": {},
   "outputs": [],
   "source": [
    "def pos_features(sentence, i, history):\n",
    "    features = {\"suffix(1)\": sentence[i][-1:],\n",
    "                 \"suffix(2)\": sentence[i][-2:],\n",
    "                 \"suffix(3)\": sentence[i][-3:]}\n",
    "    if i == 0:\n",
    "        features[\"prev-word\"] = \"<START>\"\n",
    "        features[\"prev-tag\"] = \"<START>\"\n",
    "    else:\n",
    "        features[\"prev-word\"] = sentence[i-1]\n",
    "        features[\"prev-tag\"] = history[i-1]\n",
    "    return features\n",
    "\n",
    "class ConsecutivePosTagger(nltk.TaggerI):\n",
    "    def __init__(self, train_sents):\n",
    "        train_set = []\n",
    "        for tagged_sent in train_sents:\n",
    "            untagged_sent = nltk.tag.untag(tagged_sent)\n",
    "            history = []\n",
    "            for i, (word, tag) in enumerate(tagged_sent):\n",
    "                featureset = pos_features(untagged_sent, i, history)\n",
    "                train_set.append( (featureset, tag) )\n",
    "                history.append(tag)\n",
    "        self.classifier = nltk.NaiveBayesClassifier.train(train_set)\n",
    "\n",
    "    def tag(self, sentence):\n",
    "        history = []\n",
    "        for i, word in enumerate(sentence):\n",
    "            featureset = pos_features(sentence, i, history)\n",
    "            tag = self.classifier.classify(featureset)\n",
    "            history.append(tag)\n",
    "        return zip(sentence, history)"
   ]
  },
  {
   "cell_type": "code",
   "execution_count": 247,
   "metadata": {},
   "outputs": [
    {
     "data": {
      "text/plain": [
       "0.7980528511821975"
      ]
     },
     "execution_count": 247,
     "metadata": {},
     "output_type": "execute_result"
    }
   ],
   "source": [
    "tagged_sents = brown.tagged_sents(categories='news')\n",
    "size = int(len(tagged_sents) * 0.1)\n",
    "train_sents, test_sents = tagged_sents[size:], tagged_sents[:size]\n",
    "tagger = ConsecutivePosTagger(train_sents)\n",
    "tagger.evaluate(test_sents)"
   ]
  },
  {
   "cell_type": "code",
   "execution_count": 250,
   "metadata": {},
   "outputs": [],
   "source": [
    "sents = nltk.corpus.treebank_raw.sents()\n",
    "tokens = []\n",
    "boundaries = set()\n",
    "offset = 0\n",
    "for sent in sents:\n",
    "    tokens.extend(sent)\n",
    "    offset += len(sent)\n",
    "    boundaries.add(offset-1)"
   ]
  },
  {
   "cell_type": "code",
   "execution_count": 251,
   "metadata": {},
   "outputs": [],
   "source": [
    "def punct_features(tokens, i):\n",
    "    return {'next-word-capitalized': tokens[i+1][0].isupper(),\n",
    "            'prev-word': tokens[i-1].lower(),\n",
    "            'punct': tokens[i],\n",
    "            'prev-word-is-one-char': len(tokens[i-1]) == 1}"
   ]
  },
  {
   "cell_type": "code",
   "execution_count": 252,
   "metadata": {},
   "outputs": [],
   "source": [
    "featuresets = [(punct_features(tokens, i), (i in boundaries))\n",
    "               for i in range(1, len(tokens)-1)\n",
    "               if tokens[i] in '.?!']"
   ]
  },
  {
   "cell_type": "code",
   "execution_count": 253,
   "metadata": {},
   "outputs": [
    {
     "data": {
      "text/plain": [
       "0.936026936026936"
      ]
     },
     "execution_count": 253,
     "metadata": {},
     "output_type": "execute_result"
    }
   ],
   "source": [
    "size = int(len(featuresets) * 0.1)\n",
    "train_set, test_set = featuresets[size:], featuresets[:size]\n",
    "classifier = nltk.NaiveBayesClassifier.train(train_set)\n",
    "nltk.classify.accuracy(classifier, test_set)"
   ]
  },
  {
   "cell_type": "code",
   "execution_count": 255,
   "metadata": {},
   "outputs": [],
   "source": [
    "def segment_sentences(words):\n",
    "    start = 0\n",
    "    sents = []\n",
    "    for i, word in enumerate(words):\n",
    "        if word in '.?!' and classifier.classify(punct_features(words, i)) == True:\n",
    "            sents.append(words[start:i+1])\n",
    "            start = i+1\n",
    "    if start < len(words):\n",
    "        sents.append(words[start:])\n",
    "    return sents"
   ]
  },
  {
   "cell_type": "code",
   "execution_count": 257,
   "metadata": {},
   "outputs": [],
   "source": [
    "posts = nltk.corpus.nps_chat.xml_posts()[:10000]\n",
    "def dialogue_act_features(post):\n",
    "    features = {}\n",
    "    for word in nltk.word_tokenize(post):\n",
    "        features['contains({})'.format(word.lower())] = True\n",
    "    return features"
   ]
  },
  {
   "cell_type": "code",
   "execution_count": 258,
   "metadata": {},
   "outputs": [
    {
     "name": "stdout",
     "output_type": "stream",
     "text": [
      "0.668\n"
     ]
    }
   ],
   "source": [
    "featuresets = [(dialogue_act_features(post.text), post.get('class'))\n",
    "                for post in posts]\n",
    "size = int(len(featuresets) * 0.1)\n",
    "train_set, test_set = featuresets[size:], featuresets[:size]\n",
    "classifier = nltk.NaiveBayesClassifier.train(train_set)\n",
    "print(nltk.classify.accuracy(classifier, test_set))"
   ]
  },
  {
   "cell_type": "code",
   "execution_count": 264,
   "metadata": {},
   "outputs": [],
   "source": [
    "def rte_features(rtepair):\n",
    "    extractor = nltk.RTEFeatureExtractor(rtepair)\n",
    "    features = {}\n",
    "    features['word_overlap'] = len(extractor.overlap('word'))\n",
    "    features['word_hyp_extra'] = len(extractor.hyp_extra('word'))\n",
    "    features['ne_overlap'] = len(extractor.overlap('ne'))\n",
    "    features['ne_hyp_extra'] = len(extractor.hyp_extra('ne'))\n",
    "    return features"
   ]
  },
  {
   "cell_type": "code",
   "execution_count": 267,
   "metadata": {},
   "outputs": [
    {
     "name": "stdout",
     "output_type": "stream",
     "text": [
      "{'China', 'Soviet', 'together', 'representing', 'association', 'four', 'central', 'Davudi', 'fight', 'binds', 'republics', 'that', 'was', 'Asia', 'former', 'fledgling', 'operation', 'Iran', 'Russia', 'meeting', 'SCO', 'at', 'Parviz', 'Shanghai', 'Organisation', 'Co', 'terrorism.'}\n",
      "{'member', 'SCO.', 'China'}\n",
      "set()\n",
      "{'China'}\n",
      "{'member'}\n"
     ]
    }
   ],
   "source": [
    "rtepair = nltk.corpus.rte.pairs(['rte3_dev.xml'])[33]\n",
    "extractor = nltk.RTEFeatureExtractor(rtepair)\n",
    "print(extractor.text_words)\n",
    "print(extractor.hyp_words)\n",
    "print(extractor.overlap('word'))\n",
    "print(extractor.overlap('ne'))\n",
    "print(extractor.hyp_extra('word'))"
   ]
  },
  {
   "cell_type": "code",
   "execution_count": 269,
   "metadata": {},
   "outputs": [
    {
     "name": "stdout",
     "output_type": "stream",
     "text": [
      "    |                                         N                      |\n",
      "    |      N      I      A      J             N             V      N |\n",
      "    |      N      N      T      J      .      S      ,      B      P |\n",
      "----+----------------------------------------------------------------+\n",
      " NN | <11.9%>  0.0%      .   0.2%      .   0.0%      .   0.2%   0.0% |\n",
      " IN |   0.0%  <9.0%>     .      .      .   0.0%      .      .      . |\n",
      " AT |      .      .  <8.6%>     .      .      .      .      .      . |\n",
      " JJ |   1.6%      .      .  <4.0%>     .      .      .   0.0%   0.0% |\n",
      "  . |      .      .      .      .  <4.8%>     .      .      .      . |\n",
      "NNS |   1.5%      .      .      .      .  <3.3%>     .      .   0.0% |\n",
      "  , |      .      .      .      .      .      .  <4.4%>     .      . |\n",
      " VB |   0.9%      .      .   0.0%      .      .      .  <2.4%>     . |\n",
      " NP |   1.0%      .      .   0.0%      .      .      .      .  <1.9%>|\n",
      "----+----------------------------------------------------------------+\n",
      "(row = reference; col = test)\n",
      "\n"
     ]
    }
   ],
   "source": [
    "def tag_list(tagged_sents):\n",
    "    return [tag for sent in tagged_sents for (word, tag) in sent]\n",
    "def apply_tagger(tagger, corpus):\n",
    "    return [tagger.tag(nltk.tag.untag(sent)) for sent in corpus]\n",
    "gold = tag_list(brown.tagged_sents(categories='editorial'))\n",
    "test = tag_list(apply_tagger(t2, brown.tagged_sents(categories='editorial')))\n",
    "cm = nltk.ConfusionMatrix(gold, test)\n",
    "print(cm.pretty_format(sort_by_count=True, show_percents=True, truncate=9))"
   ]
  },
  {
   "cell_type": "code",
   "execution_count": 270,
   "metadata": {},
   "outputs": [
    {
     "name": "stdout",
     "output_type": "stream",
     "text": [
      "-0.0\n"
     ]
    }
   ],
   "source": [
    "import math\n",
    "def entropy(labels):\n",
    "    freqdist = nltk.FreqDist(labels)\n",
    "    probs = [freqdist.freq(l) for l in freqdist]\n",
    "    return -sum(p * math.log(p,2) for p in probs)\n",
    "print(entropy(['male', 'male', 'male', 'male']))"
   ]
  },
  {
   "cell_type": "code",
   "execution_count": 271,
   "metadata": {},
   "outputs": [
    {
     "name": "stdout",
     "output_type": "stream",
     "text": [
      "0.8112781244591328\n"
     ]
    }
   ],
   "source": [
    "print(entropy(['male', 'female', 'male', 'male']))"
   ]
  },
  {
   "cell_type": "code",
   "execution_count": 272,
   "metadata": {},
   "outputs": [
    {
     "name": "stdout",
     "output_type": "stream",
     "text": [
      "1.0\n"
     ]
    }
   ],
   "source": [
    "print(entropy(['female', 'male', 'female', 'male']))"
   ]
  },
  {
   "cell_type": "code",
   "execution_count": 273,
   "metadata": {},
   "outputs": [
    {
     "name": "stdout",
     "output_type": "stream",
     "text": [
      "0.8112781244591328\n"
     ]
    }
   ],
   "source": [
    "print(entropy(['female', 'female', 'male', 'female']))"
   ]
  },
  {
   "cell_type": "code",
   "execution_count": 274,
   "metadata": {},
   "outputs": [
    {
     "name": "stdout",
     "output_type": "stream",
     "text": [
      "-0.0\n"
     ]
    }
   ],
   "source": [
    "print(entropy(['female', 'female', 'female', 'female'])) "
   ]
  },
  {
   "cell_type": "code",
   "execution_count": null,
   "metadata": {},
   "outputs": [],
   "source": []
  }
 ],
 "metadata": {
  "kernelspec": {
   "display_name": "Python 3",
   "language": "python",
   "name": "python3"
  },
  "language_info": {
   "codemirror_mode": {
    "name": "ipython",
    "version": 3
   },
   "file_extension": ".py",
   "mimetype": "text/x-python",
   "name": "python",
   "nbconvert_exporter": "python",
   "pygments_lexer": "ipython3",
   "version": "3.6.8rc1"
  }
 },
 "nbformat": 4,
 "nbformat_minor": 2
}
